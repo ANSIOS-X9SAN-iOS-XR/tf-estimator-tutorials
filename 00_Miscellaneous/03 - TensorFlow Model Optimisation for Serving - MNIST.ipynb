{
 "cells": [
  {
   "cell_type": "markdown",
   "metadata": {},
   "source": [
    "# Optimising a TensorFlow SavedModel for Serving"
   ]
  },
  {
   "cell_type": "markdown",
   "metadata": {},
   "source": [
    "This notebooks shows how to optimise the TensorFlow exported SavedModel by **shrinking** its size (to have less memory and disk footprints), and **improving** prediction latency. This can be accopmlished by applying the following:\n",
    "* **Freezing**: That is, converting the variables stored in a checkpoint file of the SavedModel into constants stored directly in the model graph.\n",
    "* **Pruning**: That is, stripping unused nodes during the prediction path of the graph, merging duplicate nodes, as well as removing other node ops like summary, identity, etc.\n",
    "* **Quantisation**:  That is, converting any large float Const op into an eight-bit equivalent, followed by a float conversion op so that the result is usable by subsequent nodes.\n",
    "* **Other refinements**: That includes constant folding, batch_norm folding, fusing convolusion, etc.\n",
    "\n",
    "The optimisation operations we apply in this example are from the TensorFlow [Graph Conversion Tool](https://github.com/tensorflow/tensorflow/blob/master/tensorflow/tools/graph_transforms/README.md#fold_constants), which is a c++ command-line tool. We use the Python APIs to call the c++ libraries. \n",
    "\n",
    "The Graph Transform Tool is designed to work on models that are saved as GraphDef files, usually in a binary protobuf format. However, the model exported after training and estimator is in SavedModel format (saved_model.pb file + variables folder with variables.data-* and variables.index files). \n",
    "\n",
    "We need to optimise the mode and keep it the SavedModel format. Thus, the optimisation steps will be:\n",
    "1. Freeze the SavedModel: SavedModel -> GraphDef\n",
    "2. Optimisae the freezed model: GraphDef -> GraphDef\n",
    "3. Convert the optimised freezed model to SavedModel: GraphDef -> SavedModel"
   ]
  },
  {
   "cell_type": "code",
   "execution_count": 1,
   "metadata": {},
   "outputs": [
    {
     "name": "stdout",
     "output_type": "stream",
     "text": [
      "TensorFlow : 1.10.1\n"
     ]
    }
   ],
   "source": [
    "import os\n",
    "import numpy as np\n",
    "from datetime import datetime\n",
    "\n",
    "import tensorflow as tf\n",
    "from tensorflow import data\n",
    "\n",
    "print \"TensorFlow : {}\".format(tf.__version__)"
   ]
  },
  {
   "cell_type": "markdown",
   "metadata": {},
   "source": [
    "## 1. Train and Export a TensorFlow DNNClassifier"
   ]
  },
  {
   "cell_type": "markdown",
   "metadata": {},
   "source": [
    "### 1.1 Import Data"
   ]
  },
  {
   "cell_type": "code",
   "execution_count": 2,
   "metadata": {},
   "outputs": [
    {
     "name": "stdout",
     "output_type": "stream",
     "text": [
      "WARNING:tensorflow:From <ipython-input-2-d053803e8488>:1: load_dataset (from tensorflow.contrib.learn.python.learn.datasets) is deprecated and will be removed in a future version.\n",
      "Instructions for updating:\n",
      "Please use tf.data.\n",
      "WARNING:tensorflow:From /Users/lramsey/miniconda2/envs/mli/lib/python2.7/site-packages/tensorflow/contrib/learn/python/learn/datasets/__init__.py:80: load_mnist (from tensorflow.contrib.learn.python.learn.datasets.mnist) is deprecated and will be removed in a future version.\n",
      "Instructions for updating:\n",
      "Please use alternatives such as official/mnist/dataset.py from tensorflow/models.\n",
      "WARNING:tensorflow:From /Users/lramsey/miniconda2/envs/mli/lib/python2.7/site-packages/tensorflow/contrib/learn/python/learn/datasets/mnist.py:300: read_data_sets (from tensorflow.contrib.learn.python.learn.datasets.mnist) is deprecated and will be removed in a future version.\n",
      "Instructions for updating:\n",
      "Please use alternatives such as official/mnist/dataset.py from tensorflow/models.\n",
      "WARNING:tensorflow:From /Users/lramsey/miniconda2/envs/mli/lib/python2.7/site-packages/tensorflow/contrib/learn/python/learn/datasets/mnist.py:260: maybe_download (from tensorflow.contrib.learn.python.learn.datasets.base) is deprecated and will be removed in a future version.\n",
      "Instructions for updating:\n",
      "Please write your own downloading logic.\n",
      "WARNING:tensorflow:From /Users/lramsey/miniconda2/envs/mli/lib/python2.7/site-packages/tensorflow/contrib/learn/python/learn/datasets/base.py:252: wrapped_fn (from tensorflow.contrib.learn.python.learn.datasets.base) is deprecated and will be removed in a future version.\n",
      "Instructions for updating:\n",
      "Please use urllib or similar directly.\n",
      "Successfully downloaded train-images-idx3-ubyte.gz 9912422 bytes.\n",
      "WARNING:tensorflow:From /Users/lramsey/miniconda2/envs/mli/lib/python2.7/site-packages/tensorflow/contrib/learn/python/learn/datasets/mnist.py:262: extract_images (from tensorflow.contrib.learn.python.learn.datasets.mnist) is deprecated and will be removed in a future version.\n",
      "Instructions for updating:\n",
      "Please use tf.data to implement this functionality.\n",
      "Extracting MNIST-data/train-images-idx3-ubyte.gz\n",
      "Successfully downloaded train-labels-idx1-ubyte.gz 28881 bytes.\n",
      "WARNING:tensorflow:From /Users/lramsey/miniconda2/envs/mli/lib/python2.7/site-packages/tensorflow/contrib/learn/python/learn/datasets/mnist.py:267: extract_labels (from tensorflow.contrib.learn.python.learn.datasets.mnist) is deprecated and will be removed in a future version.\n",
      "Instructions for updating:\n",
      "Please use tf.data to implement this functionality.\n",
      "Extracting MNIST-data/train-labels-idx1-ubyte.gz\n",
      "Successfully downloaded t10k-images-idx3-ubyte.gz 1648877 bytes.\n",
      "Extracting MNIST-data/t10k-images-idx3-ubyte.gz\n",
      "Successfully downloaded t10k-labels-idx1-ubyte.gz 4542 bytes.\n",
      "Extracting MNIST-data/t10k-labels-idx1-ubyte.gz\n",
      "WARNING:tensorflow:From /Users/lramsey/miniconda2/envs/mli/lib/python2.7/site-packages/tensorflow/contrib/learn/python/learn/datasets/mnist.py:290: __init__ (from tensorflow.contrib.learn.python.learn.datasets.mnist) is deprecated and will be removed in a future version.\n",
      "Instructions for updating:\n",
      "Please use alternatives such as official/mnist/dataset.py from tensorflow/models.\n"
     ]
    }
   ],
   "source": [
    "mnist = tf.contrib.learn.datasets.load_dataset(\"mnist\")\n",
    "train_data = mnist.train.images\n",
    "train_labels = np.asarray(mnist.train.labels, dtype=np.int32)\n",
    "eval_data = mnist.test.images\n",
    "eval_labels = np.asarray(mnist.test.labels, dtype=np.int32)\n",
    "NUM_CLASSES = 10"
   ]
  },
  {
   "cell_type": "code",
   "execution_count": 3,
   "metadata": {},
   "outputs": [
    {
     "name": "stdout",
     "output_type": "stream",
     "text": [
      "Train data shape: (55000, 784)\n",
      "Eval data shape: (10000, 784)\n"
     ]
    }
   ],
   "source": [
    "print \"Train data shape: {}\".format(train_data.shape)\n",
    "print \"Eval data shape: {}\".format(eval_data.shape)"
   ]
  },
  {
   "cell_type": "markdown",
   "metadata": {},
   "source": [
    "### 1.2 Estimator"
   ]
  },
  {
   "cell_type": "markdown",
   "metadata": {},
   "source": [
    "#### 1.2.1 Model Function"
   ]
  },
  {
   "cell_type": "code",
   "execution_count": 4,
   "metadata": {},
   "outputs": [],
   "source": [
    "def model_fn(features, labels, mode, params):\n",
    "\n",
    "    # conv layers\n",
    "    def _cnn_layers(input_layer, num_conv_layers, init_filters, mode):\n",
    "\n",
    "        inputs = input_layer\n",
    "\n",
    "        for i in range(num_conv_layers):\n",
    "\n",
    "            current_filters = init_filters * (2**i)\n",
    "            \n",
    "            conv = tf.layers.conv2d(inputs=inputs, kernel_size=3, filters=current_filters, strides=1,\n",
    "                                     padding='SAME', name='conv{}'.format(i+1))\n",
    "            \n",
    "            pool = tf.layers.max_pooling2d(inputs=conv, pool_size=2, strides=2,\n",
    "                                            padding='SAME', name='pool{}'.format(i+1))\n",
    "            \n",
    "            batch_norm = tf.layers.batch_normalization(pool, name='batch_norm{}'.format(i+1))\n",
    "            \n",
    "            if params.debug == True:\n",
    "                tf.summary.histogram('Batch_Normalisation', batch_norm)\n",
    "\n",
    "            if mode==tf.estimator.ModeKeys.TRAIN:\n",
    "                batch_norm = tf.nn.dropout(batch_norm, params.drop_out)\n",
    "                \n",
    "            inputs = batch_norm\n",
    "\n",
    "        outputs = batch_norm\n",
    "        return outputs\n",
    "\n",
    "    # model body\n",
    "    def _inference(features, mode, params):\n",
    "        \n",
    "        input_layer = tf.reshape(features[\"input_image\"], [-1, 28, 28, 1], name='input_image')\n",
    "\n",
    "        conv_outputs = _cnn_layers(input_layer, params.num_conv_layers, params.init_filters, mode)\n",
    "        \n",
    "        flatten = tf.layers.flatten(inputs=conv_outputs, name='flatten')\n",
    "        \n",
    "        fully_connected = tf.contrib.layers.stack(inputs=flatten, layer=tf.contrib.layers.fully_connected,\n",
    "                                                stack_args=params.hidden_units,\n",
    "                                                activation_fn=tf.nn.relu)\n",
    "        if params.debug == True:\n",
    "            tf.summary.histogram('Fully_Connected', fully_connected)\n",
    "        \n",
    "        # unused_layer\n",
    "        unused_layers = tf.layers.dense(flatten, units=100, name='unused', activation=tf.nn.relu)\n",
    "        \n",
    "        logits = tf.layers.dense(fully_connected, units=NUM_CLASSES, name='logits', activation=None)\n",
    "        return logits\n",
    "    \n",
    "\n",
    "    # model head\n",
    "    head = tf.contrib.estimator.multi_class_head(n_classes=NUM_CLASSES)\n",
    "    \n",
    "    return head.create_estimator_spec(\n",
    "            features=features,\n",
    "            mode=mode,\n",
    "            logits=_inference(features, mode, params),\n",
    "            labels=labels,\n",
    "            optimizer=tf.train.AdamOptimizer(params.learning_rate)\n",
    "    )"
   ]
  },
  {
   "cell_type": "markdown",
   "metadata": {},
   "source": [
    "#### 1.2.2 Create Custom Estimator"
   ]
  },
  {
   "cell_type": "code",
   "execution_count": 5,
   "metadata": {},
   "outputs": [],
   "source": [
    "def create_estimator(params, run_config):\n",
    "\n",
    "    # evaluation metric_fn\n",
    "    def _metric_fn(labels, predictions):\n",
    "\n",
    "        metrics = {}\n",
    "        pred_class = predictions['class_ids']\n",
    "        metrics['micro_accuracy'] = tf.metrics.mean_per_class_accuracy(\n",
    "            labels=labels, predictions=pred_class, num_classes=NUM_CLASSES\n",
    "        )\n",
    "\n",
    "        return metrics\n",
    "\n",
    "    mnist_classifier = tf.estimator.Estimator(\n",
    "        model_fn=model_fn, params=params, config=run_config)\n",
    "\n",
    "    mnist_classifier = tf.contrib.estimator.add_metrics(\n",
    "        estimator=mnist_classifier, metric_fn=_metric_fn)\n",
    "    \n",
    "    return mnist_classifier"
   ]
  },
  {
   "cell_type": "markdown",
   "metadata": {},
   "source": [
    "### 1.3 Train and Evaluate"
   ]
  },
  {
   "cell_type": "markdown",
   "metadata": {},
   "source": [
    "#### 1.3.1 Experiment Function"
   ]
  },
  {
   "cell_type": "code",
   "execution_count": 6,
   "metadata": {},
   "outputs": [],
   "source": [
    "def run_experiment(hparam, run_config):\n",
    "    \n",
    "    train_spec = tf.estimator.TrainSpec(\n",
    "        input_fn = tf.estimator.inputs.numpy_input_fn(\n",
    "            x={\"input_image\": train_data},\n",
    "            y=train_labels,\n",
    "            batch_size=hparam.batch_size,\n",
    "            num_epochs=None,\n",
    "            shuffle=True),\n",
    "        max_steps=hparams.max_training_steps\n",
    "    )\n",
    "\n",
    "    eval_spec = tf.estimator.EvalSpec(\n",
    "        input_fn = tf.estimator.inputs.numpy_input_fn(\n",
    "            x={\"input_image\": train_data},\n",
    "            y=train_labels,\n",
    "            batch_size=hparam.batch_size,\n",
    "            num_epochs=1,\n",
    "            shuffle=False),\n",
    "        steps=None,\n",
    "        throttle_secs=hparams.eval_throttle_secs\n",
    "    )\n",
    "\n",
    "    tf.logging.set_verbosity(tf.logging.INFO)\n",
    "\n",
    "    time_start = datetime.utcnow() \n",
    "    print(\"Experiment started at {}\".format(time_start.strftime(\"%H:%M:%S\")))\n",
    "    print(\".......................................\") \n",
    "\n",
    "    estimator = create_estimator(hparams, run_config)\n",
    "\n",
    "    tf.estimator.train_and_evaluate(\n",
    "        estimator=estimator,\n",
    "        train_spec=train_spec, \n",
    "        eval_spec=eval_spec\n",
    "    )\n",
    "\n",
    "    time_end = datetime.utcnow() \n",
    "    print(\".......................................\")\n",
    "    print(\"Experiment finished at {}\".format(time_end.strftime(\"%H:%M:%S\")))\n",
    "    print(\"\")\n",
    "    time_elapsed = time_end - time_start\n",
    "    print(\"Experiment elapsed time: {} seconds\".format(time_elapsed.total_seconds()))\n",
    "    \n",
    "    return estimator\n"
   ]
  },
  {
   "cell_type": "markdown",
   "metadata": {},
   "source": [
    "#### 1.3.2  Experiment Parameters"
   ]
  },
  {
   "cell_type": "code",
   "execution_count": 7,
   "metadata": {},
   "outputs": [],
   "source": [
    "MODELS_LOCATION = 'models/mnist'\n",
    "MODEL_NAME = 'cnn_classifier'\n",
    "model_dir = os.path.join(MODELS_LOCATION, MODEL_NAME)\n",
    "\n",
    "hparams  = tf.contrib.training.HParams(\n",
    "    batch_size=100,\n",
    "    hidden_units=[1024],\n",
    "    num_conv_layers=2, \n",
    "    init_filters=64,\n",
    "    drop_out=0.85,\n",
    "    max_training_steps=50,\n",
    "    eval_throttle_secs=10,\n",
    "    learning_rate=1e-3,\n",
    "    debug=True\n",
    ")\n",
    "\n",
    "run_config = tf.estimator.RunConfig(\n",
    "    tf_random_seed=19830610,\n",
    "    save_checkpoints_steps=1000,\n",
    "    keep_checkpoint_max=3,\n",
    "    model_dir=model_dir\n",
    ")"
   ]
  },
  {
   "cell_type": "markdown",
   "metadata": {},
   "source": [
    "### TensorFlow Graph \n",
    "![image](tensorboard-unused.jpeg)"
   ]
  },
  {
   "cell_type": "markdown",
   "metadata": {},
   "source": [
    "#### 1.3.3 Run Experiment"
   ]
  },
  {
   "cell_type": "code",
   "execution_count": 8,
   "metadata": {},
   "outputs": [
    {
     "name": "stdout",
     "output_type": "stream",
     "text": [
      "Experiment started at 15:55:08\n",
      ".......................................\n",
      "INFO:tensorflow:Using config: {'_save_checkpoints_secs': None, '_global_id_in_cluster': 0, '_session_config': None, '_keep_checkpoint_max': 3, '_tf_random_seed': 19830610, '_task_type': 'worker', '_train_distribute': None, '_is_chief': True, '_cluster_spec': <tensorflow.python.training.server_lib.ClusterSpec object at 0x128027990>, '_model_dir': 'models/mnist/cnn_classifier', '_num_worker_replicas': 1, '_task_id': 0, '_log_step_count_steps': 100, '_master': '', '_save_checkpoints_steps': 1000, '_keep_checkpoint_every_n_hours': 10000, '_evaluation_master': '', '_service': None, '_device_fn': None, '_save_summary_steps': 100, '_num_ps_replicas': 0}\n",
      "INFO:tensorflow:Using config: {'_save_checkpoints_secs': None, '_session_config': None, '_keep_checkpoint_max': 3, '_task_type': 'worker', '_global_id_in_cluster': 0, '_is_chief': True, '_cluster_spec': <tensorflow.python.training.server_lib.ClusterSpec object at 0x1280271d0>, '_evaluation_master': '', '_save_checkpoints_steps': 1000, '_keep_checkpoint_every_n_hours': 10000, '_service': None, '_num_ps_replicas': 0, '_tf_random_seed': 19830610, '_master': '', '_device_fn': None, '_num_worker_replicas': 1, '_task_id': 0, '_log_step_count_steps': 100, '_model_dir': 'models/mnist/cnn_classifier', '_train_distribute': None, '_save_summary_steps': 100}\n",
      "INFO:tensorflow:Running training and evaluation locally (non-distributed).\n",
      "INFO:tensorflow:Start train and evaluate loop. The evaluate will happen after every checkpoint. Checkpoint frequency is determined based on RunConfig arguments: save_checkpoints_steps 1000 or save_checkpoints_secs None.\n",
      "INFO:tensorflow:Calling model_fn.\n",
      "INFO:tensorflow:Calling model_fn.\n",
      "INFO:tensorflow:Done calling model_fn.\n",
      "INFO:tensorflow:Done calling model_fn.\n",
      "INFO:tensorflow:Create CheckpointSaverHook.\n",
      "INFO:tensorflow:Graph was finalized.\n",
      "INFO:tensorflow:Running local_init_op.\n",
      "INFO:tensorflow:Done running local_init_op.\n",
      "INFO:tensorflow:Saving checkpoints for 0 into models/mnist/cnn_classifier/model.ckpt.\n",
      "INFO:tensorflow:loss = 2.3111827, step = 1\n",
      "INFO:tensorflow:Saving checkpoints for 50 into models/mnist/cnn_classifier/model.ckpt.\n",
      "INFO:tensorflow:Calling model_fn.\n",
      "INFO:tensorflow:Calling model_fn.\n",
      "INFO:tensorflow:Done calling model_fn.\n",
      "INFO:tensorflow:Done calling model_fn.\n",
      "INFO:tensorflow:Starting evaluation at 2018-09-04-15:55:22\n",
      "INFO:tensorflow:Graph was finalized.\n",
      "INFO:tensorflow:Restoring parameters from models/mnist/cnn_classifier/model.ckpt-50\n",
      "INFO:tensorflow:Running local_init_op.\n",
      "INFO:tensorflow:Done running local_init_op.\n",
      "INFO:tensorflow:Finished evaluation at 2018-09-04-15:55:59\n",
      "INFO:tensorflow:Saving dict for global step 50: accuracy = 0.90041816, average_loss = 0.31054932, global_step = 50, loss = 0.31054932, micro_accuracy = 0.8989148\n",
      "INFO:tensorflow:Saving 'checkpoint_path' summary for global step 50: models/mnist/cnn_classifier/model.ckpt-50\n",
      "INFO:tensorflow:Loss for final step: 0.3941108.\n",
      ".......................................\n",
      "Experiment finished at 15:56:00\n",
      "\n",
      "Experiment elapsed time: 51.183428 seconds\n"
     ]
    }
   ],
   "source": [
    "if tf.gfile.Exists(model_dir):\n",
    "    print(\"Removing previous artifacts...\")\n",
    "    tf.gfile.DeleteRecursively(model_dir)\n",
    "    \n",
    "estimator = run_experiment(hparams, run_config)"
   ]
  },
  {
   "cell_type": "markdown",
   "metadata": {},
   "source": [
    "### 1.4 Export the model"
   ]
  },
  {
   "cell_type": "code",
   "execution_count": 9,
   "metadata": {},
   "outputs": [
    {
     "name": "stdout",
     "output_type": "stream",
     "text": [
      "INFO:tensorflow:Calling model_fn.\n",
      "INFO:tensorflow:Calling model_fn.\n",
      "INFO:tensorflow:Done calling model_fn.\n",
      "INFO:tensorflow:Done calling model_fn.\n",
      "INFO:tensorflow:Signatures INCLUDED in export for Eval: None\n",
      "INFO:tensorflow:Signatures INCLUDED in export for Classify: None\n",
      "INFO:tensorflow:Signatures INCLUDED in export for Regress: None\n",
      "INFO:tensorflow:Signatures INCLUDED in export for Predict: ['predict']\n",
      "INFO:tensorflow:Signatures INCLUDED in export for Train: None\n",
      "INFO:tensorflow:Signatures EXCLUDED from export because they cannot be be served via TensorFlow Serving APIs:\n",
      "INFO:tensorflow:'serving_default' : Classification input must be a single string Tensor; got {'input_image': <tf.Tensor 'input_image:0' shape=(?, 784) dtype=float32>}\n",
      "INFO:tensorflow:'classification' : Classification input must be a single string Tensor; got {'input_image': <tf.Tensor 'input_image:0' shape=(?, 784) dtype=float32>}\n",
      "WARNING:tensorflow:Export includes no default signature!\n",
      "INFO:tensorflow:Restoring parameters from models/mnist/cnn_classifier/model.ckpt-50\n",
      "INFO:tensorflow:Assets added to graph.\n",
      "INFO:tensorflow:No assets to write.\n",
      "INFO:tensorflow:SavedModel written to: models/mnist/cnn_classifier/export/temp-1536079934/saved_model.pb\n"
     ]
    },
    {
     "data": {
      "text/plain": [
       "'models/mnist/cnn_classifier/export/1536079934'"
      ]
     },
     "execution_count": 9,
     "metadata": {},
     "output_type": "execute_result"
    }
   ],
   "source": [
    "def make_serving_input_receiver_fn():\n",
    "    inputs = {'input_image': tf.placeholder(shape=[None,784], dtype=tf.float32, name='input_image')}\n",
    "    return tf.estimator.export.build_raw_serving_input_receiver_fn(inputs)\n",
    "\n",
    "export_dir = os.path.join(model_dir, 'export')\n",
    "\n",
    "if tf.gfile.Exists(export_dir):\n",
    "    tf.gfile.DeleteRecursively(export_dir)\n",
    "        \n",
    "estimator.export_savedmodel(\n",
    "    export_dir_base=export_dir,\n",
    "    serving_input_receiver_fn=make_serving_input_receiver_fn()\n",
    ")"
   ]
  },
  {
   "cell_type": "markdown",
   "metadata": {},
   "source": [
    "## 2. Inspect the Exported SavedModel"
   ]
  },
  {
   "cell_type": "code",
   "execution_count": 17,
   "metadata": {},
   "outputs": [
    {
     "name": "stdout",
     "output_type": "stream",
     "text": [
      "models/mnist/cnn_classifier/export/1536079934\n",
      "total 88\n",
      "drwxr-xr-x  4 lramsey  eng    128 Sep  4 12:52 .\n",
      "drwxr-xr-x  3 lramsey  eng     96 Sep  4 12:52 ..\n",
      "-rw-r--r--  1 lramsey  eng  44152 Sep  4 12:52 saved_model.pb\n",
      "drwxr-xr-x  4 lramsey  eng    128 Sep  4 12:52 variables\n",
      "total 55768\n",
      "drwxr-xr-x  4 lramsey  eng       128 Sep  4 12:52 .\n",
      "drwxr-xr-x  4 lramsey  eng       128 Sep  4 12:52 ..\n",
      "-rw-r--r--  1 lramsey  eng  28545472 Sep  4 12:52 variables.data-00000-of-00001\n",
      "-rw-r--r--  1 lramsey  eng       783 Sep  4 12:52 variables.index\n",
      "\n",
      "MetaGraphDef with tag-set: 'serve' contains the following SignatureDefs:\n",
      "\n",
      "signature_def['predict']:\n",
      "  The given SavedModel SignatureDef contains the following input(s):\n",
      "    inputs['input_image'] tensor_info:\n",
      "        dtype: DT_FLOAT\n",
      "        shape: (-1, 784)\n",
      "        name: input_image:0\n",
      "  The given SavedModel SignatureDef contains the following output(s):\n",
      "    outputs['class_ids'] tensor_info:\n",
      "        dtype: DT_INT64\n",
      "        shape: (-1, 1)\n",
      "        name: head/predictions/ExpandDims:0\n",
      "    outputs['classes'] tensor_info:\n",
      "        dtype: DT_STRING\n",
      "        shape: (-1, 1)\n",
      "        name: head/predictions/str_classes:0\n",
      "    outputs['logits'] tensor_info:\n",
      "        dtype: DT_FLOAT\n",
      "        shape: (-1, 10)\n",
      "        name: logits/BiasAdd:0\n",
      "    outputs['probabilities'] tensor_info:\n",
      "        dtype: DT_FLOAT\n",
      "        shape: (-1, 10)\n",
      "        name: head/predictions/probabilities:0\n",
      "  Method name is: tensorflow/serving/predict\n"
     ]
    }
   ],
   "source": [
    "%%bash\n",
    "\n",
    "saved_models_base=models/mnist/cnn_classifier/export/\n",
    "saved_model_dir=${saved_models_base}$(ls ${saved_models_base} | tail -n 1)\n",
    "echo ${saved_model_dir}\n",
    "ls -al ${saved_model_dir}\n",
    "ls -al ${saved_model_dir}/variables\n",
    "saved_model_cli show --dir=${saved_model_dir} --all"
   ]
  },
  {
   "cell_type": "markdown",
   "metadata": {},
   "source": [
    "## 3. Describe the SavedModel Graph (before optimisation)"
   ]
  },
  {
   "cell_type": "markdown",
   "metadata": {},
   "source": [
    "### Load GraphDef from a SavedModel Directory"
   ]
  },
  {
   "cell_type": "code",
   "execution_count": 23,
   "metadata": {},
   "outputs": [],
   "source": [
    "def get_graph_def_from_saved_model(saved_model_dir):\n",
    "    \n",
    "    print saved_model_dir\n",
    "    print \"\"\n",
    "    \n",
    "    from tensorflow.python.saved_model import tag_constants\n",
    "    \n",
    "    with tf.Session() as session:\n",
    "        meta_graph_def = tf.saved_model.loader.load(\n",
    "            session,\n",
    "            tags=[tag_constants.SERVING],\n",
    "            export_dir=saved_model_dir\n",
    "        )\n",
    "        \n",
    "    return meta_graph_def.graph_def"
   ]
  },
  {
   "cell_type": "markdown",
   "metadata": {},
   "source": [
    "### Describe GraphDef"
   ]
  },
  {
   "cell_type": "code",
   "execution_count": 24,
   "metadata": {},
   "outputs": [],
   "source": [
    "def describe_graph(graph_def, show_nodes=False):\n",
    "    \n",
    "    print 'Input Feature Nodes: {}'.format([node.name for node in graph_def.node if node.op=='Placeholder'])\n",
    "    print \"\"\n",
    "    print 'Unused Nodes: {}'.format([node.name for node in graph_def.node if 'unused'  in node.name])\n",
    "    print \"\"\n",
    "    print 'Output Nodes: {}'.format( [node.name for node in graph_def.node if 'predictions' in node.name])\n",
    "    print \"\"\n",
    "    print 'Quanitization Nodes: {}'.format( [node.name for node in graph_def.node if 'quant' in node.name])\n",
    "    print \"\"\n",
    "    print 'Constant Count: {}'.format( len([node for node in graph_def.node if node.op=='Const']))\n",
    "    print \"\"\n",
    "    print 'Variable Count: {}'.format( len([node for node in graph_def.node if 'Variable' in node.op]))\n",
    "    print \"\"\n",
    "    print 'Identity Count: {}'.format( len([node for node in graph_def.node if node.op=='Identity']))\n",
    "    print \"\"\n",
    "    print 'Total nodes: {}'.format( len(graph_def.node))\n",
    "    print ''\n",
    "    \n",
    "    if show_nodes==True:\n",
    "        for node in graph_def.node:\n",
    "            print 'Op:{} - Name: {}'.format(node.op, node.name)"
   ]
  },
  {
   "cell_type": "code",
   "execution_count": 20,
   "metadata": {},
   "outputs": [
    {
     "name": "stdout",
     "output_type": "stream",
     "text": [
      "models/mnist/cnn_classifier/export/1536079934\n",
      "\n",
      "INFO:tensorflow:Restoring parameters from models/mnist/cnn_classifier/export/1536079934/variables/variables\n",
      "Input Feature Nodes: [u'input_image']\n",
      "\n",
      "Unused Nodes: [u'unused/kernel/Initializer/random_uniform/shape', u'unused/kernel/Initializer/random_uniform/min', u'unused/kernel/Initializer/random_uniform/max', u'unused/kernel/Initializer/random_uniform/RandomUniform', u'unused/kernel/Initializer/random_uniform/sub', u'unused/kernel/Initializer/random_uniform/mul', u'unused/kernel/Initializer/random_uniform', u'unused/kernel', u'unused/kernel/Assign', u'unused/kernel/read', u'unused/bias/Initializer/zeros', u'unused/bias', u'unused/bias/Assign', u'unused/bias/read', u'unused/MatMul', u'unused/BiasAdd', u'unused/Relu']\n",
      "\n",
      "Output Nodes: [u'head/predictions/class_ids/dimension', u'head/predictions/class_ids', u'head/predictions/ExpandDims/dim', u'head/predictions/ExpandDims', u'head/predictions/str_classes', u'head/predictions/probabilities']\n",
      "\n",
      "Quanitization Nodes: []\n",
      "\n",
      "Constant Count: 61\n",
      "\n",
      "Variable Count: 19\n",
      "\n",
      "Identity Count: 21\n",
      "\n",
      "Total nodes: 211\n",
      "\n"
     ]
    }
   ],
   "source": [
    "saved_model_dir = os.path.join(export_dir, os.listdir(export_dir)[-1]) \n",
    "\n",
    "describe_graph(get_graph_def_from_saved_model(saved_model_dir))"
   ]
  },
  {
   "cell_type": "markdown",
   "metadata": {},
   "source": [
    "### Get model size"
   ]
  },
  {
   "cell_type": "code",
   "execution_count": 34,
   "metadata": {},
   "outputs": [],
   "source": [
    "def get_size(model_dir, model_file='saved_model.pb', output_vars=True):\n",
    "    \n",
    "    print model_dir\n",
    "    print \"\"\n",
    "    \n",
    "    pb_size = os.path.getsize(os.path.join(model_dir, model_file))\n",
    "    \n",
    "    print \"Model size: {} KB\".format(round(pb_size/(1024.0),3))\n",
    "\n",
    "    variables_size = 0\n",
    "    if output_vars:\n",
    "        if os.path.exists(os.path.join(model_dir,'variables/variables.data-00000-of-00001')):\n",
    "            variables_size = os.path.getsize(os.path.join(model_dir,'variables/variables.data-00000-of-00001'))\n",
    "            variables_size += os.path.getsize(os.path.join(model_dir,'variables/variables.index'))\n",
    "\n",
    "        print \"Variables size: {} KB\".format(round( variables_size/(1024.0),3))\n",
    "\n",
    "    print \"Total Size: {} KB\".format(round((pb_size + variables_size)/(1024.0),3))"
   ]
  },
  {
   "cell_type": "code",
   "execution_count": 55,
   "metadata": {},
   "outputs": [
    {
     "name": "stdout",
     "output_type": "stream",
     "text": [
      "models/mnist/cnn_classifier/export/1536079934\n",
      "\n",
      "Model size: 43.117 KB\n",
      "Variables size: 27877.202 KB\n",
      "Total Size: 27920.319 KB\n"
     ]
    }
   ],
   "source": [
    "get_size(saved_model_dir)"
   ]
  },
  {
   "cell_type": "markdown",
   "metadata": {},
   "source": [
    "## 4. Test Prediction with SavedModel "
   ]
  },
  {
   "cell_type": "markdown",
   "metadata": {},
   "source": [
    "### Prediction with SavedModel"
   ]
  },
  {
   "cell_type": "code",
   "execution_count": 27,
   "metadata": {},
   "outputs": [],
   "source": [
    "def inference_test(saved_model_dir, signature=\"predict\", repeat=10):\n",
    "    tf.logging.set_verbosity(tf.logging.ERROR)\n",
    "    \n",
    "    time_start = datetime.utcnow() \n",
    "    \n",
    "    predictor = tf.contrib.predictor.from_saved_model(\n",
    "        export_dir=saved_model_dir,\n",
    "        signature_def_key=signature\n",
    "    )\n",
    "    time_end = datetime.utcnow() \n",
    "        \n",
    "    time_elapsed = time_end - time_start\n",
    "   \n",
    "    print \"\"\n",
    "    print(\"Model loading time: {} seconds\".format(time_elapsed.total_seconds()))\n",
    "    print \"\"\n",
    "    \n",
    "    time_start = datetime.utcnow() \n",
    "    output = None\n",
    "    for i in range(repeat):\n",
    "        output = predictor(\n",
    "            {\n",
    "                'input_image': eval_data[:10]\n",
    "            }\n",
    "        )\n",
    "    \n",
    "    time_end = datetime.utcnow() \n",
    "\n",
    "    print \"Prediction produced for {} instances repeated {} times\".format(len(output['class_ids']), repeat)\n",
    "    print \"\"\n",
    "\n",
    "    time_elapsed = time_end - time_start\n",
    "    print(\"Inference elapsed time: {} seconds\".format(time_elapsed.total_seconds()))\n",
    "    print \"\"\n",
    "        \n",
    "    print \"Prediction output for the last instance:\"\n",
    "    for key in output.keys():\n",
    "        print \"{}: {}\".format(key,output[key][0])"
   ]
  },
  {
   "cell_type": "code",
   "execution_count": 56,
   "metadata": {},
   "outputs": [
    {
     "name": "stdout",
     "output_type": "stream",
     "text": [
      "\n",
      "Model loading time: 0.812173 seconds\n",
      "\n",
      "Prediction produced for 10 instances repeated 1000 times\n",
      "\n",
      "Inference elapsed time: 10.426561 seconds\n",
      "\n",
      "Prediction output for the last instance:\n",
      "probabilities: [4.4412800e-06 8.3868642e-08 2.2740219e-06 3.9601011e-05 7.1723622e-07\n",
      " 2.7234732e-06 1.9204196e-08 9.9912292e-01 5.7850243e-06 8.2141842e-04]\n",
      "class_ids: [7]\n",
      "classes: ['7']\n",
      "logits: [-0.8856496 -4.8550963 -1.5550423  1.302262  -2.7089424 -1.3746847\n",
      " -6.329219  11.438041  -0.6213196  4.33444  ]\n"
     ]
    }
   ],
   "source": [
    "inference_test(saved_model_dir, repeat=1000)"
   ]
  },
  {
   "cell_type": "markdown",
   "metadata": {},
   "source": [
    "Latency for **10** instances, repeated **1000** is around **18.5 sec**."
   ]
  },
  {
   "cell_type": "markdown",
   "metadata": {},
   "source": [
    "## 5. Freeze SavedModel\n",
    "\n",
    "This function will convert the SavedModel into a GraphDef file (freezed_model.pb), and storing the variables as constrant to the freezed_model.pb\n",
    "\n",
    "You need to define the graph output nodes for freezing. We are only interested in the **class_id**, which is produced by **head/predictions/ExpandDims** node"
   ]
  },
  {
   "cell_type": "code",
   "execution_count": 38,
   "metadata": {},
   "outputs": [],
   "source": [
    "def freeze_graph(saved_model_dir, output_node_names):\n",
    "    \n",
    "    from tensorflow.python.tools import freeze_graph\n",
    "    from tensorflow.python.saved_model import tag_constants\n",
    "    \n",
    "    output_graph_filename = os.path.join(saved_model_dir, \"frozen_model.pb\")\n",
    "    initializer_nodes = \"\"\n",
    "\n",
    "    freeze_graph.freeze_graph(\n",
    "        input_saved_model_dir=saved_model_dir,\n",
    "        output_graph=output_graph_filename,\n",
    "        saved_model_tags = tag_constants.SERVING,\n",
    "        output_node_names=output_node_names,\n",
    "        initializer_nodes=initializer_nodes,\n",
    "\n",
    "        input_graph=None, \n",
    "        input_saver=False,\n",
    "        input_binary=False, \n",
    "        input_checkpoint=None, \n",
    "        restore_op_name=None, \n",
    "        filename_tensor_name=None, \n",
    "        clear_devices=False,\n",
    "        input_meta_graph=False,\n",
    "    )\n",
    "    \n",
    "    print \"SavedModel graph freezed!\""
   ]
  },
  {
   "cell_type": "code",
   "execution_count": 39,
   "metadata": {},
   "outputs": [
    {
     "name": "stdout",
     "output_type": "stream",
     "text": [
      "SavedModel graph freezed!\n"
     ]
    }
   ],
   "source": [
    "frozen_model_dir = os.path.join(saved_model_base, \"frozen\")\n",
    "freeze_graph(frozen_model_dir, \"head/predictions/class_ids\")"
   ]
  },
  {
   "cell_type": "code",
   "execution_count": 31,
   "metadata": {},
   "outputs": [
    {
     "name": "stdout",
     "output_type": "stream",
     "text": [
      "models/mnist/cnn_classifier/export/1536079934\n",
      "freezed_model.pb\n",
      "saved_model.pb\n",
      "variables\n"
     ]
    }
   ],
   "source": [
    "%%bash\n",
    "saved_models_base=models/mnist/cnn_classifier/export/\n",
    "frozen_model_dir=${saved_models_base}/frozen\n",
    "echo ${saved_model_dir}\n",
    "ls ${saved_model_dir}"
   ]
  },
  {
   "cell_type": "markdown",
   "metadata": {},
   "source": [
    "## 6. Describe the freezed_model.pb Graph (after freezing)"
   ]
  },
  {
   "cell_type": "markdown",
   "metadata": {},
   "source": [
    "### Load GraphDef from GraphDef File"
   ]
  },
  {
   "cell_type": "code",
   "execution_count": 40,
   "metadata": {},
   "outputs": [],
   "source": [
    "from tensorflow.python import ops\n",
    "\n",
    "def get_graph_def_from_file(graph_filepath):\n",
    "    \n",
    "    print graph_filepath\n",
    "    print \"\"    \n",
    "    with ops.Graph().as_default():\n",
    "        with tf.gfile.GFile(graph_filepath, \"rb\") as f:\n",
    "            graph_def = tf.GraphDef()\n",
    "            graph_def.ParseFromString(f.read())            \n",
    "            return graph_def"
   ]
  },
  {
   "cell_type": "code",
   "execution_count": 41,
   "metadata": {},
   "outputs": [
    {
     "name": "stdout",
     "output_type": "stream",
     "text": [
      "models/mnist/cnn_classifier/export/1536079934/freezed_model.pb\n",
      "\n",
      "Input Feature Nodes: [u'input_image']\n",
      "\n",
      "Unused Nodes: []\n",
      "\n",
      "Output Nodes: [u'head/predictions/class_ids/dimension', u'head/predictions/class_ids']\n",
      "\n",
      "Quanitization Nodes: []\n",
      "\n",
      "Constant Count: 22\n",
      "\n",
      "Variable Count: 0\n",
      "\n",
      "Identity Count: 16\n",
      "\n",
      "Total nodes: 58\n",
      "\n"
     ]
    }
   ],
   "source": [
    "frozen_filepath = os.path.join(frozen_model_dir, 'frozen_model.pb')\n",
    "describe_graph(get_graph_def_from_file(frozen_filepath))"
   ]
  },
  {
   "cell_type": "code",
   "execution_count": 42,
   "metadata": {},
   "outputs": [
    {
     "name": "stdout",
     "output_type": "stream",
     "text": [
      "models/mnist/cnn_classifier/export/1536079934\n",
      "\n",
      "Model size: 25433.52 KB\n",
      "Total Size: 25433.52 KB\n"
     ]
    }
   ],
   "source": [
    "get_size(saved_model_dir, 'freezed_model.pb', output_vars=False)"
   ]
  },
  {
   "cell_type": "markdown",
   "metadata": {},
   "source": [
    "## 8. Optimise the freezed_model.pb\n",
    "\n",
    "Note that, the optimised graph will replace freezed_model.pb"
   ]
  },
  {
   "cell_type": "markdown",
   "metadata": {},
   "source": [
    "### Optimise GraphDef"
   ]
  },
  {
   "cell_type": "code",
   "execution_count": 43,
   "metadata": {},
   "outputs": [],
   "source": [
    "def optimize_graph(model_dir, graph_filename, transforms):\n",
    "    \n",
    "    from tensorflow.tools.graph_transforms import TransformGraph\n",
    "    \n",
    "    input_names = []\n",
    "    output_names = ['head/predictions/class_ids']\n",
    "    \n",
    "    graph_def = get_graph_def_from_file(os.path.join(model_dir, graph_filename))\n",
    "    optimised_graph_def = TransformGraph(graph_def, \n",
    "                                         input_names,\n",
    "                                         output_names,\n",
    "                                         transforms \n",
    "                                        )\n",
    "    tf.train.write_graph(optimised_graph_def,\n",
    "                        logdir=model_dir,\n",
    "                        as_text=False,\n",
    "                        name='optimised_model.pb')\n",
    "    \n",
    "    print \"Freezed graph optimised!\""
   ]
  },
  {
   "cell_type": "code",
   "execution_count": 44,
   "metadata": {},
   "outputs": [
    {
     "name": "stdout",
     "output_type": "stream",
     "text": [
      "models/mnist/cnn_classifier/export/1536079934/freezed_model.pb\n",
      "\n",
      "Freezed graph optimised!\n"
     ]
    }
   ],
   "source": [
    "transforms = [\n",
    "    'remove_nodes(op=Identity)', \n",
    "    'fold_constants(ignore_errors=true)',\n",
    "    'fold_batch_norms',\n",
    "    'quantize_weights', \n",
    "    'merge_duplicate_nodes',\n",
    "    'strip_unused_nodes', \n",
    "    'sort_by_execution_order'\n",
    "]\n",
    "\n",
    "optimize_graph(saved_model_dir, 'freezed_model.pb', transforms)"
   ]
  },
  {
   "cell_type": "code",
   "execution_count": 60,
   "metadata": {},
   "outputs": [
    {
     "name": "stdout",
     "output_type": "stream",
     "text": [
      "models/mnist/cnn_classifier/export/1536079934\n",
      "freezed_model.pb\n",
      "optimised\n",
      "optimised_model.pb\n",
      "saved_model.pb\n",
      "variables\n"
     ]
    }
   ],
   "source": [
    "%%bash\n",
    "saved_models_base=models/mnist/cnn_classifier/export/\n",
    "saved_model_dir=${saved_models_base}$(ls ${saved_models_base} | tail -n 1)\n",
    "echo ${saved_model_dir}\n",
    "ls ${saved_model_dir}"
   ]
  },
  {
   "cell_type": "markdown",
   "metadata": {},
   "source": [
    "## 8. Describe the Optimised Graph"
   ]
  },
  {
   "cell_type": "code",
   "execution_count": 46,
   "metadata": {},
   "outputs": [
    {
     "name": "stdout",
     "output_type": "stream",
     "text": [
      "models/mnist/cnn_classifier/export/1536079934/optimised_model.pb\n",
      "\n",
      "Input Feature Nodes: [u'input_image']\n",
      "\n",
      "Unused Nodes: []\n",
      "\n",
      "Output Nodes: [u'head/predictions/class_ids']\n",
      "\n",
      "Quanitization Nodes: [u'logits/kernel_quantized_max', u'logits/kernel_quantized_const', u'conv2/kernel_quantized_max', u'Stack/fully_connected_1/biases_quantized_const', u'Stack/fully_connected_1/biases_quantized_max', u'Stack/fully_connected_1/biases_quantized_min', u'Stack/fully_connected_1/weights_quantized_max', u'Stack/fully_connected_1/weights_quantized_min', u'conv2/kernel_quantized_const', u'logits/kernel_quantized_min', u'Stack/fully_connected_1/weights_quantized_const', u'conv2/kernel_quantized_min']\n",
      "\n",
      "Constant Count: 28\n",
      "\n",
      "Variable Count: 0\n",
      "\n",
      "Identity Count: 0\n",
      "\n",
      "Total nodes: 52\n",
      "\n"
     ]
    }
   ],
   "source": [
    "optimised_filepath=os.path.join(saved_model_dir,'optimised_model.pb')\n",
    "describe_graph(get_graph_def_from_file(optimised_filepath))"
   ]
  },
  {
   "cell_type": "markdown",
   "metadata": {},
   "source": [
    "## 9. Convert Optimised graph (GraphDef) to SavedModel"
   ]
  },
  {
   "cell_type": "code",
   "execution_count": 49,
   "metadata": {},
   "outputs": [],
   "source": [
    "def convert_graph_def_to_saved_model(graph_filepath):\n",
    "\n",
    "    from tensorflow.python import ops\n",
    "    export_dir=os.path.join(saved_model_dir,'optimised')\n",
    "\n",
    "    if tf.gfile.Exists(export_dir):\n",
    "        tf.gfile.DeleteRecursively(export_dir)\n",
    "\n",
    "    graph_def = get_graph_def_from_file(graph_filepath)\n",
    "    \n",
    "    with tf.Session(graph=tf.Graph()) as session:\n",
    "        tf.import_graph_def(graph_def, name=\"\")\n",
    "        tf.saved_model.simple_save(session,\n",
    "                export_dir,\n",
    "                inputs={\n",
    "                    node.name: session.graph.get_tensor_by_name(\"{}:0\".format(node.name)) \n",
    "                    for node in graph_def.node if node.op=='Placeholder'},\n",
    "                outputs={\n",
    "                    \"class_ids\": session.graph.get_tensor_by_name(\"head/predictions/class_ids:0\"),\n",
    "                }\n",
    "            )\n",
    "\n",
    "        print \"Optimised graph converted to SavedModel!\""
   ]
  },
  {
   "cell_type": "code",
   "execution_count": 50,
   "metadata": {},
   "outputs": [
    {
     "name": "stdout",
     "output_type": "stream",
     "text": [
      "models/mnist/cnn_classifier/export/1536079934/optimised_model.pb\n",
      "\n",
      "Optimised graph converted to SavedModel!\n"
     ]
    }
   ],
   "source": [
    "optimised_filepath=os.path.join(saved_model_dir,'optimised_model.pb')\n",
    "convert_graph_def_to_saved_model(optimised_filepath)"
   ]
  },
  {
   "cell_type": "markdown",
   "metadata": {},
   "source": [
    "### Optimised SavedModel Size"
   ]
  },
  {
   "cell_type": "code",
   "execution_count": 51,
   "metadata": {},
   "outputs": [
    {
     "name": "stdout",
     "output_type": "stream",
     "text": [
      "models/mnist/cnn_classifier/export/1536079934/optimised\n",
      "\n",
      "Model size: 6370.439 KB\n",
      "Variables size: 0.0 KB\n",
      "Total Size: 6370.439 KB\n"
     ]
    }
   ],
   "source": [
    "optimised_saved_model_dir = os.path.join(saved_model_dir,'optimised') \n",
    "get_size(optimised_saved_model_dir)"
   ]
  },
  {
   "cell_type": "code",
   "execution_count": 52,
   "metadata": {},
   "outputs": [
    {
     "name": "stdout",
     "output_type": "stream",
     "text": [
      "saved_model.pb\n",
      "variables\n",
      "\n",
      "MetaGraphDef with tag-set: 'serve' contains the following SignatureDefs:\n",
      "\n",
      "signature_def['serving_default']:\n",
      "  The given SavedModel SignatureDef contains the following input(s):\n",
      "    inputs['input_image'] tensor_info:\n",
      "        dtype: DT_FLOAT\n",
      "        shape: (-1, 784)\n",
      "        name: input_image:0\n",
      "  The given SavedModel SignatureDef contains the following output(s):\n",
      "    outputs['class_ids'] tensor_info:\n",
      "        dtype: DT_INT64\n",
      "        shape: (-1)\n",
      "        name: head/predictions/class_ids:0\n",
      "  Method name is: tensorflow/serving/predict\n"
     ]
    }
   ],
   "source": [
    "%%bash\n",
    "\n",
    "saved_models_base=models/mnist/cnn_classifier/export/\n",
    "saved_model_dir=${saved_models_base}$(ls ${saved_models_base} | tail -n 1)/optimised\n",
    "ls ${saved_model_dir}\n",
    "saved_model_cli show --dir ${saved_model_dir} --all"
   ]
  },
  {
   "cell_type": "markdown",
   "metadata": {},
   "source": [
    "## 10. Prediction with the Optimised SavedModel"
   ]
  },
  {
   "cell_type": "code",
   "execution_count": 59,
   "metadata": {},
   "outputs": [
    {
     "name": "stdout",
     "output_type": "stream",
     "text": [
      "models/mnist/cnn_classifier/export/1536079934/optimised\n",
      "\n",
      "Model loading time: 0.058467 seconds\n",
      "\n",
      "Prediction produced for 10 instances repeated 10000 times\n",
      "\n",
      "Inference elapsed time: 109.129206 seconds\n",
      "\n",
      "Prediction output for the last instance:\n",
      "class_ids: 7\n"
     ]
    }
   ],
   "source": [
    "freezed_saved_model_dir = os.path.join(saved_model_dir,'optimised') \n",
    "print(freezed_saved_model_dir)\n",
    "inference_test(saved_model_dir=freezed_saved_model_dir, signature='serving_default', repeat=10000)"
   ]
  },
  {
   "cell_type": "markdown",
   "metadata": {},
   "source": [
    "Latency for **10** instances, repeated **1000** is around ** 15.8 sec**."
   ]
  },
  {
   "cell_type": "code",
   "execution_count": null,
   "metadata": {},
   "outputs": [],
   "source": []
  }
 ],
 "metadata": {
  "kernelspec": {
   "display_name": "Python 2",
   "language": "python",
   "name": "python2"
  },
  "language_info": {
   "codemirror_mode": {
    "name": "ipython",
    "version": 2
   },
   "file_extension": ".py",
   "mimetype": "text/x-python",
   "name": "python",
   "nbconvert_exporter": "python",
   "pygments_lexer": "ipython2",
   "version": "2.7.13"
  }
 },
 "nbformat": 4,
 "nbformat_minor": 2
}
