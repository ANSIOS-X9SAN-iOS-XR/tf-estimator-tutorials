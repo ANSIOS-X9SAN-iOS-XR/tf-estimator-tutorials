{
 "cells": [
  {
   "cell_type": "markdown",
   "metadata": {},
   "source": [
    "# Optimising a TensorFlow SavedModel for Serving"
   ]
  },
  {
   "cell_type": "markdown",
   "metadata": {},
   "source": [
    "This notebooks shows how to optimise the TensorFlow exported SavedModel by **shrinking** its size (to have less memory and disk footprints), and **improving** prediction latency. This can be accopmlished by applying the following:\n",
    "* **Freezing**: That is, converting the variables stored in a checkpoint file of the SavedModel into constants stored directly in the model graph.\n",
    "* **Pruning**: That is, stripping unused nodes during the prediction path of the graph, merging duplicate nodes, as well as removing other node ops like summary, identity, etc.\n",
    "* **Quantisation**:  That is, converting any large float Const op into an eight-bit equivalent, followed by a float conversion op so that the result is usable by subsequent nodes.\n",
    "* **Other refinements**: That includes constant folding, batch_norm folding, fusing convolusion, etc.\n",
    "\n",
    "The optimisation operations we apply in this example are from the TensorFlow [Graph Conversion Tool](https://github.com/tensorflow/tensorflow/blob/master/tensorflow/tools/graph_transforms/README.md#fold_constants), which is a c++ command-line tool. We use the Python APIs to call the c++ libraries. \n",
    "\n",
    "The Graph Transform Tool is designed to work on models that are saved as GraphDef files, usually in a binary protobuf format. However, the model exported after training and estimator is in SavedModel format (saved_model.pb file + variables folder with variables.data-* and variables.index files). \n",
    "\n",
    "We need to optimise the mode and keep it the SavedModel format. Thus, the optimisation steps will be:\n",
    "1. Freeze the SavedModel: SavedModel -> GraphDef\n",
    "2. Optimisae the freezed model: GraphDef -> GraphDef\n",
    "3. Convert the optimised freezed model to SavedModel: GraphDef -> SavedModel"
   ]
  },
  {
   "cell_type": "code",
   "execution_count": 1,
   "metadata": {},
   "outputs": [
    {
     "name": "stdout",
     "output_type": "stream",
     "text": [
      "TensorFlow : 1.10.0\n"
     ]
    }
   ],
   "source": [
    "import os\n",
    "import numpy as np\n",
    "from datetime import datetime\n",
    "\n",
    "import tensorflow as tf\n",
    "\n",
    "print \"TensorFlow : {}\".format(tf.__version__)"
   ]
  },
  {
   "cell_type": "markdown",
   "metadata": {},
   "source": [
    "## 1. Train and Export a Keras Model"
   ]
  },
  {
   "cell_type": "markdown",
   "metadata": {},
   "source": [
    "### 1.1 Import Data"
   ]
  },
  {
   "cell_type": "code",
   "execution_count": 2,
   "metadata": {},
   "outputs": [
    {
     "name": "stdout",
     "output_type": "stream",
     "text": [
      "WARNING:tensorflow:From <ipython-input-2-d053803e8488>:1: load_dataset (from tensorflow.contrib.learn.python.learn.datasets) is deprecated and will be removed in a future version.\n",
      "Instructions for updating:\n",
      "Please use tf.data.\n",
      "WARNING:tensorflow:From /Users/khalidsalama/Technology/python-venvs/py27-venv/lib/python2.7/site-packages/tensorflow/contrib/learn/python/learn/datasets/__init__.py:80: load_mnist (from tensorflow.contrib.learn.python.learn.datasets.mnist) is deprecated and will be removed in a future version.\n",
      "Instructions for updating:\n",
      "Please use alternatives such as official/mnist/dataset.py from tensorflow/models.\n",
      "WARNING:tensorflow:From /Users/khalidsalama/Technology/python-venvs/py27-venv/lib/python2.7/site-packages/tensorflow/contrib/learn/python/learn/datasets/mnist.py:300: read_data_sets (from tensorflow.contrib.learn.python.learn.datasets.mnist) is deprecated and will be removed in a future version.\n",
      "Instructions for updating:\n",
      "Please use alternatives such as official/mnist/dataset.py from tensorflow/models.\n",
      "WARNING:tensorflow:From /Users/khalidsalama/Technology/python-venvs/py27-venv/lib/python2.7/site-packages/tensorflow/contrib/learn/python/learn/datasets/mnist.py:260: maybe_download (from tensorflow.contrib.learn.python.learn.datasets.base) is deprecated and will be removed in a future version.\n",
      "Instructions for updating:\n",
      "Please write your own downloading logic.\n",
      "WARNING:tensorflow:From /Users/khalidsalama/Technology/python-venvs/py27-venv/lib/python2.7/site-packages/tensorflow/contrib/learn/python/learn/datasets/mnist.py:262: extract_images (from tensorflow.contrib.learn.python.learn.datasets.mnist) is deprecated and will be removed in a future version.\n",
      "Instructions for updating:\n",
      "Please use tf.data to implement this functionality.\n",
      "Extracting MNIST-data/train-images-idx3-ubyte.gz\n",
      "WARNING:tensorflow:From /Users/khalidsalama/Technology/python-venvs/py27-venv/lib/python2.7/site-packages/tensorflow/contrib/learn/python/learn/datasets/mnist.py:267: extract_labels (from tensorflow.contrib.learn.python.learn.datasets.mnist) is deprecated and will be removed in a future version.\n",
      "Instructions for updating:\n",
      "Please use tf.data to implement this functionality.\n",
      "Extracting MNIST-data/train-labels-idx1-ubyte.gz\n",
      "Extracting MNIST-data/t10k-images-idx3-ubyte.gz\n",
      "Extracting MNIST-data/t10k-labels-idx1-ubyte.gz\n",
      "WARNING:tensorflow:From /Users/khalidsalama/Technology/python-venvs/py27-venv/lib/python2.7/site-packages/tensorflow/contrib/learn/python/learn/datasets/mnist.py:290: __init__ (from tensorflow.contrib.learn.python.learn.datasets.mnist) is deprecated and will be removed in a future version.\n",
      "Instructions for updating:\n",
      "Please use alternatives such as official/mnist/dataset.py from tensorflow/models.\n"
     ]
    }
   ],
   "source": [
    "mnist = tf.contrib.learn.datasets.load_dataset(\"mnist\")\n",
    "train_data = mnist.train.images\n",
    "train_labels = np.asarray(mnist.train.labels, dtype=np.int32)\n",
    "eval_data = mnist.test.images\n",
    "eval_labels = np.asarray(mnist.test.labels, dtype=np.int32)\n",
    "NUM_CLASSES = 10"
   ]
  },
  {
   "cell_type": "code",
   "execution_count": 3,
   "metadata": {},
   "outputs": [
    {
     "name": "stdout",
     "output_type": "stream",
     "text": [
      "Train data shape: (55000, 784)\n",
      "Eval data shape: (10000, 784)\n"
     ]
    }
   ],
   "source": [
    "print \"Train data shape: {}\".format(train_data.shape)\n",
    "print \"Eval data shape: {}\".format(eval_data.shape)"
   ]
  },
  {
   "cell_type": "markdown",
   "metadata": {},
   "source": [
    "### 1.2 Estimator"
   ]
  },
  {
   "cell_type": "markdown",
   "metadata": {},
   "source": [
    "#### 1.2.1 Keras Model Function"
   ]
  },
  {
   "cell_type": "code",
   "execution_count": 9,
   "metadata": {},
   "outputs": [],
   "source": [
    "def keras_model_fn(params):\n",
    "    \n",
    "    inputs = tf.keras.layers.Input(shape=(None,784), name='input_image')\n",
    "    input_layer = tf.keras.layers.Reshape(target_shape=(28, 28, 1), name='reshape')(inputs)\n",
    "    \n",
    "     # convolutional layers\n",
    "    _inputs = input_layer\n",
    "    for i in range(params.num_conv_layers):\n",
    "        \n",
    "        current_filters = params.init_filters * (2**i)\n",
    "\n",
    "        conv = tf.keras.layers.Conv2D(kernel_size=3, filters=current_filters, strides=1, \n",
    "                                         padding='SAME', name='conv-{}'.format(i+1))(_inputs)\n",
    "        \n",
    "        max_pool = tf.keras.layers.MaxPool2D(pool_size=2, strides=2, \n",
    "                                            padding='SAME', name='pool-{}'.format(i+1))(conv)\n",
    "        \n",
    "        batch_norm = tf.keras.layers.BatchNormalization(name='batch_norm-{}'.format(i+1))(max_pool)\n",
    "        \n",
    "        drop_out = tf.keras.layers.Dropout(params.drop_out, name='drop_out-{}'.format(i+1))(batch_norm)\n",
    "        \n",
    "        _inputs = drop_out\n",
    "\n",
    "    flatten = tf.keras.layers.Flatten(name='flatten')(_inputs)\n",
    "    \n",
    "    # fully-connected layers\n",
    "    _inputs = flatten\n",
    "    for i in range(len(params.hidden_units)):\n",
    "        \n",
    "        dense = tf.keras.layers.Dense(units=params.hidden_units[i], name='dense-{}'.format(i+1))(_inputs)\n",
    "        activation = tf.keras.layers.Activation('relu')(dense)\n",
    "        drop_out = tf.keras.layers.Dropout(params.drop_out)(activation)\n",
    "        \n",
    "        _inputs = drop_out\n",
    "        \n",
    "    # Unused layer\n",
    "    unused = tf.keras.layers.Dense(units=100, name='unused')(_inputs)\n",
    "    \n",
    "    # softmax classifier\n",
    "    logits = tf.keras.layers.Dense(units=NUM_CLASSES, name='logits')(_inputs)\n",
    "    softmax = tf.keras.layers.Activation('softmax', name='softmax')(logits)\n",
    "\n",
    "    # keras model\n",
    "    model = tf.keras.models.Model(inputs, softmax)\n",
    "    return model"
   ]
  },
  {
   "cell_type": "markdown",
   "metadata": {},
   "source": [
    "#### 1.2.2 Convert Keras model to Estimator"
   ]
  },
  {
   "cell_type": "code",
   "execution_count": 10,
   "metadata": {},
   "outputs": [],
   "source": [
    "def create_estimator(params, run_config):\n",
    "    \n",
    "    keras_model = keras_model_fn(params)\n",
    "    print keras_model.summary()\n",
    "    optimizer = tf.keras.optimizers.Adam(lr=params.learning_rate)\n",
    "    keras_model.compile(loss='sparse_categorical_crossentropy', optimizer='adam', metrics=['accuracy'])\n",
    "    mnist_classifier = tf.keras.estimator.model_to_estimator(\n",
    "        keras_model=keras_model,\n",
    "        config=run_config\n",
    "    )\n",
    "    \n",
    "    return mnist_classifier"
   ]
  },
  {
   "cell_type": "markdown",
   "metadata": {},
   "source": [
    "### 1.3 Train and Evaluate"
   ]
  },
  {
   "cell_type": "markdown",
   "metadata": {},
   "source": [
    "#### 1.3.1 Experiment Function"
   ]
  },
  {
   "cell_type": "code",
   "execution_count": 11,
   "metadata": {},
   "outputs": [],
   "source": [
    "def run_experiment(params, run_config):\n",
    "    \n",
    "    train_spec = tf.estimator.TrainSpec(\n",
    "        input_fn = tf.estimator.inputs.numpy_input_fn(\n",
    "            x={\"input_image\": train_data},\n",
    "            y=train_labels,\n",
    "            batch_size=params.batch_size,\n",
    "            num_epochs=None,\n",
    "            shuffle=True),\n",
    "        max_steps=params.max_traning_steps\n",
    "    )\n",
    "\n",
    "    eval_spec = tf.estimator.EvalSpec(\n",
    "        input_fn = tf.estimator.inputs.numpy_input_fn(\n",
    "            x={\"input_image\": eval_data},\n",
    "            y=eval_labels,\n",
    "            batch_size=params.batch_size,\n",
    "            num_epochs=1,\n",
    "            shuffle=False),\n",
    "        steps=None,\n",
    "        throttle_secs=params.eval_throttle_secs\n",
    "    )\n",
    "\n",
    "    tf.logging.set_verbosity(tf.logging.INFO)\n",
    "\n",
    "    time_start = datetime.utcnow() \n",
    "    print(\"Experiment started at {}\".format(time_start.strftime(\"%H:%M:%S\")))\n",
    "    print(\".......................................\") \n",
    "\n",
    "    estimator = create_estimator(params, run_config)\n",
    "\n",
    "    tf.estimator.train_and_evaluate(\n",
    "        estimator=estimator,\n",
    "        train_spec=train_spec, \n",
    "        eval_spec=eval_spec\n",
    "    )\n",
    "\n",
    "    time_end = datetime.utcnow() \n",
    "    print(\".......................................\")\n",
    "    print(\"Experiment finished at {}\".format(time_end.strftime(\"%H:%M:%S\")))\n",
    "    print(\"\")\n",
    "    time_elapsed = time_end - time_start\n",
    "    print(\"Experiment elapsed time: {} seconds\".format(time_elapsed.total_seconds()))\n",
    "    \n",
    "    return estimator\n"
   ]
  },
  {
   "cell_type": "markdown",
   "metadata": {},
   "source": [
    "#### 1.3.2  Experiment Parameters"
   ]
  },
  {
   "cell_type": "code",
   "execution_count": 14,
   "metadata": {},
   "outputs": [
    {
     "name": "stdout",
     "output_type": "stream",
     "text": [
      "models/mnist/keras_classifier\n"
     ]
    }
   ],
   "source": [
    "MODELS_LOCATION = 'models/mnist'\n",
    "MODEL_NAME = 'keras_classifier'\n",
    "model_dir = os.path.join(MODELS_LOCATION, MODEL_NAME)\n",
    "\n",
    "print model_dir\n",
    "\n",
    "params  = tf.contrib.training.HParams(\n",
    "    batch_size=100,\n",
    "    hidden_units=[512, 512],\n",
    "    num_conv_layers=2, \n",
    "    init_filters=64,\n",
    "    drop_out=0.2,\n",
    "    max_traning_steps=50,\n",
    "    eval_throttle_secs=10,\n",
    "    learning_rate=1e-3,\n",
    "    debug=True\n",
    ")\n",
    "\n",
    "run_config = tf.estimator.RunConfig(\n",
    "    tf_random_seed=19830610,\n",
    "    save_checkpoints_steps=1000,\n",
    "    keep_checkpoint_max=3,\n",
    "    model_dir=model_dir\n",
    ")"
   ]
  },
  {
   "cell_type": "markdown",
   "metadata": {},
   "source": [
    "### TensorFlow Graph \n",
    "![](tf-graph.jpeg)"
   ]
  },
  {
   "cell_type": "markdown",
   "metadata": {},
   "source": [
    "#### 1.3.3 Run Experiment"
   ]
  },
  {
   "cell_type": "code",
   "execution_count": 15,
   "metadata": {},
   "outputs": [
    {
     "name": "stdout",
     "output_type": "stream",
     "text": [
      "Removing previous artifacts...\n",
      "Experiment started at 22:53:15\n",
      ".......................................\n",
      "_________________________________________________________________\n",
      "Layer (type)                 Output Shape              Param #   \n",
      "=================================================================\n",
      "input_image (InputLayer)     (None, None, 784)         0         \n",
      "_________________________________________________________________\n",
      "reshape_2 (Reshape)          (None, 28, 28, 1)         0         \n",
      "_________________________________________________________________\n",
      "conv-1 (Conv2D)              (None, 28, 28, 64)        640       \n",
      "_________________________________________________________________\n",
      "pool-1 (MaxPooling2D)        (None, 14, 14, 64)        0         \n",
      "_________________________________________________________________\n",
      "batch_norm-1 (BatchNormaliza (None, 14, 14, 64)        256       \n",
      "_________________________________________________________________\n",
      "drop_out-1 (Dropout)         (None, 14, 14, 64)        0         \n",
      "_________________________________________________________________\n",
      "conv-2 (Conv2D)              (None, 14, 14, 128)       73856     \n",
      "_________________________________________________________________\n",
      "pool-2 (MaxPooling2D)        (None, 7, 7, 128)         0         \n",
      "_________________________________________________________________\n",
      "batch_norm-2 (BatchNormaliza (None, 7, 7, 128)         512       \n",
      "_________________________________________________________________\n",
      "drop_out-2 (Dropout)         (None, 7, 7, 128)         0         \n",
      "_________________________________________________________________\n",
      "flatten (Flatten)            (None, 6272)              0         \n",
      "_________________________________________________________________\n",
      "dense-1 (Dense)              (None, 512)               3211776   \n",
      "_________________________________________________________________\n",
      "activation_3 (Activation)    (None, 512)               0         \n",
      "_________________________________________________________________\n",
      "dropout_3 (Dropout)          (None, 512)               0         \n",
      "_________________________________________________________________\n",
      "dense-2 (Dense)              (None, 512)               262656    \n",
      "_________________________________________________________________\n",
      "activation_4 (Activation)    (None, 512)               0         \n",
      "_________________________________________________________________\n",
      "dropout_4 (Dropout)          (None, 512)               0         \n",
      "_________________________________________________________________\n",
      "logits (Dense)               (None, 10)                5130      \n",
      "_________________________________________________________________\n",
      "softmax (Activation)         (None, 10)                0         \n",
      "=================================================================\n",
      "Total params: 3,554,826\n",
      "Trainable params: 3,554,442\n",
      "Non-trainable params: 384\n",
      "_________________________________________________________________\n",
      "None\n",
      "INFO:tensorflow:Using the Keras model provided.\n",
      "INFO:tensorflow:Using config: {'_save_checkpoints_secs': None, '_global_id_in_cluster': 0, '_session_config': None, '_keep_checkpoint_max': 3, '_tf_random_seed': 19830610, '_task_type': 'worker', '_train_distribute': None, '_is_chief': True, '_cluster_spec': <tensorflow.python.training.server_lib.ClusterSpec object at 0x123d98d10>, '_model_dir': 'models/mnist/keras_classifier', '_num_worker_replicas': 1, '_task_id': 0, '_log_step_count_steps': 100, '_master': '', '_save_checkpoints_steps': 1000, '_keep_checkpoint_every_n_hours': 10000, '_evaluation_master': '', '_service': None, '_device_fn': None, '_save_summary_steps': 100, '_num_ps_replicas': 0}\n",
      "INFO:tensorflow:Running training and evaluation locally (non-distributed).\n",
      "INFO:tensorflow:Start train and evaluate loop. The evaluate will happen after every checkpoint. Checkpoint frequency is determined based on RunConfig arguments: save_checkpoints_steps 1000 or save_checkpoints_secs None.\n",
      "INFO:tensorflow:Calling model_fn.\n",
      "INFO:tensorflow:Done calling model_fn.\n",
      "INFO:tensorflow:Create CheckpointSaverHook.\n",
      "INFO:tensorflow:Graph was finalized.\n",
      "INFO:tensorflow:Restoring parameters from models/mnist/keras_classifier/keras_model.ckpt\n",
      "INFO:tensorflow:Running local_init_op.\n",
      "INFO:tensorflow:Done running local_init_op.\n",
      "INFO:tensorflow:Saving checkpoints for 0 into models/mnist/keras_classifier/model.ckpt.\n",
      "INFO:tensorflow:loss = 2.8385708, step = 1\n",
      "INFO:tensorflow:Saving checkpoints for 50 into models/mnist/keras_classifier/model.ckpt.\n",
      "INFO:tensorflow:Calling model_fn.\n",
      "INFO:tensorflow:Done calling model_fn.\n",
      "INFO:tensorflow:Starting evaluation at 2018-10-05-22:53:40\n",
      "INFO:tensorflow:Graph was finalized.\n",
      "INFO:tensorflow:Restoring parameters from models/mnist/keras_classifier/model.ckpt-50\n",
      "INFO:tensorflow:Running local_init_op.\n",
      "INFO:tensorflow:Done running local_init_op.\n",
      "INFO:tensorflow:Finished evaluation at 2018-10-05-22:53:50\n",
      "INFO:tensorflow:Saving dict for global step 50: accuracy = 0.025299989, global_step = 50, loss = 2.3743608\n",
      "INFO:tensorflow:Saving 'checkpoint_path' summary for global step 50: models/mnist/keras_classifier/model.ckpt-50\n",
      "INFO:tensorflow:Loss for final step: 0.4165694.\n",
      ".......................................\n",
      "Experiment finished at 22:53:50\n",
      "\n",
      "Experiment elapsed time: 35.639519 seconds\n"
     ]
    }
   ],
   "source": [
    "if tf.gfile.Exists(model_dir):\n",
    "    print(\"Removing previous artifacts...\")\n",
    "    tf.gfile.DeleteRecursively(model_dir)\n",
    "    \n",
    "estimator = run_experiment(params, run_config)"
   ]
  },
  {
   "cell_type": "markdown",
   "metadata": {},
   "source": [
    "### 1.4 Export the model"
   ]
  },
  {
   "cell_type": "code",
   "execution_count": 16,
   "metadata": {},
   "outputs": [
    {
     "name": "stdout",
     "output_type": "stream",
     "text": [
      "INFO:tensorflow:Calling model_fn.\n",
      "INFO:tensorflow:Done calling model_fn.\n",
      "INFO:tensorflow:Signatures INCLUDED in export for Eval: None\n",
      "INFO:tensorflow:Signatures INCLUDED in export for Classify: None\n",
      "INFO:tensorflow:Signatures INCLUDED in export for Regress: None\n",
      "INFO:tensorflow:Signatures INCLUDED in export for Predict: ['serving_default']\n",
      "INFO:tensorflow:Signatures INCLUDED in export for Train: None\n",
      "INFO:tensorflow:Restoring parameters from models/mnist/keras_classifier/model.ckpt-50\n",
      "INFO:tensorflow:Assets added to graph.\n",
      "INFO:tensorflow:No assets to write.\n",
      "INFO:tensorflow:SavedModel written to: models/mnist/keras_classifier/export/temp-1538780036/saved_model.pb\n"
     ]
    },
    {
     "data": {
      "text/plain": [
       "'models/mnist/keras_classifier/export/1538780036'"
      ]
     },
     "execution_count": 16,
     "metadata": {},
     "output_type": "execute_result"
    }
   ],
   "source": [
    "def make_serving_input_receiver_fn():\n",
    "    inputs = {'input_image': tf.placeholder(shape=[None,784], dtype=tf.float32, name='input_image')}\n",
    "    return tf.estimator.export.build_raw_serving_input_receiver_fn(inputs)\n",
    "\n",
    "export_dir = os.path.join(model_dir, 'export')\n",
    "\n",
    "if tf.gfile.Exists(export_dir):\n",
    "    tf.gfile.DeleteRecursively(export_dir)\n",
    "        \n",
    "estimator.export_savedmodel(\n",
    "    export_dir_base=export_dir,\n",
    "    serving_input_receiver_fn=make_serving_input_receiver_fn()\n",
    ")"
   ]
  },
  {
   "cell_type": "markdown",
   "metadata": {},
   "source": [
    "## 2. Inspect the Exported SavedModel"
   ]
  },
  {
   "cell_type": "code",
   "execution_count": 17,
   "metadata": {},
   "outputs": [
    {
     "name": "stdout",
     "output_type": "stream",
     "text": [
      "models/mnist/keras_classifier/export/1538780036\n",
      "saved_model.pb\n",
      "variables\n",
      "\n",
      "MetaGraphDef with tag-set: 'serve' contains the following SignatureDefs:\n",
      "\n",
      "signature_def['serving_default']:\n",
      "  The given SavedModel SignatureDef contains the following input(s):\n",
      "    inputs['input_image'] tensor_info:\n",
      "        dtype: DT_FLOAT\n",
      "        shape: (-1, 784)\n",
      "        name: input_image_3:0\n",
      "  The given SavedModel SignatureDef contains the following output(s):\n",
      "    outputs['softmax'] tensor_info:\n",
      "        dtype: DT_FLOAT\n",
      "        shape: (-1, 10)\n",
      "        name: softmax/Softmax:0\n",
      "  Method name is: tensorflow/serving/predict\n"
     ]
    }
   ],
   "source": [
    "%%bash\n",
    "\n",
    "saved_models_base=models/mnist/keras_classifier/export/\n",
    "saved_model_dir=${saved_models_base}$(ls ${saved_models_base} | tail -n 1)\n",
    "echo ${saved_model_dir}\n",
    "ls ${saved_model_dir}\n",
    "saved_model_cli show --dir=${saved_model_dir} --all"
   ]
  },
  {
   "cell_type": "markdown",
   "metadata": {},
   "source": [
    "### Prediction with SavedModel"
   ]
  },
  {
   "cell_type": "code",
   "execution_count": 68,
   "metadata": {},
   "outputs": [],
   "source": [
    "def inference_test(saved_model_dir, signature=\"serving_default\", input_name='input_image', batch=200, repeat=200):\n",
    "\n",
    "    tf.logging.set_verbosity(tf.logging.ERROR)\n",
    "    \n",
    "    time_start = datetime.utcnow() \n",
    "    \n",
    "    predictor = tf.contrib.predictor.from_saved_model(\n",
    "        export_dir = saved_model_dir,\n",
    "        signature_def_key=signature\n",
    "    )\n",
    "    time_end = datetime.utcnow() \n",
    "        \n",
    "    time_elapsed = time_end - time_start\n",
    "   \n",
    "    print \"\"\n",
    "    print(\"Model loading time: {} seconds\".format(time_elapsed.total_seconds()))\n",
    "    print \"\"\n",
    "    \n",
    "    time_start = datetime.utcnow() \n",
    "    output = None\n",
    "    for i in range(repeat):\n",
    "        predictions = predictor(\n",
    "            {\n",
    "                input_name: eval_data[:batch]\n",
    "            }\n",
    "        )\n",
    "        \n",
    "        output=[np.argmax(prediction) for prediction in predictions['softmax']]\n",
    "    \n",
    "    time_end = datetime.utcnow() \n",
    "\n",
    "    time_elapsed_sec = (time_end - time_start).total_seconds()\n",
    "    \n",
    "    #print predictions\n",
    "\n",
    "    print \"Inference elapsed time: {} seconds\".format(time_elapsed_sec)\n",
    "    print \"\"\n",
    "    \n",
    "    print \"Prediction produced for {} instances batch, repeated {} times\".format(len(output), repeat)\n",
    "    print \"Average latency per batch: {} seconds\".format(time_elapsed_sec/repeat)\n",
    "    print \"\"\n",
    "    \n",
    "    #print \"Prediction output for the last batch: {}\".format(output)"
   ]
  },
  {
   "cell_type": "markdown",
   "metadata": {},
   "source": [
    "## 3. Test Prediction with SavedModel "
   ]
  },
  {
   "cell_type": "code",
   "execution_count": 62,
   "metadata": {},
   "outputs": [
    {
     "name": "stdout",
     "output_type": "stream",
     "text": [
      "models/mnist/keras_classifier/export/1538780036\n",
      "\n",
      "Model loading time: 0.14161 seconds\n",
      "\n",
      "Inference elapsed time: 40.388555 seconds\n",
      "\n",
      "Prediction produced for 200 instances batch, repeated 200 times\n",
      "Average latency per batch: 0.201942775 seconds\n",
      "\n"
     ]
    }
   ],
   "source": [
    "saved_model_dir = os.path.join(export_dir, os.listdir(export_dir)[-1]) \n",
    "print(saved_model_dir)\n",
    "inference_test(saved_model_dir)"
   ]
  },
  {
   "cell_type": "markdown",
   "metadata": {},
   "source": [
    "### Describe GraphDef"
   ]
  },
  {
   "cell_type": "code",
   "execution_count": 23,
   "metadata": {},
   "outputs": [],
   "source": [
    "def describe_graph(graph_def, show_nodes=False):\n",
    "    \n",
    "    print 'Input Feature Nodes: {}'.format([node.name for node in graph_def.node if node.op=='Placeholder'])\n",
    "    print \"\"\n",
    "    print 'Unused Nodes: {}'.format([node.name for node in graph_def.node if 'unused'  in node.name])\n",
    "    print \"\"\n",
    "    print 'Output Nodes: {}'.format( [node.name for node in graph_def.node if 'predictions' in node.name])\n",
    "    print \"\"\n",
    "    print 'Quanitization Nodes: {}'.format( [node.name for node in graph_def.node if 'quant' in node.name])\n",
    "    print \"\"\n",
    "    print 'Constant Count: {}'.format( len([node for node in graph_def.node if node.op=='Const']))\n",
    "    print \"\"\n",
    "    print 'Variable Count: {}'.format( len([node for node in graph_def.node if 'Variable' in node.op]))\n",
    "    print \"\"\n",
    "    print 'Identity Count: {}'.format( len([node for node in graph_def.node if node.op=='Identity']))\n",
    "    print \"\"\n",
    "    print 'Total nodes: {}'.format( len(graph_def.node))\n",
    "    print ''\n",
    "    \n",
    "    if show_nodes==True:\n",
    "        for node in graph_def.node:\n",
    "            print 'Op:{} - Name: {}'.format(node.op, node.name)"
   ]
  },
  {
   "cell_type": "markdown",
   "metadata": {},
   "source": [
    "## 4. Describe the SavedModel Graph (before optimisation)"
   ]
  },
  {
   "cell_type": "markdown",
   "metadata": {},
   "source": [
    "### Load GraphDef from a SavedModel Directory"
   ]
  },
  {
   "cell_type": "code",
   "execution_count": 24,
   "metadata": {},
   "outputs": [],
   "source": [
    "def get_graph_def_from_saved_model(saved_model_dir):\n",
    "    \n",
    "    print saved_model_dir\n",
    "    print \"\"\n",
    "    \n",
    "    from tensorflow.python.saved_model import tag_constants\n",
    "    \n",
    "    with tf.Session() as session:\n",
    "        meta_graph_def = tf.saved_model.loader.load(\n",
    "            session,\n",
    "            tags=[tag_constants.SERVING],\n",
    "            export_dir=saved_model_dir\n",
    "        )\n",
    "        \n",
    "    return meta_graph_def.graph_def"
   ]
  },
  {
   "cell_type": "code",
   "execution_count": 59,
   "metadata": {},
   "outputs": [
    {
     "name": "stdout",
     "output_type": "stream",
     "text": [
      "models/mnist/keras_classifier/export/1538780036\n",
      "\n",
      "Input Feature Nodes: [u'input_image_3', u'input_image']\n",
      "\n",
      "Unused Nodes: []\n",
      "\n",
      "Output Nodes: []\n",
      "\n",
      "Quanitization Nodes: []\n",
      "\n",
      "Constant Count: 51\n",
      "\n",
      "Variable Count: 73\n",
      "\n",
      "Identity Count: 26\n",
      "\n",
      "Total nodes: 247\n",
      "\n",
      "Op:Const - Name: global_step/Initializer/zeros\n",
      "Op:VariableV2 - Name: global_step\n",
      "Op:Assign - Name: global_step/Assign\n",
      "Op:Identity - Name: global_step/read\n",
      "Op:Placeholder - Name: input_image_3\n",
      "Op:Placeholder - Name: input_image\n",
      "Op:Identity - Name: input_image_1/input_image/Identity\n",
      "Op:Shape - Name: reshape_2/Shape\n",
      "Op:Const - Name: reshape_2/strided_slice/stack\n",
      "Op:Const - Name: reshape_2/strided_slice/stack_1\n",
      "Op:Const - Name: reshape_2/strided_slice/stack_2\n",
      "Op:StridedSlice - Name: reshape_2/strided_slice\n",
      "Op:Const - Name: reshape_2/Reshape/shape/1\n",
      "Op:Const - Name: reshape_2/Reshape/shape/2\n",
      "Op:Const - Name: reshape_2/Reshape/shape/3\n",
      "Op:Pack - Name: reshape_2/Reshape/shape\n",
      "Op:Reshape - Name: reshape_2/Reshape\n",
      "Op:Const - Name: conv-1/kernel/Initializer/random_uniform/shape\n",
      "Op:Const - Name: conv-1/kernel/Initializer/random_uniform/min\n",
      "Op:Const - Name: conv-1/kernel/Initializer/random_uniform/max\n",
      "Op:RandomUniform - Name: conv-1/kernel/Initializer/random_uniform/RandomUniform\n",
      "Op:Sub - Name: conv-1/kernel/Initializer/random_uniform/sub\n",
      "Op:Mul - Name: conv-1/kernel/Initializer/random_uniform/mul\n",
      "Op:Add - Name: conv-1/kernel/Initializer/random_uniform\n",
      "Op:VarHandleOp - Name: conv-1/kernel\n",
      "Op:VarIsInitializedOp - Name: conv-1/kernel/IsInitialized/VarIsInitializedOp\n",
      "Op:AssignVariableOp - Name: conv-1/kernel/Assign\n",
      "Op:ReadVariableOp - Name: conv-1/kernel/Read/ReadVariableOp\n",
      "Op:Const - Name: conv-1/bias/Initializer/zeros\n",
      "Op:VarHandleOp - Name: conv-1/bias\n",
      "Op:VarIsInitializedOp - Name: conv-1/bias/IsInitialized/VarIsInitializedOp\n",
      "Op:AssignVariableOp - Name: conv-1/bias/Assign\n",
      "Op:ReadVariableOp - Name: conv-1/bias/Read/ReadVariableOp\n",
      "Op:Const - Name: conv-1/dilation_rate\n",
      "Op:ReadVariableOp - Name: conv-1/Conv2D/ReadVariableOp\n",
      "Op:Conv2D - Name: conv-1/Conv2D\n",
      "Op:ReadVariableOp - Name: conv-1/BiasAdd/ReadVariableOp\n",
      "Op:BiasAdd - Name: conv-1/BiasAdd\n",
      "Op:MaxPool - Name: pool-1/MaxPool\n",
      "Op:Const - Name: batch_norm-1/gamma/Initializer/ones\n",
      "Op:VarHandleOp - Name: batch_norm-1/gamma\n",
      "Op:VarIsInitializedOp - Name: batch_norm-1/gamma/IsInitialized/VarIsInitializedOp\n",
      "Op:AssignVariableOp - Name: batch_norm-1/gamma/Assign\n",
      "Op:ReadVariableOp - Name: batch_norm-1/gamma/Read/ReadVariableOp\n",
      "Op:Const - Name: batch_norm-1/beta/Initializer/zeros\n",
      "Op:VarHandleOp - Name: batch_norm-1/beta\n",
      "Op:VarIsInitializedOp - Name: batch_norm-1/beta/IsInitialized/VarIsInitializedOp\n",
      "Op:AssignVariableOp - Name: batch_norm-1/beta/Assign\n",
      "Op:ReadVariableOp - Name: batch_norm-1/beta/Read/ReadVariableOp\n",
      "Op:Const - Name: batch_norm-1/moving_mean/Initializer/zeros\n",
      "Op:VarHandleOp - Name: batch_norm-1/moving_mean\n",
      "Op:VarIsInitializedOp - Name: batch_norm-1/moving_mean/IsInitialized/VarIsInitializedOp\n",
      "Op:AssignVariableOp - Name: batch_norm-1/moving_mean/Assign\n",
      "Op:ReadVariableOp - Name: batch_norm-1/moving_mean/Read/ReadVariableOp\n",
      "Op:Const - Name: batch_norm-1/moving_variance/Initializer/ones\n",
      "Op:VarHandleOp - Name: batch_norm-1/moving_variance\n",
      "Op:VarIsInitializedOp - Name: batch_norm-1/moving_variance/IsInitialized/VarIsInitializedOp\n",
      "Op:AssignVariableOp - Name: batch_norm-1/moving_variance/Assign\n",
      "Op:ReadVariableOp - Name: batch_norm-1/moving_variance/Read/ReadVariableOp\n",
      "Op:ReadVariableOp - Name: batch_norm-1/ReadVariableOp\n",
      "Op:ReadVariableOp - Name: batch_norm-1/ReadVariableOp_1\n",
      "Op:ReadVariableOp - Name: batch_norm-1/FusedBatchNorm/ReadVariableOp\n",
      "Op:ReadVariableOp - Name: batch_norm-1/FusedBatchNorm/ReadVariableOp_1\n",
      "Op:FusedBatchNorm - Name: batch_norm-1/FusedBatchNorm\n",
      "Op:Const - Name: batch_norm-1/Const\n",
      "Op:Identity - Name: drop_out-1/Identity\n",
      "Op:Const - Name: conv-2/kernel/Initializer/random_uniform/shape\n",
      "Op:Const - Name: conv-2/kernel/Initializer/random_uniform/min\n",
      "Op:Const - Name: conv-2/kernel/Initializer/random_uniform/max\n",
      "Op:RandomUniform - Name: conv-2/kernel/Initializer/random_uniform/RandomUniform\n",
      "Op:Sub - Name: conv-2/kernel/Initializer/random_uniform/sub\n",
      "Op:Mul - Name: conv-2/kernel/Initializer/random_uniform/mul\n",
      "Op:Add - Name: conv-2/kernel/Initializer/random_uniform\n",
      "Op:VarHandleOp - Name: conv-2/kernel\n",
      "Op:VarIsInitializedOp - Name: conv-2/kernel/IsInitialized/VarIsInitializedOp\n",
      "Op:AssignVariableOp - Name: conv-2/kernel/Assign\n",
      "Op:ReadVariableOp - Name: conv-2/kernel/Read/ReadVariableOp\n",
      "Op:Const - Name: conv-2/bias/Initializer/zeros\n",
      "Op:VarHandleOp - Name: conv-2/bias\n",
      "Op:VarIsInitializedOp - Name: conv-2/bias/IsInitialized/VarIsInitializedOp\n",
      "Op:AssignVariableOp - Name: conv-2/bias/Assign\n",
      "Op:ReadVariableOp - Name: conv-2/bias/Read/ReadVariableOp\n",
      "Op:Const - Name: conv-2/dilation_rate\n",
      "Op:ReadVariableOp - Name: conv-2/Conv2D/ReadVariableOp\n",
      "Op:Conv2D - Name: conv-2/Conv2D\n",
      "Op:ReadVariableOp - Name: conv-2/BiasAdd/ReadVariableOp\n",
      "Op:BiasAdd - Name: conv-2/BiasAdd\n",
      "Op:MaxPool - Name: pool-2/MaxPool\n",
      "Op:Const - Name: batch_norm-2/gamma/Initializer/ones\n",
      "Op:VarHandleOp - Name: batch_norm-2/gamma\n",
      "Op:VarIsInitializedOp - Name: batch_norm-2/gamma/IsInitialized/VarIsInitializedOp\n",
      "Op:AssignVariableOp - Name: batch_norm-2/gamma/Assign\n",
      "Op:ReadVariableOp - Name: batch_norm-2/gamma/Read/ReadVariableOp\n",
      "Op:Const - Name: batch_norm-2/beta/Initializer/zeros\n",
      "Op:VarHandleOp - Name: batch_norm-2/beta\n",
      "Op:VarIsInitializedOp - Name: batch_norm-2/beta/IsInitialized/VarIsInitializedOp\n",
      "Op:AssignVariableOp - Name: batch_norm-2/beta/Assign\n",
      "Op:ReadVariableOp - Name: batch_norm-2/beta/Read/ReadVariableOp\n",
      "Op:Const - Name: batch_norm-2/moving_mean/Initializer/zeros\n",
      "Op:VarHandleOp - Name: batch_norm-2/moving_mean\n",
      "Op:VarIsInitializedOp - Name: batch_norm-2/moving_mean/IsInitialized/VarIsInitializedOp\n",
      "Op:AssignVariableOp - Name: batch_norm-2/moving_mean/Assign\n",
      "Op:ReadVariableOp - Name: batch_norm-2/moving_mean/Read/ReadVariableOp\n",
      "Op:Const - Name: batch_norm-2/moving_variance/Initializer/ones\n",
      "Op:VarHandleOp - Name: batch_norm-2/moving_variance\n",
      "Op:VarIsInitializedOp - Name: batch_norm-2/moving_variance/IsInitialized/VarIsInitializedOp\n",
      "Op:AssignVariableOp - Name: batch_norm-2/moving_variance/Assign\n",
      "Op:ReadVariableOp - Name: batch_norm-2/moving_variance/Read/ReadVariableOp\n",
      "Op:ReadVariableOp - Name: batch_norm-2/ReadVariableOp\n",
      "Op:ReadVariableOp - Name: batch_norm-2/ReadVariableOp_1\n",
      "Op:ReadVariableOp - Name: batch_norm-2/FusedBatchNorm/ReadVariableOp\n",
      "Op:ReadVariableOp - Name: batch_norm-2/FusedBatchNorm/ReadVariableOp_1\n",
      "Op:FusedBatchNorm - Name: batch_norm-2/FusedBatchNorm\n",
      "Op:Const - Name: batch_norm-2/Const\n",
      "Op:Identity - Name: drop_out-2/Identity\n",
      "Op:Shape - Name: flatten/Shape\n",
      "Op:Const - Name: flatten/strided_slice/stack\n",
      "Op:Const - Name: flatten/strided_slice/stack_1\n",
      "Op:Const - Name: flatten/strided_slice/stack_2\n",
      "Op:StridedSlice - Name: flatten/strided_slice\n",
      "Op:Const - Name: flatten/Reshape/shape/1\n",
      "Op:Pack - Name: flatten/Reshape/shape\n",
      "Op:Reshape - Name: flatten/Reshape\n",
      "Op:Const - Name: dense-1/kernel/Initializer/random_uniform/shape\n",
      "Op:Const - Name: dense-1/kernel/Initializer/random_uniform/min\n",
      "Op:Const - Name: dense-1/kernel/Initializer/random_uniform/max\n",
      "Op:RandomUniform - Name: dense-1/kernel/Initializer/random_uniform/RandomUniform\n",
      "Op:Sub - Name: dense-1/kernel/Initializer/random_uniform/sub\n",
      "Op:Mul - Name: dense-1/kernel/Initializer/random_uniform/mul\n",
      "Op:Add - Name: dense-1/kernel/Initializer/random_uniform\n",
      "Op:VarHandleOp - Name: dense-1/kernel\n",
      "Op:VarIsInitializedOp - Name: dense-1/kernel/IsInitialized/VarIsInitializedOp\n",
      "Op:AssignVariableOp - Name: dense-1/kernel/Assign\n",
      "Op:ReadVariableOp - Name: dense-1/kernel/Read/ReadVariableOp\n",
      "Op:Const - Name: dense-1/bias/Initializer/zeros\n",
      "Op:VarHandleOp - Name: dense-1/bias\n",
      "Op:VarIsInitializedOp - Name: dense-1/bias/IsInitialized/VarIsInitializedOp\n",
      "Op:AssignVariableOp - Name: dense-1/bias/Assign\n",
      "Op:ReadVariableOp - Name: dense-1/bias/Read/ReadVariableOp\n",
      "Op:ReadVariableOp - Name: dense-1/MatMul/ReadVariableOp\n",
      "Op:MatMul - Name: dense-1/MatMul\n",
      "Op:ReadVariableOp - Name: dense-1/BiasAdd/ReadVariableOp\n",
      "Op:BiasAdd - Name: dense-1/BiasAdd\n",
      "Op:Relu - Name: activation_3/Relu\n",
      "Op:Identity - Name: dropout_3/Identity\n",
      "Op:Const - Name: dense-2/kernel/Initializer/random_uniform/shape\n",
      "Op:Const - Name: dense-2/kernel/Initializer/random_uniform/min\n",
      "Op:Const - Name: dense-2/kernel/Initializer/random_uniform/max\n",
      "Op:RandomUniform - Name: dense-2/kernel/Initializer/random_uniform/RandomUniform\n",
      "Op:Sub - Name: dense-2/kernel/Initializer/random_uniform/sub\n",
      "Op:Mul - Name: dense-2/kernel/Initializer/random_uniform/mul\n",
      "Op:Add - Name: dense-2/kernel/Initializer/random_uniform\n",
      "Op:VarHandleOp - Name: dense-2/kernel\n",
      "Op:VarIsInitializedOp - Name: dense-2/kernel/IsInitialized/VarIsInitializedOp\n",
      "Op:AssignVariableOp - Name: dense-2/kernel/Assign\n",
      "Op:ReadVariableOp - Name: dense-2/kernel/Read/ReadVariableOp\n",
      "Op:Const - Name: dense-2/bias/Initializer/zeros\n",
      "Op:VarHandleOp - Name: dense-2/bias\n",
      "Op:VarIsInitializedOp - Name: dense-2/bias/IsInitialized/VarIsInitializedOp\n",
      "Op:AssignVariableOp - Name: dense-2/bias/Assign\n",
      "Op:ReadVariableOp - Name: dense-2/bias/Read/ReadVariableOp\n",
      "Op:ReadVariableOp - Name: dense-2/MatMul/ReadVariableOp\n",
      "Op:MatMul - Name: dense-2/MatMul\n",
      "Op:ReadVariableOp - Name: dense-2/BiasAdd/ReadVariableOp\n",
      "Op:BiasAdd - Name: dense-2/BiasAdd\n",
      "Op:Relu - Name: activation_4/Relu\n",
      "Op:Identity - Name: dropout_4/Identity\n",
      "Op:Const - Name: logits/kernel/Initializer/random_uniform/shape\n",
      "Op:Const - Name: logits/kernel/Initializer/random_uniform/min\n",
      "Op:Const - Name: logits/kernel/Initializer/random_uniform/max\n",
      "Op:RandomUniform - Name: logits/kernel/Initializer/random_uniform/RandomUniform\n",
      "Op:Sub - Name: logits/kernel/Initializer/random_uniform/sub\n",
      "Op:Mul - Name: logits/kernel/Initializer/random_uniform/mul\n",
      "Op:Add - Name: logits/kernel/Initializer/random_uniform\n",
      "Op:VarHandleOp - Name: logits/kernel\n",
      "Op:VarIsInitializedOp - Name: logits/kernel/IsInitialized/VarIsInitializedOp\n",
      "Op:AssignVariableOp - Name: logits/kernel/Assign\n",
      "Op:ReadVariableOp - Name: logits/kernel/Read/ReadVariableOp\n",
      "Op:Const - Name: logits/bias/Initializer/zeros\n",
      "Op:VarHandleOp - Name: logits/bias\n",
      "Op:VarIsInitializedOp - Name: logits/bias/IsInitialized/VarIsInitializedOp\n",
      "Op:AssignVariableOp - Name: logits/bias/Assign\n",
      "Op:ReadVariableOp - Name: logits/bias/Read/ReadVariableOp\n",
      "Op:ReadVariableOp - Name: logits/MatMul/ReadVariableOp\n",
      "Op:MatMul - Name: logits/MatMul\n",
      "Op:ReadVariableOp - Name: logits/BiasAdd/ReadVariableOp\n",
      "Op:BiasAdd - Name: logits/BiasAdd\n",
      "Op:Softmax - Name: softmax/Softmax\n",
      "Op:NoOp - Name: init\n",
      "Op:NoOp - Name: init_all_tables\n",
      "Op:NoOp - Name: init_1\n",
      "Op:NoOp - Name: group_deps\n",
      "Op:Const - Name: save/Const\n",
      "Op:Const - Name: save/StringJoin/inputs_1\n",
      "Op:StringJoin - Name: save/StringJoin\n",
      "Op:Const - Name: save/num_shards\n",
      "Op:Const - Name: save/ShardedFilename/shard\n",
      "Op:ShardedFilename - Name: save/ShardedFilename\n",
      "Op:Const - Name: save/SaveV2/tensor_names\n",
      "Op:Const - Name: save/SaveV2/shape_and_slices\n",
      "Op:SaveV2 - Name: save/SaveV2\n",
      "Op:Identity - Name: save/control_dependency\n",
      "Op:Pack - Name: save/MergeV2Checkpoints/checkpoint_prefixes\n",
      "Op:MergeV2Checkpoints - Name: save/MergeV2Checkpoints\n",
      "Op:Identity - Name: save/Identity\n",
      "Op:Const - Name: save/RestoreV2/tensor_names\n",
      "Op:Const - Name: save/RestoreV2/shape_and_slices\n",
      "Op:RestoreV2 - Name: save/RestoreV2\n",
      "Op:Identity - Name: save/Identity_1\n",
      "Op:AssignVariableOp - Name: save/AssignVariableOp\n",
      "Op:Identity - Name: save/Identity_2\n",
      "Op:AssignVariableOp - Name: save/AssignVariableOp_1\n",
      "Op:Identity - Name: save/Identity_3\n",
      "Op:AssignVariableOp - Name: save/AssignVariableOp_2\n",
      "Op:Identity - Name: save/Identity_4\n",
      "Op:AssignVariableOp - Name: save/AssignVariableOp_3\n",
      "Op:Identity - Name: save/Identity_5\n",
      "Op:AssignVariableOp - Name: save/AssignVariableOp_4\n",
      "Op:Identity - Name: save/Identity_6\n",
      "Op:AssignVariableOp - Name: save/AssignVariableOp_5\n",
      "Op:Identity - Name: save/Identity_7\n",
      "Op:AssignVariableOp - Name: save/AssignVariableOp_6\n",
      "Op:Identity - Name: save/Identity_8\n",
      "Op:AssignVariableOp - Name: save/AssignVariableOp_7\n",
      "Op:Identity - Name: save/Identity_9\n",
      "Op:AssignVariableOp - Name: save/AssignVariableOp_8\n",
      "Op:Identity - Name: save/Identity_10\n",
      "Op:AssignVariableOp - Name: save/AssignVariableOp_9\n",
      "Op:Identity - Name: save/Identity_11\n",
      "Op:AssignVariableOp - Name: save/AssignVariableOp_10\n",
      "Op:Identity - Name: save/Identity_12\n",
      "Op:AssignVariableOp - Name: save/AssignVariableOp_11\n",
      "Op:Identity - Name: save/Identity_13\n",
      "Op:AssignVariableOp - Name: save/AssignVariableOp_12\n",
      "Op:Identity - Name: save/Identity_14\n",
      "Op:AssignVariableOp - Name: save/AssignVariableOp_13\n",
      "Op:Identity - Name: save/Identity_15\n",
      "Op:AssignVariableOp - Name: save/AssignVariableOp_14\n",
      "Op:Identity - Name: save/Identity_16\n",
      "Op:AssignVariableOp - Name: save/AssignVariableOp_15\n",
      "Op:Assign - Name: save/Assign\n",
      "Op:Identity - Name: save/Identity_17\n",
      "Op:AssignVariableOp - Name: save/AssignVariableOp_16\n",
      "Op:Identity - Name: save/Identity_18\n",
      "Op:AssignVariableOp - Name: save/AssignVariableOp_17\n",
      "Op:NoOp - Name: save/restore_shard\n",
      "Op:NoOp - Name: save/restore_all\n"
     ]
    }
   ],
   "source": [
    "describe_graph(get_graph_def_from_saved_model(saved_model_dir), show_nodes=True)"
   ]
  },
  {
   "cell_type": "markdown",
   "metadata": {},
   "source": [
    "### Get model size"
   ]
  },
  {
   "cell_type": "code",
   "execution_count": 36,
   "metadata": {},
   "outputs": [],
   "source": [
    "def get_size(model_dir):\n",
    "    \n",
    "    print model_dir\n",
    "    print \"\"\n",
    "    \n",
    "    pb_size = os.path.getsize(os.path.join(model_dir,'saved_model.pb'))\n",
    "    \n",
    "    variables_size = 0\n",
    "    if os.path.exists(os.path.join(model_dir,'variables/variables.data-00000-of-00001')):\n",
    "        variables_size = os.path.getsize(os.path.join(model_dir,'variables/variables.data-00000-of-00001'))\n",
    "        variables_size += os.path.getsize(os.path.join(model_dir,'variables/variables.index'))\n",
    "\n",
    "    print \"Model size: {} KB\".format(round(pb_size/(1024.0),3))\n",
    "    print \"Variables size: {} KB\".format(round( variables_size/(1024.0),3))\n",
    "    print \"Total Size: {} KB\".format(round((pb_size + variables_size)/(1024.0),3))\n",
    "    "
   ]
  },
  {
   "cell_type": "code",
   "execution_count": 37,
   "metadata": {},
   "outputs": [
    {
     "name": "stdout",
     "output_type": "stream",
     "text": [
      "models/mnist/keras_classifier/export/1538780036\n",
      "\n",
      "Model size: 43.765 KB\n",
      "Variables size: 13886.777 KB\n",
      "Total Size: 13930.542 KB\n"
     ]
    }
   ],
   "source": [
    "get_size(saved_model_dir)"
   ]
  },
  {
   "cell_type": "markdown",
   "metadata": {},
   "source": [
    "## 5. Freeze SavedModel\n",
    "\n",
    "This function will convert the SavedModel into a GraphDef file (freezed_model.pb), and storing the variables as constrant to the freezed_model.pb\n",
    "\n",
    "You need to define the graph output nodes for freezing. We are only interested in the output of **softmax/Softmax** node"
   ]
  },
  {
   "cell_type": "code",
   "execution_count": 38,
   "metadata": {},
   "outputs": [],
   "source": [
    "def freeze_graph(saved_model_dir):\n",
    "    \n",
    "    from tensorflow.python.tools import freeze_graph\n",
    "    from tensorflow.python.saved_model import tag_constants\n",
    "    \n",
    "    output_graph_filename = os.path.join(saved_model_dir, \"freezed_model.pb\")\n",
    "    output_node_names = \"softmax/Softmax\"\n",
    "    initializer_nodes = \"\"\n",
    "\n",
    "    freeze_graph.freeze_graph(\n",
    "        input_saved_model_dir=saved_model_dir,\n",
    "        output_graph=output_graph_filename,\n",
    "        saved_model_tags = tag_constants.SERVING,\n",
    "        output_node_names=output_node_names,\n",
    "        initializer_nodes=initializer_nodes,\n",
    "\n",
    "        input_graph=None, \n",
    "        input_saver=False,\n",
    "        input_binary=False, \n",
    "        input_checkpoint=None, \n",
    "        restore_op_name=None, \n",
    "        filename_tensor_name=None, \n",
    "        clear_devices=False,\n",
    "        input_meta_graph=False,\n",
    "    )\n",
    "    \n",
    "    print \"SavedModel graph freezed!\""
   ]
  },
  {
   "cell_type": "code",
   "execution_count": 39,
   "metadata": {},
   "outputs": [
    {
     "name": "stdout",
     "output_type": "stream",
     "text": [
      "SavedModel graph freezed!\n"
     ]
    }
   ],
   "source": [
    "freeze_graph(saved_model_dir)"
   ]
  },
  {
   "cell_type": "code",
   "execution_count": 40,
   "metadata": {},
   "outputs": [
    {
     "name": "stdout",
     "output_type": "stream",
     "text": [
      "models/mnist/keras_classifier/export/1538780036\n",
      "freezed_model.pb\n",
      "saved_model.pb\n",
      "variables\n"
     ]
    }
   ],
   "source": [
    "%%bash\n",
    "saved_models_base=models/mnist/keras_classifier/export/\n",
    "saved_model_dir=${saved_models_base}$(ls ${saved_models_base} | tail -n 1)\n",
    "echo ${saved_model_dir}\n",
    "ls ${saved_model_dir}"
   ]
  },
  {
   "cell_type": "markdown",
   "metadata": {},
   "source": [
    "## 6. Describe the freezed_model.pb Graph (after freezing)"
   ]
  },
  {
   "cell_type": "markdown",
   "metadata": {},
   "source": [
    "### Load GraphDef from GraphDef File"
   ]
  },
  {
   "cell_type": "code",
   "execution_count": 33,
   "metadata": {},
   "outputs": [],
   "source": [
    "def get_graph_def_from_file(graph_filepath):\n",
    "    \n",
    "    print graph_filepath\n",
    "    print \"\"\n",
    "    \n",
    "    from tensorflow.python import ops\n",
    "    \n",
    "    with ops.Graph().as_default():\n",
    "        with tf.gfile.GFile(graph_filepath, \"rb\") as f:\n",
    "            graph_def = tf.GraphDef()\n",
    "            graph_def.ParseFromString(f.read())\n",
    "            \n",
    "            return graph_def\n",
    "            "
   ]
  },
  {
   "cell_type": "code",
   "execution_count": 41,
   "metadata": {},
   "outputs": [
    {
     "name": "stdout",
     "output_type": "stream",
     "text": [
      "models/mnist/keras_classifier/export/1538780036/freezed_model.pb\n",
      "\n",
      "Input Feature Nodes: [u'input_image_3']\n",
      "\n",
      "Unused Nodes: []\n",
      "\n",
      "Output Nodes: []\n",
      "\n",
      "Quanitization Nodes: []\n",
      "\n",
      "Constant Count: 28\n",
      "\n",
      "Variable Count: 0\n",
      "\n",
      "Identity Count: 23\n",
      "\n",
      "Total nodes: 77\n",
      "\n"
     ]
    }
   ],
   "source": [
    "freezed_filepath=os.path.join(saved_model_dir,'freezed_model.pb')\n",
    "describe_graph(get_graph_def_from_file(freezed_filepath))"
   ]
  },
  {
   "cell_type": "markdown",
   "metadata": {},
   "source": [
    "## 8. Optimise the freezed_model.pb"
   ]
  },
  {
   "cell_type": "markdown",
   "metadata": {},
   "source": [
    "### Optimise GraphDef"
   ]
  },
  {
   "cell_type": "code",
   "execution_count": 45,
   "metadata": {},
   "outputs": [],
   "source": [
    "def optimize_graph(model_dir, graph_filename, transforms):\n",
    "    \n",
    "    from tensorflow.tools.graph_transforms import TransformGraph\n",
    "    \n",
    "    input_names = []\n",
    "    output_names = ['softmax/Softmax']\n",
    "    \n",
    "    graph_def = get_graph_def_from_file(os.path.join(model_dir, graph_filename))\n",
    "    optimised_graph_def = TransformGraph(graph_def, \n",
    "                                         input_names,\n",
    "                                         output_names,\n",
    "                                         transforms \n",
    "                                        )\n",
    "    tf.train.write_graph(optimised_graph_def,\n",
    "                        logdir=model_dir,\n",
    "                        as_text=False,\n",
    "                        name='optimised_model.pb')\n",
    "    \n",
    "    print \"Freezed graph optimised!\""
   ]
  },
  {
   "cell_type": "code",
   "execution_count": 46,
   "metadata": {},
   "outputs": [
    {
     "name": "stdout",
     "output_type": "stream",
     "text": [
      "models/mnist/keras_classifier/export/1538780036/freezed_model.pb\n",
      "\n",
      "Freezed graph optimised!\n"
     ]
    }
   ],
   "source": [
    "transforms = [\n",
    "    'remove_nodes(op=Identity)', \n",
    "    'fold_constants(ignore_errors=true)',\n",
    "    'fold_batch_norms',\n",
    "#     'quantize_weights',\n",
    "#     'quantize_nodes',\n",
    "    'merge_duplicate_nodes',\n",
    "    'strip_unused_nodes', \n",
    "    'sort_by_execution_order'\n",
    "]\n",
    "\n",
    "optimize_graph(saved_model_dir, 'freezed_model.pb', transforms)"
   ]
  },
  {
   "cell_type": "code",
   "execution_count": 48,
   "metadata": {},
   "outputs": [
    {
     "name": "stdout",
     "output_type": "stream",
     "text": [
      "models/mnist/keras_classifier/export/1538780036\n",
      "freezed_model.pb\n",
      "optimised_model.pb\n",
      "saved_model.pb\n",
      "variables\n"
     ]
    }
   ],
   "source": [
    "%%bash\n",
    "saved_models_base=models/mnist/keras_classifier/export/\n",
    "saved_model_dir=${saved_models_base}$(ls ${saved_models_base} | tail -n 1)\n",
    "echo ${saved_model_dir}\n",
    "ls ${saved_model_dir}"
   ]
  },
  {
   "cell_type": "markdown",
   "metadata": {},
   "source": [
    "## 8. Describe the Optimised Graph"
   ]
  },
  {
   "cell_type": "code",
   "execution_count": 49,
   "metadata": {},
   "outputs": [
    {
     "name": "stdout",
     "output_type": "stream",
     "text": [
      "models/mnist/keras_classifier/export/1538780036/optimised_model.pb\n",
      "\n",
      "Input Feature Nodes: [u'input_image_3']\n",
      "\n",
      "Unused Nodes: []\n",
      "\n",
      "Output Nodes: []\n",
      "\n",
      "Quanitization Nodes: []\n",
      "\n",
      "Constant Count: 23\n",
      "\n",
      "Variable Count: 0\n",
      "\n",
      "Identity Count: 0\n",
      "\n",
      "Total nodes: 49\n",
      "\n"
     ]
    }
   ],
   "source": [
    "optimised_filepath=os.path.join(saved_model_dir,'optimised_model.pb')\n",
    "describe_graph(get_graph_def_from_file(optimised_filepath))"
   ]
  },
  {
   "cell_type": "markdown",
   "metadata": {},
   "source": [
    "## 9. Convert Optimised graph (GraphDef) to SavedModel"
   ]
  },
  {
   "cell_type": "code",
   "execution_count": 66,
   "metadata": {},
   "outputs": [],
   "source": [
    "def convert_graph_def_to_saved_model(graph_filepath):\n",
    "\n",
    "    from tensorflow.python import ops\n",
    "    export_dir=os.path.join(saved_model_dir,'optimised')\n",
    "\n",
    "    if tf.gfile.Exists(export_dir):\n",
    "        tf.gfile.DeleteRecursively(export_dir)\n",
    "\n",
    "    graph_def = get_graph_def_from_file(graph_filepath)\n",
    "    \n",
    "    with tf.Session(graph=tf.Graph()) as session:\n",
    "        tf.import_graph_def(graph_def, name=\"\")\n",
    "        tf.saved_model.simple_save(session,\n",
    "                export_dir,\n",
    "                inputs={\n",
    "                    node.name: session.graph.get_tensor_by_name(\"{}:0\".format(node.name)) \n",
    "                    for node in graph_def.node if node.op=='Placeholder'},\n",
    "                outputs={\n",
    "                    \"softmax\": session.graph.get_tensor_by_name(\"softmax/Softmax:0\"),\n",
    "                }\n",
    "            )\n",
    "\n",
    "        print \"Optimised graph converted to SavedModel!\""
   ]
  },
  {
   "cell_type": "code",
   "execution_count": 67,
   "metadata": {},
   "outputs": [
    {
     "name": "stdout",
     "output_type": "stream",
     "text": [
      "models/mnist/keras_classifier/export/1538780036/optimised_model.pb\n",
      "\n",
      "Optimised graph converted to SavedModel!\n"
     ]
    }
   ],
   "source": [
    "optimised_filepath=os.path.join(saved_model_dir,'optimised_model.pb')\n",
    "convert_graph_def_to_saved_model(optimised_filepath)"
   ]
  },
  {
   "cell_type": "markdown",
   "metadata": {},
   "source": [
    "### Optimised SavedModel Size"
   ]
  },
  {
   "cell_type": "code",
   "execution_count": 69,
   "metadata": {},
   "outputs": [
    {
     "name": "stdout",
     "output_type": "stream",
     "text": [
      "models/mnist/keras_classifier/export/1538780036/optimised\n",
      "\n",
      "Model size: 13894.523 KB\n",
      "Variables size: 0.0 KB\n",
      "Total Size: 13894.523 KB\n"
     ]
    }
   ],
   "source": [
    "optimised_saved_model_dir = os.path.join(saved_model_dir,'optimised') \n",
    "get_size(optimised_saved_model_dir)"
   ]
  },
  {
   "cell_type": "code",
   "execution_count": 70,
   "metadata": {},
   "outputs": [
    {
     "name": "stdout",
     "output_type": "stream",
     "text": [
      "saved_model.pb\n",
      "variables\n",
      "\n",
      "MetaGraphDef with tag-set: 'serve' contains the following SignatureDefs:\n",
      "\n",
      "signature_def['serving_default']:\n",
      "  The given SavedModel SignatureDef contains the following input(s):\n",
      "    inputs['input_image_3'] tensor_info:\n",
      "        dtype: DT_FLOAT\n",
      "        shape: (-1, 784)\n",
      "        name: input_image_3:0\n",
      "  The given SavedModel SignatureDef contains the following output(s):\n",
      "    outputs['softmax'] tensor_info:\n",
      "        dtype: DT_FLOAT\n",
      "        shape: (-1, 10)\n",
      "        name: softmax/Softmax:0\n",
      "  Method name is: tensorflow/serving/predict\n"
     ]
    }
   ],
   "source": [
    "%%bash\n",
    "\n",
    "saved_models_base=models/mnist/keras_classifier/export/\n",
    "saved_model_dir=${saved_models_base}$(ls ${saved_models_base} | tail -n 1)/optimised\n",
    "ls ${saved_model_dir}\n",
    "saved_model_cli show --dir ${saved_model_dir} --all"
   ]
  },
  {
   "cell_type": "markdown",
   "metadata": {},
   "source": [
    "## 10. Prediction with the Optimised SavedModel"
   ]
  },
  {
   "cell_type": "code",
   "execution_count": 71,
   "metadata": {},
   "outputs": [
    {
     "name": "stdout",
     "output_type": "stream",
     "text": [
      "models/mnist/keras_classifier/export/1538780036/optimised\n",
      "\n",
      "Model loading time: 0.186932 seconds\n",
      "\n",
      "Inference elapsed time: 31.22932 seconds\n",
      "\n",
      "Prediction produced for 200 instances batch, repeated 200 times\n",
      "Average latency per batch: 0.1561466 seconds\n",
      "\n"
     ]
    }
   ],
   "source": [
    "optimized_saved_model_dir = os.path.join(saved_model_dir,'optimised') \n",
    "print(optimized_saved_model_dir)\n",
    "inference_test(saved_model_dir=optimized_saved_model_dir, signature='serving_default', input_name='input_image_3')"
   ]
  },
  {
   "cell_type": "markdown",
   "metadata": {},
   "source": [
    "# Cloud ML Engine Deployment and Prediction"
   ]
  },
  {
   "cell_type": "code",
   "execution_count": null,
   "metadata": {},
   "outputs": [],
   "source": [
    "PROJECT = 'ksalama-gcp-playground'\n",
    "BUCKET = 'ksalama-gcs-cloudml'\n",
    "REGION = 'europe-west1'\n",
    "MODEL_NAME = 'mnist_classifier'\n",
    "\n",
    "os.environ['BUCKET'] = BUCKET\n",
    "os.environ['PROJECT'] = PROJECT\n",
    "os.environ['REGION'] = REGION\n",
    "os.environ['MODEL_NAME'] = MODEL_NAME"
   ]
  },
  {
   "cell_type": "markdown",
   "metadata": {},
   "source": [
    "## 1. Upload the model artefacts to Google Cloud Storage bucket"
   ]
  },
  {
   "cell_type": "code",
   "execution_count": null,
   "metadata": {},
   "outputs": [],
   "source": [
    "%%bash\n",
    "\n",
    "gsutil -m rm -r gs://${BUCKET}/tf-model-optimisation"
   ]
  },
  {
   "cell_type": "code",
   "execution_count": null,
   "metadata": {},
   "outputs": [],
   "source": [
    "%%bash\n",
    "\n",
    "saved_models_base=models/mnist/keras_classifier/export/\n",
    "saved_model_dir=${saved_models_base}$(ls ${saved_models_base} | tail -n 1)\n",
    "\n",
    "echo ${saved_model_dir}\n",
    "\n",
    "gsutil -m cp -r ${saved_model_dir} gs://${BUCKET}/tf-model-optimisation/original"
   ]
  },
  {
   "cell_type": "code",
   "execution_count": null,
   "metadata": {},
   "outputs": [],
   "source": [
    "%%bash\n",
    "\n",
    "saved_models_base=models/mnist/keras_classifier/export/\n",
    "saved_model_dir=${saved_models_base}$(ls ${saved_models_base} | tail -n 1)/optimised\n",
    "\n",
    "echo ${saved_model_dir}\n",
    "\n",
    "gsutil -m cp -r ${saved_model_dir} gs://${BUCKET}/tf-model-optimisation"
   ]
  },
  {
   "cell_type": "markdown",
   "metadata": {},
   "source": [
    "## 2. Deploy models to Cloud ML Engine\n",
    "\n",
    "Don't forget to delete the model and the model version if they were previously deployed!"
   ]
  },
  {
   "cell_type": "code",
   "execution_count": null,
   "metadata": {},
   "outputs": [],
   "source": [
    "%%bash\n",
    "\n",
    "echo ${MODEL_NAME}\n",
    "\n",
    "gcloud ml-engine models create ${MODEL_NAME} --regions=${REGION}"
   ]
  },
  {
   "cell_type": "markdown",
   "metadata": {},
   "source": [
    "**Version: v_org** is the original SavedModel (before optimisation)"
   ]
  },
  {
   "cell_type": "code",
   "execution_count": null,
   "metadata": {},
   "outputs": [],
   "source": [
    "%%bash\n",
    "\n",
    "MODEL_VERSION='v_org'\n",
    "MODEL_ORIGIN=gs://${BUCKET}/tf-model-optimisation/original\n",
    "\n",
    "gcloud ml-engine versions create ${MODEL_VERSION}\\\n",
    "            --model=${MODEL_NAME} \\\n",
    "            --origin=${MODEL_ORIGIN} \\\n",
    "            --runtime-version=1.10"
   ]
  },
  {
   "cell_type": "markdown",
   "metadata": {},
   "source": [
    "**Version: v_opt** is the optimised SavedModel (after optimisation)"
   ]
  },
  {
   "cell_type": "code",
   "execution_count": null,
   "metadata": {},
   "outputs": [],
   "source": [
    "%%bash\n",
    "\n",
    "MODEL_VERSION='v_opt'\n",
    "MODEL_ORIGIN=gs://${BUCKET}/tf-model-optimisation/optimised\n",
    "\n",
    "gcloud ml-engine versions create ${MODEL_VERSION}\\\n",
    "            --model=${MODEL_NAME} \\\n",
    "            --origin=${MODEL_ORIGIN} \\\n",
    "            --runtime-version=1.10"
   ]
  },
  {
   "cell_type": "markdown",
   "metadata": {},
   "source": [
    "## 3. Cloud ML Engine online predictions"
   ]
  },
  {
   "cell_type": "code",
   "execution_count": null,
   "metadata": {},
   "outputs": [],
   "source": [
    "from googleapiclient import discovery\n",
    "from oauth2client.client import GoogleCredentials\n",
    "\n",
    "credentials = GoogleCredentials.get_application_default()\n",
    "api = discovery.build(\n",
    "    'ml', 'v1', \n",
    "    credentials=credentials, \n",
    "    discoveryServiceUrl='https://storage.googleapis.com/cloud-ml/discovery/ml_v1_discovery.json'\n",
    ")\n",
    "\n",
    "    \n",
    "def predict(version, instances):\n",
    "\n",
    "    request_data = {'instances': instances}\n",
    "\n",
    "    model_url = 'projects/{}/models/{}/versions/{}'.format(PROJECT, MODEL_NAME, version)\n",
    "    response = api.projects().predict(body=request_data, name=model_url).execute()\n",
    "\n",
    "    class_ids = None\n",
    "    \n",
    "    try:\n",
    "        class_ids = [item[\"class_ids\"] for item in response[\"predictions\"]]\n",
    "    except:\n",
    "        print response\n",
    "    \n",
    "    return class_ids"
   ]
  },
  {
   "cell_type": "code",
   "execution_count": null,
   "metadata": {},
   "outputs": [],
   "source": [
    "def inference_cmle(version, batch=100, repeat=10):\n",
    "    \n",
    "    instances = [\n",
    "            {'input_image_3': [float(i) for i in list(eval_data[img])] }\n",
    "        for img in range(batch)\n",
    "    ]\n",
    "\n",
    "    #warmup request\n",
    "    predict(version, instances[0])\n",
    "    print 'Warm up request performed!'\n",
    "    print 'Timer started...'\n",
    "    print ''\n",
    "    \n",
    "    time_start = datetime.utcnow() \n",
    "    output = None\n",
    "    \n",
    "    for i in range(repeat):\n",
    "        output = predict(version, instances)\n",
    "    \n",
    "    time_end = datetime.utcnow() \n",
    "\n",
    "    time_elapsed_sec = (time_end - time_start).total_seconds()\n",
    "    \n",
    "    print \"Inference elapsed time: {} seconds\".format(time_elapsed_sec)\n",
    "    print \"\"\n",
    "    \n",
    "    print \"Prediction produced for {} instances batch, repeated {} times\".format(len(output), repeat)\n",
    "    print \"Average latency per batch: {} seconds\".format(time_elapsed_sec/repeat)\n",
    "    print \"\"\n",
    "    \n",
    "    print \"Prediction output for the last instance: {}\".format(output[0])\n"
   ]
  },
  {
   "cell_type": "code",
   "execution_count": null,
   "metadata": {},
   "outputs": [],
   "source": [
    "version='v_org'\n",
    "inference_cmle(version)"
   ]
  },
  {
   "cell_type": "code",
   "execution_count": null,
   "metadata": {},
   "outputs": [],
   "source": [
    "version='v_opt'\n",
    "inference_cmle(version)"
   ]
  },
  {
   "cell_type": "markdown",
   "metadata": {},
   "source": [
    "## Happy serving!"
   ]
  },
  {
   "cell_type": "code",
   "execution_count": null,
   "metadata": {},
   "outputs": [],
   "source": []
  }
 ],
 "metadata": {
  "kernelspec": {
   "display_name": "Python 2",
   "language": "python",
   "name": "python2"
  },
  "language_info": {
   "codemirror_mode": {
    "name": "ipython",
    "version": 2
   },
   "file_extension": ".py",
   "mimetype": "text/x-python",
   "name": "python",
   "nbconvert_exporter": "python",
   "pygments_lexer": "ipython2",
   "version": "2.7.10"
  }
 },
 "nbformat": 4,
 "nbformat_minor": 2
}
