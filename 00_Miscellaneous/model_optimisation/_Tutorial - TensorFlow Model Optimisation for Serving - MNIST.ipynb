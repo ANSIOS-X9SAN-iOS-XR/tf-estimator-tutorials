{
 "cells": [
  {
   "cell_type": "markdown",
   "metadata": {},
   "source": [
    "# Optimising a TensorFlow SavedModel for Serving"
   ]
  },
  {
   "cell_type": "markdown",
   "metadata": {},
   "source": [
    "This notebooks shows how to optimise the TensorFlow exported SavedModel by **shrinking** its size (to have less memory and disk footprints), and **improving** prediction latency. This can be accopmlished by applying the following:\n",
    "* **Freezing**: That is, converting the variables stored in a checkpoint file of the SavedModel into constants stored directly in the model graph.\n",
    "* **Pruning**: That is, stripping unused nodes during the prediction path of the graph, merging duplicate nodes, as well as removing other node ops like summary, identity, etc.\n",
    "* **Quantisation**:  That is, converting any large float Const op into an eight-bit equivalent, followed by a float conversion op so that the result is usable by subsequent nodes.\n",
    "* **Other refinements**: That includes constant folding, batch_norm folding, fusing convolusion, etc.\n",
    "\n",
    "The optimisation operations we apply in this example are from the TensorFlow [Graph Conversion Tool](https://github.com/tensorflow/tensorflow/blob/master/tensorflow/tools/graph_transforms/README.md#fold_constants), which is a c++ command-line tool. We use the Python APIs to call the c++ libraries. \n",
    "\n",
    "The Graph Transform Tool is designed to work on models that are saved as GraphDef files, usually in a binary protobuf format. However, the model exported after training and estimator is in SavedModel format (saved_model.pb file + variables folder with variables.data-* and variables.index files). \n",
    "\n",
    "We need to optimise the mode and keep it the SavedModel format. Thus, the optimisation steps will be:\n",
    "1. Freeze the SavedModel: SavedModel -> GraphDef\n",
    "2. Optimisae the freezed model: GraphDef -> GraphDef\n",
    "3. Convert the optimised freezed model to SavedModel: GraphDef -> SavedModel"
   ]
  },
  {
   "cell_type": "code",
   "execution_count": null,
   "metadata": {},
   "outputs": [],
   "source": [
    "import os\n",
    "import numpy as np\n",
    "from datetime import datetime\n",
    "\n",
    "import tensorflow as tf\n",
    "from tensorflow import data\n",
    "\n",
    "print \"TensorFlow : {}\".format(tf.__version__)"
   ]
  },
  {
   "cell_type": "markdown",
   "metadata": {},
   "source": [
    "## 1. Train and Export a TensorFlow DNNClassifier"
   ]
  },
  {
   "cell_type": "markdown",
   "metadata": {},
   "source": [
    "### 1.1 Import Data"
   ]
  },
  {
   "cell_type": "code",
   "execution_count": null,
   "metadata": {},
   "outputs": [],
   "source": [
    "mnist = tf.contrib.learn.datasets.load_dataset(\"mnist\")\n",
    "train_data = mnist.train.images\n",
    "train_labels = np.asarray(mnist.train.labels, dtype=np.int32)\n",
    "eval_data = mnist.test.images\n",
    "eval_labels = np.asarray(mnist.test.labels, dtype=np.int32)\n",
    "NUM_CLASSES = 10"
   ]
  },
  {
   "cell_type": "code",
   "execution_count": null,
   "metadata": {},
   "outputs": [],
   "source": [
    "print \"Train data shape: {}\".format(train_data.shape)\n",
    "print \"Eval data shape: {}\".format(eval_data.shape)"
   ]
  },
  {
   "cell_type": "markdown",
   "metadata": {},
   "source": [
    "### 1.2 Estimator"
   ]
  },
  {
   "cell_type": "markdown",
   "metadata": {},
   "source": [
    "#### 1.2.1 Model Function"
   ]
  },
  {
   "cell_type": "code",
   "execution_count": null,
   "metadata": {},
   "outputs": [],
   "source": [
    "def model_fn(features, labels, mode, params):\n",
    "\n",
    "    # convolution layers\n",
    "    def _cnn_layers(conv_inputs):\n",
    "\n",
    "        for i in range(params.num_conv_layers):\n",
    "\n",
    "            filters = params.init_filters * (2**i)\n",
    "            \n",
    "            conv = tf.layers.conv2d(conv_inputs, kernel_size=3, filters=filters, strides=1, padding='SAME')\n",
    "            pool = tf.layers.max_pooling2d(conv, pool_size=2, strides=2, padding='SAME')\n",
    "            batch_norm = tf.layers.batch_normalization(pool)  \n",
    "            conv_inputs = batch_norm\n",
    "\n",
    "        outputs = conv_inputs\n",
    "        return outputs\n",
    "    \n",
    "    # fully-connected layers\n",
    "    def _fully_connected_layers(dense_inputs):\n",
    "        \n",
    "        for i in range(len(params.hidden_units)):\n",
    "            dense = tf.layers.dense(dense_inputs, params.hidden_units[i], activation='relu')\n",
    "            dense_dropout = tf.layers.dropout(dense, params.dropout)\n",
    "            dense_inputs = dense_dropout\n",
    "            \n",
    "        outputs = dense_inputs\n",
    "        return outputs\n",
    "\n",
    "    # model body\n",
    "    def _inference(features, mode, params):\n",
    "        \n",
    "        input_layer = tf.reshape(features[\"input_image\"], [-1, 28, 28, 1])\n",
    "        convolutions = _cnn_layers(input_layer)\n",
    "        flatten = tf.layers.flatten(convolutions)\n",
    "        fully_connected = _fully_connected_layers(flatten)\n",
    "        \n",
    "        # unused_layer\n",
    "        unused_layers = tf.layers.dense(flatten, units=100, name='unused', activation=None)\n",
    "        \n",
    "        logits = tf.layers.dense(fully_connected, units=NUM_CLASSES, name='logits', activation=None)\n",
    "        return logits\n",
    "    \n",
    "    # model head\n",
    "    head = tf.contrib.estimator.multi_class_head(n_classes=NUM_CLASSES)\n",
    "    \n",
    "    return head.create_estimator_spec(\n",
    "            features=features,\n",
    "            mode=mode,\n",
    "            logits=_inference(features, mode, params),\n",
    "            labels=labels,\n",
    "            optimizer=tf.train.AdamOptimizer(params.learning_rate)\n",
    "    )"
   ]
  },
  {
   "cell_type": "markdown",
   "metadata": {},
   "source": [
    "#### 1.2.2 Create Custom Estimator"
   ]
  },
  {
   "cell_type": "code",
   "execution_count": null,
   "metadata": {},
   "outputs": [],
   "source": [
    "def create_estimator(params, run_config):\n",
    "\n",
    "    # evaluation metric_fn\n",
    "    def _metric_fn(labels, predictions):\n",
    "\n",
    "        metrics = {}\n",
    "        pred_class = predictions['class_ids']\n",
    "        metrics['micro_accuracy'] = tf.metrics.mean_per_class_accuracy(\n",
    "            labels=labels, predictions=pred_class, num_classes=NUM_CLASSES\n",
    "        )\n",
    "\n",
    "        return metrics\n",
    "\n",
    "    mnist_classifier = tf.estimator.Estimator(\n",
    "        model_fn=model_fn, params=params, config=run_config)\n",
    "\n",
    "    mnist_classifier = tf.contrib.estimator.add_metrics(\n",
    "        estimator=mnist_classifier, metric_fn=_metric_fn)\n",
    "    \n",
    "    return mnist_classifier"
   ]
  },
  {
   "cell_type": "markdown",
   "metadata": {},
   "source": [
    "### 1.3 Train and Evaluate"
   ]
  },
  {
   "cell_type": "markdown",
   "metadata": {},
   "source": [
    "#### 1.3.1 Experiment Function"
   ]
  },
  {
   "cell_type": "code",
   "execution_count": null,
   "metadata": {},
   "outputs": [],
   "source": [
    "def run_experiment(hparam, run_config):\n",
    "    \n",
    "    train_spec = tf.estimator.TrainSpec(\n",
    "        input_fn = tf.estimator.inputs.numpy_input_fn(\n",
    "            x={\"input_image\": train_data},\n",
    "            y=train_labels,\n",
    "            batch_size=hparam.batch_size,\n",
    "            num_epochs=None,\n",
    "            shuffle=True),\n",
    "        max_steps=hparams.max_traning_steps\n",
    "    )\n",
    "\n",
    "    eval_spec = tf.estimator.EvalSpec(\n",
    "        input_fn = tf.estimator.inputs.numpy_input_fn(\n",
    "            x={\"input_image\": eval_data},\n",
    "            y=eval_labels,\n",
    "            batch_size=hparam.batch_size,\n",
    "            num_epochs=1,\n",
    "            shuffle=False),\n",
    "        steps=None,\n",
    "        throttle_secs=hparams.eval_throttle_secs\n",
    "    )\n",
    "\n",
    "    tf.logging.set_verbosity(tf.logging.INFO)\n",
    "\n",
    "    time_start = datetime.utcnow() \n",
    "    print(\"Experiment started at {}\".format(time_start.strftime(\"%H:%M:%S\")))\n",
    "    print(\".......................................\") \n",
    "\n",
    "    estimator = create_estimator(hparams, run_config)\n",
    "\n",
    "    tf.estimator.train_and_evaluate(\n",
    "        estimator=estimator,\n",
    "        train_spec=train_spec, \n",
    "        eval_spec=eval_spec\n",
    "    )\n",
    "\n",
    "    time_end = datetime.utcnow() \n",
    "    print(\".......................................\")\n",
    "    print(\"Experiment finished at {}\".format(time_end.strftime(\"%H:%M:%S\")))\n",
    "    print(\"\")\n",
    "    time_elapsed = time_end - time_start\n",
    "    print(\"Experiment elapsed time: {} seconds\".format(time_elapsed.total_seconds()))\n",
    "    \n",
    "    return estimator\n"
   ]
  },
  {
   "cell_type": "markdown",
   "metadata": {},
   "source": [
    "#### 1.3.2  Experiment Parameters"
   ]
  },
  {
   "cell_type": "code",
   "execution_count": null,
   "metadata": {},
   "outputs": [],
   "source": [
    "MODELS_LOCATION = 'models/mnist'\n",
    "MODEL_NAME = 'cnn_classifier'\n",
    "model_dir = os.path.join(MODELS_LOCATION, MODEL_NAME)\n",
    "\n",
    "print model_dir\n",
    "\n",
    "hparams  = tf.contrib.training.HParams(\n",
    "    batch_size=100,\n",
    "    hidden_units=[512, 512],\n",
    "    num_conv_layers=3, \n",
    "    init_filters=64,\n",
    "    dropout=0.2,\n",
    "    max_traning_steps=50,\n",
    "    eval_throttle_secs=10,\n",
    "    learning_rate=1e-3\n",
    ")\n",
    "\n",
    "run_config = tf.estimator.RunConfig(\n",
    "    tf_random_seed=19830610,\n",
    "    save_checkpoints_steps=1000,\n",
    "    keep_checkpoint_max=3,\n",
    "    model_dir=model_dir\n",
    ")"
   ]
  },
  {
   "cell_type": "markdown",
   "metadata": {},
   "source": [
    "### TensorFlow Graph \n",
    "<img src=\"graph_tf.png\" width=\"500\"/>"
   ]
  },
  {
   "cell_type": "markdown",
   "metadata": {},
   "source": [
    "#### 1.3.3 Run Experiment"
   ]
  },
  {
   "cell_type": "code",
   "execution_count": null,
   "metadata": {},
   "outputs": [],
   "source": [
    "if tf.gfile.Exists(model_dir):\n",
    "    print(\"Removing previous artifacts...\")\n",
    "    tf.gfile.DeleteRecursively(model_dir)\n",
    "    \n",
    "estimator = run_experiment(hparams, run_config)"
   ]
  },
  {
   "cell_type": "markdown",
   "metadata": {},
   "source": [
    "### 1.4 Export the model"
   ]
  },
  {
   "cell_type": "code",
   "execution_count": null,
   "metadata": {},
   "outputs": [],
   "source": [
    "def make_serving_input_receiver_fn():\n",
    "    inputs = {'input_image': tf.placeholder(shape=[None,784], dtype=tf.float32, name='input_image')}\n",
    "    return tf.estimator.export.build_raw_serving_input_receiver_fn(inputs)\n",
    "\n",
    "export_dir = os.path.join(model_dir, 'export')\n",
    "\n",
    "if tf.gfile.Exists(export_dir):\n",
    "    tf.gfile.DeleteRecursively(export_dir)\n",
    "        \n",
    "estimator.export_savedmodel(\n",
    "    export_dir_base=export_dir,\n",
    "    serving_input_receiver_fn=make_serving_input_receiver_fn()\n",
    ")"
   ]
  },
  {
   "cell_type": "markdown",
   "metadata": {},
   "source": [
    "## 2. Inspect the Exported SavedModel"
   ]
  },
  {
   "cell_type": "code",
   "execution_count": null,
   "metadata": {},
   "outputs": [],
   "source": [
    "%%bash\n",
    "\n",
    "saved_models_base=models/mnist/cnn_classifier/export/\n",
    "saved_model_dir=${saved_models_base}$(ls ${saved_models_base} | tail -n 1)\n",
    "echo ${saved_model_dir}\n",
    "ls ${saved_model_dir}\n",
    "saved_model_cli show --dir=${saved_model_dir} --all"
   ]
  },
  {
   "cell_type": "markdown",
   "metadata": {},
   "source": [
    "### Prediction with SavedModel"
   ]
  },
  {
   "cell_type": "code",
   "execution_count": null,
   "metadata": {},
   "outputs": [],
   "source": [
    "def inference_test(saved_model_dir, signature=\"predict\", input_name='input_image', batch=300, repeat=100):\n",
    "\n",
    "    tf.logging.set_verbosity(tf.logging.ERROR)\n",
    "    \n",
    "    time_start = datetime.utcnow() \n",
    "    \n",
    "    predictor = tf.contrib.predictor.from_saved_model(\n",
    "        export_dir = saved_model_dir,\n",
    "        signature_def_key=signature\n",
    "    )\n",
    "    time_end = datetime.utcnow() \n",
    "        \n",
    "    time_elapsed = time_end - time_start\n",
    "   \n",
    "    print \"\"\n",
    "    print(\"Model loading time: {} seconds\".format(time_elapsed.total_seconds()))\n",
    "    print \"\"\n",
    "    \n",
    "    time_start = datetime.utcnow() \n",
    "    output = None\n",
    "    for i in range(repeat):\n",
    "        output = predictor(\n",
    "            {\n",
    "                input_name: eval_data[:batch]\n",
    "            }\n",
    "        )\n",
    "    \n",
    "    time_end = datetime.utcnow() \n",
    "\n",
    "    time_elapsed_sec = (time_end - time_start).total_seconds()\n",
    "    \n",
    "    print \"Inference elapsed time: {} seconds\".format(time_elapsed_sec)\n",
    "    print \"\"\n",
    "    \n",
    "    print \"Prediction produced for {} instances batch, repeated {} times\".format(len(output['class_ids']), repeat)\n",
    "    print \"Average latency per batch: {} seconds\".format(time_elapsed_sec/repeat)\n",
    "    print \"\"\n",
    "    \n",
    "    print \"Prediction output for the last instance:\"\n",
    "    for key in output.keys():\n",
    "        print \"{}: {}\".format(key,output[key][0])"
   ]
  },
  {
   "cell_type": "markdown",
   "metadata": {},
   "source": [
    "## 3. Test Prediction with SavedModel "
   ]
  },
  {
   "cell_type": "code",
   "execution_count": null,
   "metadata": {},
   "outputs": [],
   "source": [
    "saved_model_dir = os.path.join(export_dir, os.listdir(export_dir)[-1]) \n",
    "print(saved_model_dir)\n",
    "inference_test(saved_model_dir)"
   ]
  },
  {
   "cell_type": "markdown",
   "metadata": {},
   "source": [
    "### Describe GraphDef"
   ]
  },
  {
   "cell_type": "code",
   "execution_count": null,
   "metadata": {},
   "outputs": [],
   "source": [
    "def describe_graph(graph_def, show_nodes=False):\n",
    "    \n",
    "    print 'Input Feature Nodes: {}'.format([node.name for node in graph_def.node if node.op=='Placeholder'])\n",
    "    print \"\"\n",
    "    print 'Unused Nodes: {}'.format([node.name for node in graph_def.node if 'unused'  in node.name])\n",
    "    print \"\"\n",
    "    print 'Output Nodes: {}'.format( [node.name for node in graph_def.node if 'predictions' in node.name])\n",
    "    print \"\"\n",
    "    print 'Quanitization Nodes: {}'.format( [node.name for node in graph_def.node if 'quant' in node.name])\n",
    "    print \"\"\n",
    "    print 'Constant Count: {}'.format( len([node for node in graph_def.node if node.op=='Const']))\n",
    "    print \"\"\n",
    "    print 'Variable Count: {}'.format( len([node for node in graph_def.node if 'Variable' in node.op]))\n",
    "    print \"\"\n",
    "    print 'Identity Count: {}'.format( len([node for node in graph_def.node if node.op=='Identity']))\n",
    "    print \"\"\n",
    "    print 'Total nodes: {}'.format( len(graph_def.node))\n",
    "    print ''\n",
    "    \n",
    "    if show_nodes==True:\n",
    "        for node in graph_def.node:\n",
    "            print 'Op:{} - Name: {}'.format(node.op, node.name)"
   ]
  },
  {
   "cell_type": "markdown",
   "metadata": {},
   "source": [
    "## 4. Describe the SavedModel Graph (before optimisation)"
   ]
  },
  {
   "cell_type": "markdown",
   "metadata": {},
   "source": [
    "### Load GraphDef from a SavedModel Directory"
   ]
  },
  {
   "cell_type": "code",
   "execution_count": null,
   "metadata": {},
   "outputs": [],
   "source": [
    "def get_graph_def_from_saved_model(saved_model_dir):\n",
    "    \n",
    "    print saved_model_dir\n",
    "    print \"\"\n",
    "    \n",
    "    from tensorflow.python.saved_model import tag_constants\n",
    "    \n",
    "    with tf.Session() as session:\n",
    "        meta_graph_def = tf.saved_model.loader.load(\n",
    "            session,\n",
    "            tags=[tag_constants.SERVING],\n",
    "            export_dir=saved_model_dir\n",
    "        )\n",
    "        \n",
    "    return meta_graph_def.graph_def"
   ]
  },
  {
   "cell_type": "code",
   "execution_count": null,
   "metadata": {},
   "outputs": [],
   "source": [
    "describe_graph(get_graph_def_from_saved_model(saved_model_dir))"
   ]
  },
  {
   "cell_type": "markdown",
   "metadata": {},
   "source": [
    "### Get model size"
   ]
  },
  {
   "cell_type": "code",
   "execution_count": null,
   "metadata": {},
   "outputs": [],
   "source": [
    "def get_size(model_dir):\n",
    "    \n",
    "    print model_dir\n",
    "    print \"\"\n",
    "    \n",
    "    pb_size = os.path.getsize(os.path.join(model_dir,'saved_model.pb'))\n",
    "    \n",
    "    variables_size = 0\n",
    "    if os.path.exists(os.path.join(model_dir,'variables/variables.data-00000-of-00001')):\n",
    "        variables_size = os.path.getsize(os.path.join(model_dir,'variables/variables.data-00000-of-00001'))\n",
    "        variables_size += os.path.getsize(os.path.join(model_dir,'variables/variables.index'))\n",
    "\n",
    "    print \"Model size: {} KB\".format(round(pb_size/(1024.0),3))\n",
    "    print \"Variables size: {} KB\".format(round( variables_size/(1024.0),3))\n",
    "    print \"Total Size: {} KB\".format(round((pb_size + variables_size)/(1024.0),3))\n",
    "    "
   ]
  },
  {
   "cell_type": "code",
   "execution_count": null,
   "metadata": {},
   "outputs": [],
   "source": [
    "get_size(saved_model_dir)"
   ]
  },
  {
   "cell_type": "markdown",
   "metadata": {},
   "source": [
    "## 5. Freeze SavedModel\n",
    "\n",
    "This function will convert the SavedModel into a GraphDef file (freezed_model.pb), and storing the variables as constrant to the freezed_model.pb\n",
    "\n",
    "You need to define the graph output nodes for freezing. We are only interested in the **class_id**, which is produced by **head/predictions/ExpandDims** node"
   ]
  },
  {
   "cell_type": "code",
   "execution_count": null,
   "metadata": {},
   "outputs": [],
   "source": [
    "def freeze_graph(saved_model_dir):\n",
    "    \n",
    "    from tensorflow.python.tools import freeze_graph\n",
    "    from tensorflow.python.saved_model import tag_constants\n",
    "    \n",
    "    output_graph_filename = os.path.join(saved_model_dir, \"freezed_model.pb\")\n",
    "    output_node_names = \"head/predictions/ExpandDims\"\n",
    "    initializer_nodes = \"\"\n",
    "\n",
    "    freeze_graph.freeze_graph(\n",
    "        input_saved_model_dir=saved_model_dir,\n",
    "        output_graph=output_graph_filename,\n",
    "        saved_model_tags = tag_constants.SERVING,\n",
    "        output_node_names=output_node_names,\n",
    "        initializer_nodes=initializer_nodes,\n",
    "\n",
    "        input_graph=None, \n",
    "        input_saver=False,\n",
    "        input_binary=False, \n",
    "        input_checkpoint=None, \n",
    "        restore_op_name=None, \n",
    "        filename_tensor_name=None, \n",
    "        clear_devices=False,\n",
    "        input_meta_graph=False,\n",
    "    )\n",
    "    \n",
    "    print \"SavedModel graph freezed!\""
   ]
  },
  {
   "cell_type": "code",
   "execution_count": null,
   "metadata": {},
   "outputs": [],
   "source": [
    "freeze_graph(saved_model_dir)"
   ]
  },
  {
   "cell_type": "code",
   "execution_count": null,
   "metadata": {},
   "outputs": [],
   "source": [
    "%%bash\n",
    "saved_models_base=models/mnist/cnn_classifier/export/\n",
    "saved_model_dir=${saved_models_base}$(ls ${saved_models_base} | tail -n 1)\n",
    "echo ${saved_model_dir}\n",
    "ls ${saved_model_dir}"
   ]
  },
  {
   "cell_type": "markdown",
   "metadata": {},
   "source": [
    "## 6. Describe the freezed_model.pb Graph (after freezing)"
   ]
  },
  {
   "cell_type": "markdown",
   "metadata": {},
   "source": [
    "### Load GraphDef from GraphDef File"
   ]
  },
  {
   "cell_type": "code",
   "execution_count": null,
   "metadata": {},
   "outputs": [],
   "source": [
    "def get_graph_def_from_file(graph_filepath):\n",
    "    \n",
    "    print graph_filepath\n",
    "    print \"\"\n",
    "    \n",
    "    from tensorflow.python import ops\n",
    "    \n",
    "    with ops.Graph().as_default():\n",
    "        with tf.gfile.GFile(graph_filepath, \"rb\") as f:\n",
    "            graph_def = tf.GraphDef()\n",
    "            graph_def.ParseFromString(f.read())\n",
    "            \n",
    "            return graph_def\n",
    "            "
   ]
  },
  {
   "cell_type": "code",
   "execution_count": null,
   "metadata": {},
   "outputs": [],
   "source": [
    "freezed_filepath=os.path.join(saved_model_dir,'freezed_model.pb')\n",
    "describe_graph(get_graph_def_from_file(freezed_filepath))"
   ]
  },
  {
   "cell_type": "markdown",
   "metadata": {},
   "source": [
    "## 8. Optimise the freezed_model.pb"
   ]
  },
  {
   "cell_type": "markdown",
   "metadata": {},
   "source": [
    "### Optimise GraphDef"
   ]
  },
  {
   "cell_type": "code",
   "execution_count": null,
   "metadata": {},
   "outputs": [],
   "source": [
    "def optimize_graph(model_dir, graph_filename, transforms):\n",
    "    \n",
    "    from tensorflow.tools.graph_transforms import TransformGraph\n",
    "    \n",
    "    input_names = []\n",
    "    output_names = ['head/predictions/ExpandDims']\n",
    "    \n",
    "    graph_def = get_graph_def_from_file(os.path.join(model_dir, graph_filename))\n",
    "    optimised_graph_def = TransformGraph(graph_def, \n",
    "                                         input_names,\n",
    "                                         output_names,\n",
    "                                         transforms \n",
    "                                        )\n",
    "    tf.train.write_graph(optimised_graph_def,\n",
    "                        logdir=model_dir,\n",
    "                        as_text=False,\n",
    "                        name='optimised_model.pb')\n",
    "    \n",
    "    print \"Freezed graph optimised!\""
   ]
  },
  {
   "cell_type": "code",
   "execution_count": null,
   "metadata": {},
   "outputs": [],
   "source": [
    "transforms = [\n",
    "    'remove_nodes(op=Identity)', \n",
    "    'fold_constants(ignore_errors=true)',\n",
    "    'fold_batch_norms',\n",
    "    'fuse_resize_pad_and_conv',\n",
    "#     'quantize_weights',\n",
    "#     'quantize_nodes',\n",
    "    'merge_duplicate_nodes',\n",
    "    'strip_unused_nodes', \n",
    "    'sort_by_execution_order'\n",
    "]\n",
    "\n",
    "optimize_graph(saved_model_dir, 'freezed_model.pb', transforms)"
   ]
  },
  {
   "cell_type": "code",
   "execution_count": null,
   "metadata": {},
   "outputs": [],
   "source": [
    "%%bash\n",
    "saved_models_base=models/mnist/cnn_classifier/export/\n",
    "saved_model_dir=${saved_models_base}$(ls ${saved_models_base} | tail -n 1)\n",
    "echo ${saved_model_dir}\n",
    "ls ${saved_model_dir}"
   ]
  },
  {
   "cell_type": "markdown",
   "metadata": {},
   "source": [
    "## 8. Describe the Optimised Graph"
   ]
  },
  {
   "cell_type": "code",
   "execution_count": null,
   "metadata": {},
   "outputs": [],
   "source": [
    "optimised_filepath=os.path.join(saved_model_dir,'optimised_model.pb')\n",
    "describe_graph(get_graph_def_from_file(optimised_filepath))"
   ]
  },
  {
   "cell_type": "markdown",
   "metadata": {},
   "source": [
    "## 9. Convert Optimised graph (GraphDef) to SavedModel"
   ]
  },
  {
   "cell_type": "code",
   "execution_count": null,
   "metadata": {},
   "outputs": [],
   "source": [
    "def convert_graph_def_to_saved_model(graph_filepath):\n",
    "\n",
    "    from tensorflow.python import ops\n",
    "    export_dir=os.path.join(saved_model_dir,'optimised')\n",
    "\n",
    "    if tf.gfile.Exists(export_dir):\n",
    "        tf.gfile.DeleteRecursively(export_dir)\n",
    "\n",
    "    graph_def = get_graph_def_from_file(graph_filepath)\n",
    "    \n",
    "    with tf.Session(graph=tf.Graph()) as session:\n",
    "        tf.import_graph_def(graph_def, name=\"\")\n",
    "        tf.saved_model.simple_save(session,\n",
    "                export_dir,\n",
    "                inputs={\n",
    "                    node.name: session.graph.get_tensor_by_name(\"{}:0\".format(node.name)) \n",
    "                    for node in graph_def.node if node.op=='Placeholder'},\n",
    "                outputs={\n",
    "                    \"class_ids\": session.graph.get_tensor_by_name(\"head/predictions/ExpandDims:0\"),\n",
    "                }\n",
    "            )\n",
    "\n",
    "        print \"Optimised graph converted to SavedModel!\""
   ]
  },
  {
   "cell_type": "code",
   "execution_count": null,
   "metadata": {},
   "outputs": [],
   "source": [
    "optimised_filepath=os.path.join(saved_model_dir,'optimised_model.pb')\n",
    "convert_graph_def_to_saved_model(optimised_filepath)"
   ]
  },
  {
   "cell_type": "markdown",
   "metadata": {},
   "source": [
    "### Optimised SavedModel Size"
   ]
  },
  {
   "cell_type": "code",
   "execution_count": null,
   "metadata": {},
   "outputs": [],
   "source": [
    "optimised_saved_model_dir = os.path.join(saved_model_dir,'optimised') \n",
    "get_size(optimised_saved_model_dir)"
   ]
  },
  {
   "cell_type": "code",
   "execution_count": null,
   "metadata": {},
   "outputs": [],
   "source": [
    "%%bash\n",
    "\n",
    "saved_models_base=models/mnist/cnn_classifier/export/\n",
    "saved_model_dir=${saved_models_base}$(ls ${saved_models_base} | tail -n 1)/optimised\n",
    "ls ${saved_model_dir}\n",
    "saved_model_cli show --dir ${saved_model_dir} --all"
   ]
  },
  {
   "cell_type": "markdown",
   "metadata": {},
   "source": [
    "## 10. Prediction with the Optimised SavedModel"
   ]
  },
  {
   "cell_type": "code",
   "execution_count": null,
   "metadata": {},
   "outputs": [],
   "source": [
    "optimised_saved_model_dir = os.path.join(saved_model_dir,'optimised') \n",
    "print(optimised_saved_model_dir)\n",
    "inference_test(saved_model_dir=optimised_saved_model_dir, signature='serving_default', input_name='input_image')"
   ]
  },
  {
   "cell_type": "markdown",
   "metadata": {},
   "source": [
    "# Cloud ML Engine Deployment and Prediction"
   ]
  },
  {
   "cell_type": "code",
   "execution_count": null,
   "metadata": {},
   "outputs": [],
   "source": [
    "PROJECT = 'ksalama-gcp-playground'\n",
    "BUCKET = 'ksalama-gcs-cloudml'\n",
    "REGION = 'europe-west1'\n",
    "MODEL_NAME = 'mnist_classifier'\n",
    "\n",
    "os.environ['BUCKET'] = BUCKET\n",
    "os.environ['PROJECT'] = PROJECT\n",
    "os.environ['REGION'] = REGION\n",
    "os.environ['MODEL_NAME'] = MODEL_NAME"
   ]
  },
  {
   "cell_type": "markdown",
   "metadata": {},
   "source": [
    "## 1. Upload the model artefacts to Google Cloud Storage bucket"
   ]
  },
  {
   "cell_type": "code",
   "execution_count": null,
   "metadata": {},
   "outputs": [],
   "source": [
    "%%bash\n",
    "\n",
    "gsutil -m rm -r gs://${BUCKET}/tf-model-optimisation"
   ]
  },
  {
   "cell_type": "code",
   "execution_count": null,
   "metadata": {},
   "outputs": [],
   "source": [
    "%%bash\n",
    "\n",
    "saved_models_base=models/mnist/cnn_classifier/export/\n",
    "saved_model_dir=${saved_models_base}$(ls ${saved_models_base} | tail -n 1)\n",
    "\n",
    "echo ${saved_model_dir}\n",
    "\n",
    "gsutil -m cp -r ${saved_model_dir} gs://${BUCKET}/tf-model-optimisation/original"
   ]
  },
  {
   "cell_type": "code",
   "execution_count": null,
   "metadata": {},
   "outputs": [],
   "source": [
    "%%bash\n",
    "\n",
    "saved_models_base=models/mnist/cnn_classifier/export/\n",
    "saved_model_dir=${saved_models_base}$(ls ${saved_models_base} | tail -n 1)/optimised\n",
    "\n",
    "echo ${saved_model_dir}\n",
    "\n",
    "gsutil -m cp -r ${saved_model_dir} gs://${BUCKET}/tf-model-optimisation"
   ]
  },
  {
   "cell_type": "markdown",
   "metadata": {},
   "source": [
    "## 2. Deploy models to Cloud ML Engine\n",
    "\n",
    "Don't forget to delete the model and the model version if they were previously deployed!"
   ]
  },
  {
   "cell_type": "code",
   "execution_count": null,
   "metadata": {},
   "outputs": [],
   "source": [
    "%%bash\n",
    "\n",
    "echo ${MODEL_NAME}\n",
    "\n",
    "gcloud ml-engine models create ${MODEL_NAME} --regions=${REGION}"
   ]
  },
  {
   "cell_type": "markdown",
   "metadata": {},
   "source": [
    "**Version: v_org** is the original SavedModel (before optimisation)"
   ]
  },
  {
   "cell_type": "code",
   "execution_count": null,
   "metadata": {},
   "outputs": [],
   "source": [
    "%%bash\n",
    "\n",
    "MODEL_VERSION='v_org'\n",
    "MODEL_ORIGIN=gs://${BUCKET}/tf-model-optimisation/original\n",
    "\n",
    "gcloud ml-engine versions create ${MODEL_VERSION}\\\n",
    "            --model=${MODEL_NAME} \\\n",
    "            --origin=${MODEL_ORIGIN} \\\n",
    "            --runtime-version=1.10"
   ]
  },
  {
   "cell_type": "markdown",
   "metadata": {},
   "source": [
    "**Version: v_opt** is the optimised SavedModel (after optimisation)"
   ]
  },
  {
   "cell_type": "code",
   "execution_count": null,
   "metadata": {},
   "outputs": [],
   "source": [
    "%%bash\n",
    "\n",
    "MODEL_VERSION='v_opt'\n",
    "MODEL_ORIGIN=gs://${BUCKET}/tf-model-optimisation/optimised\n",
    "\n",
    "gcloud ml-engine versions create ${MODEL_VERSION}\\\n",
    "            --model=${MODEL_NAME} \\\n",
    "            --origin=${MODEL_ORIGIN} \\\n",
    "            --runtime-version=1.10"
   ]
  },
  {
   "cell_type": "markdown",
   "metadata": {},
   "source": [
    "## 3. Cloud ML Engine online predictions"
   ]
  },
  {
   "cell_type": "code",
   "execution_count": null,
   "metadata": {},
   "outputs": [],
   "source": [
    "from googleapiclient import discovery\n",
    "from oauth2client.client import GoogleCredentials\n",
    "\n",
    "credentials = GoogleCredentials.get_application_default()\n",
    "api = discovery.build(\n",
    "    'ml', 'v1', \n",
    "    credentials=credentials, \n",
    "    discoveryServiceUrl='https://storage.googleapis.com/cloud-ml/discovery/ml_v1_discovery.json'\n",
    ")\n",
    "\n",
    "    \n",
    "def predict(version, instances):\n",
    "\n",
    "    request_data = {'instances': instances}\n",
    "\n",
    "    model_url = 'projects/{}/models/{}/versions/{}'.format(PROJECT, MODEL_NAME, version)\n",
    "    response = api.projects().predict(body=request_data, name=model_url).execute()\n",
    "\n",
    "    class_ids = None\n",
    "    \n",
    "    try:\n",
    "        class_ids = [item[\"class_ids\"] for item in response[\"predictions\"]]\n",
    "    except:\n",
    "        print response\n",
    "    \n",
    "    return class_ids"
   ]
  },
  {
   "cell_type": "code",
   "execution_count": null,
   "metadata": {},
   "outputs": [],
   "source": [
    "def inference_cmle(version, batch=100, repeat=10):\n",
    "    \n",
    "    instances = [\n",
    "            {'input_image': [float(i) for i in list(eval_data[img])] }\n",
    "        for img in range(batch)\n",
    "    ]\n",
    "\n",
    "    #warmup request\n",
    "    predict(version, instances[0])\n",
    "    print 'Warm up request performed!'\n",
    "    print 'Timer started...'\n",
    "    print ''\n",
    "    \n",
    "    time_start = datetime.utcnow() \n",
    "    output = None\n",
    "    \n",
    "    for i in range(repeat):\n",
    "        output = predict(version, instances)\n",
    "    \n",
    "    time_end = datetime.utcnow() \n",
    "\n",
    "    time_elapsed_sec = (time_end - time_start).total_seconds()\n",
    "    \n",
    "    print \"Inference elapsed time: {} seconds\".format(time_elapsed_sec)\n",
    "    print \"\"\n",
    "    \n",
    "    print \"Prediction produced for {} instances batch, repeated {} times\".format(len(output), repeat)\n",
    "    print \"Average latency per batch: {} seconds\".format(time_elapsed_sec/repeat)\n",
    "    print \"\"\n",
    "    \n",
    "    print \"Prediction output for the last instance: {}\".format(output[0])\n"
   ]
  },
  {
   "cell_type": "code",
   "execution_count": null,
   "metadata": {},
   "outputs": [],
   "source": [
    "version='v_org'\n",
    "inference_cmle(version)"
   ]
  },
  {
   "cell_type": "code",
   "execution_count": null,
   "metadata": {},
   "outputs": [],
   "source": [
    "version='v_opt'\n",
    "inference_cmle(version)"
   ]
  },
  {
   "cell_type": "markdown",
   "metadata": {},
   "source": [
    "## Happy serving!"
   ]
  },
  {
   "cell_type": "code",
   "execution_count": null,
   "metadata": {},
   "outputs": [],
   "source": []
  }
 ],
 "metadata": {
  "kernelspec": {
   "display_name": "Python 2",
   "language": "python",
   "name": "python2"
  },
  "language_info": {
   "codemirror_mode": {
    "name": "ipython",
    "version": 2
   },
   "file_extension": ".py",
   "mimetype": "text/x-python",
   "name": "python",
   "nbconvert_exporter": "python",
   "pygments_lexer": "ipython2",
   "version": "2.7.10"
  }
 },
 "nbformat": 4,
 "nbformat_minor": 2
}
