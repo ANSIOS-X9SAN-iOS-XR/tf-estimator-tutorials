{
  "nbformat": 4,
  "nbformat_minor": 0,
  "metadata": {
    "colab": {
      "name": "Untitled3.ipynb",
      "version": "0.3.2",
      "provenance": [],
      "include_colab_link": true
    },
    "kernelspec": {
      "name": "python3",
      "display_name": "Python 3"
    }
  },
  "cells": [
    {
      "cell_type": "markdown",
      "metadata": {
        "id": "view-in-github",
        "colab_type": "text"
      },
      "source": [
        "<a href=\"https://colab.research.google.com/github/GoogleCloudPlatform/tf-estimator-tutorials/blob/master/00_Miscellaneous/text-similarity-analysis/bqml/classification_with_embeddings.ipynb\" target=\"_parent\"><img src=\"https://colab.research.google.com/assets/colab-badge.svg\" alt=\"Open In Colab\"/></a>"
      ]
    },
    {
      "metadata": {
        "id": "u9cD843d8k8L",
        "colab_type": "code",
        "colab": {}
      },
      "cell_type": "code",
      "source": [
        "from google.colab import auth\n",
        "auth.authenticate_user()"
      ],
      "execution_count": 0,
      "outputs": []
    },
    {
      "metadata": {
        "id": "XqYlHNGi8mV0",
        "colab_type": "code",
        "colab": {}
      },
      "cell_type": "code",
      "source": [
        "from google.cloud import bigquery\n",
        "client = bigquery.Client(project='yaboo-text-similarity-analysis')"
      ],
      "execution_count": 0,
      "outputs": []
    },
    {
      "metadata": {
        "id": "aieSw_8QA007",
        "colab_type": "text"
      },
      "cell_type": "markdown",
      "source": [
        "## Table Schema"
      ]
    },
    {
      "metadata": {
        "id": "jwJgzeAkAxTW",
        "colab_type": "code",
        "colab": {
          "base_uri": "https://localhost:8080/",
          "height": 104
        },
        "outputId": "7d8a496a-6184-4608-8f9c-2378954134b9"
      },
      "cell_type": "code",
      "source": [
        "dataset_id = 'my_dataset'\n",
        "table_id = 'my_table'\n",
        "\n",
        "dataset_ref = client.dataset(dataset_id)\n",
        "table_ref = dataset_ref.table(table_id)\n",
        "table = client.get_table(table_ref)\n",
        "\n",
        "# View table properties\n",
        "for e in table.schema:\n",
        "  print(e)"
      ],
      "execution_count": 26,
      "outputs": [
        {
          "output_type": "stream",
          "text": [
            "SchemaField('topics', 'STRING', 'NULLABLE', None, ())\n",
            "SchemaField('title', 'STRING', 'NULLABLE', None, ())\n",
            "SchemaField('content', 'STRING', 'NULLABLE', None, ())\n",
            "SchemaField('title_embed', 'FLOAT', 'REPEATED', None, ())\n",
            "SchemaField('content_embed', 'FLOAT', 'REPEATED', None, ())\n"
          ],
          "name": "stdout"
        }
      ]
    },
    {
      "metadata": {
        "id": "VBWxKdVk9B9n",
        "colab_type": "text"
      },
      "cell_type": "markdown",
      "source": [
        "##Create Features"
      ]
    },
    {
      "metadata": {
        "id": "jubsR5FI9EOQ",
        "colab_type": "code",
        "colab": {}
      },
      "cell_type": "code",
      "source": [
        "def get_flattened_embeddings(input_column='content_embed', n=512):\n",
        "  L = []\n",
        "  for i in range(n):\n",
        "    L.append(\"{0}[OFFSET({1})] AS {0}_{1}\".format(input_column, i))\n",
        "  return (',').join(L)\n",
        "\n",
        "def get_one_hot_vectors(input_column='topics', categories=['acl','gas']):\n",
        "  L = []\n",
        "  for cat in categories:\n",
        "    L.append(\n",
        "      \"CASE WHEN '{1}' in UNNEST(SPLIT({0})) THEN 1 ELSE 0 END as {1}\".format(\n",
        "        input_column, cat))\n",
        "  return (',').join(L)"
      ],
      "execution_count": 0,
      "outputs": []
    },
    {
      "metadata": {
        "id": "ZMLe79r2CZ_n",
        "colab_type": "code",
        "colab": {}
      },
      "cell_type": "code",
      "source": [
        "def get_topics_and_count():\n",
        "  sql = \"\"\"\n",
        "  WITH topics_flatten AS\n",
        "  (\n",
        "  SELECT topic FROM\n",
        "    (\n",
        "    SELECT \n",
        "      SPLIT(topics, ',') AS topic\n",
        "    FROM\n",
        "      `my_dataset.my_table`\n",
        "    WHERE\n",
        "      topics != ''\n",
        "    ),\n",
        "    unnest(topic) topic\n",
        "  )\n",
        "\n",
        "  SELECT \n",
        "    REPLACE(topic, '-', '_') AS topic,\n",
        "    count(*) AS count\n",
        "  FROM\n",
        "    topics_flatten\n",
        "  GROUP BY\n",
        "    topic\n",
        "  \"\"\"\n",
        "  return sql\n",
        "\n",
        "df = client.query(get_topics_and_count()).to_dataframe()"
      ],
      "execution_count": 0,
      "outputs": []
    },
    {
      "metadata": {
        "id": "IcNHFq-jDY7J",
        "colab_type": "code",
        "colab": {
          "base_uri": "https://localhost:8080/",
          "height": 397
        },
        "outputId": "999d4c4a-b374-4956-ee0b-bfe8b08bac36"
      },
      "cell_type": "code",
      "source": [
        "df.hist(bins=100)"
      ],
      "execution_count": 33,
      "outputs": [
        {
          "output_type": "execute_result",
          "data": {
            "text/plain": [
              "array([[<matplotlib.axes._subplots.AxesSubplot object at 0x7f7e601660b8>]],\n",
              "      dtype=object)"
            ]
          },
          "metadata": {
            "tags": []
          },
          "execution_count": 33
        },
        {
          "output_type": "display_data",
          "data": {
            "image/png": "[encoded data removed]",
            "text/plain": [
              "<matplotlib.figure.Figure at 0x7f7e601d8940>"
            ]
          },
          "metadata": {
            "tags": []
          }
        }
      ]
    },
    {
      "metadata": {
        "id": "dFqK5QPQDiZj",
        "colab_type": "code",
        "colab": {
          "base_uri": "https://localhost:8080/",
          "height": 35
        },
        "outputId": "6e10dc3b-baaf-4009-c56d-7e61389811d6"
      },
      "cell_type": "code",
      "source": [
        "target_categories = list(df[df['count'] >= 100].topic)\n",
        "target_categories[:2]"
      ],
      "execution_count": 37,
      "outputs": [
        {
          "output_type": "execute_result",
          "data": {
            "text/plain": [
              "['acq', 'bop']"
            ]
          },
          "metadata": {
            "tags": []
          },
          "execution_count": 37
        }
      ]
    },
    {
      "metadata": {
        "id": "DAQIYAKo9zDA",
        "colab_type": "code",
        "colab": {
          "base_uri": "https://localhost:8080/",
          "height": 35
        },
        "outputId": "6d587c6c-4218-4e8a-c33f-b486805f1c4e"
      },
      "cell_type": "code",
      "source": [
        "def create_dataset(categories=['acq'], embed='content_embed', n=512):\n",
        "  sql = \"\"\"\n",
        "  CREATE OR REPLACE TABLE `my_dataset.input_data`\n",
        "    AS\n",
        "    (\n",
        "      SELECT\n",
        "        STRUCT( {0} ) AS label,\n",
        "        STRUCT( {1} ) AS feature\n",
        "      FROM\n",
        "        `my_dataset.my_table`\n",
        "    )\n",
        "  \"\"\".format(\n",
        "      get_one_hot_vectors(input_column='topics', categories=categories),\n",
        "      get_flattened_embeddings(input_column=embed, n=n))\n",
        "  return sql\n",
        "\n",
        "sql = create_dataset(\n",
        "  categories=target_categories, embed='content_embed', n = 512)\n",
        "client.query(sql)"
      ],
      "execution_count": 35,
      "outputs": [
        {
          "output_type": "execute_result",
          "data": {
            "text/plain": [
              "<google.cloud.bigquery.job.QueryJob at 0x7f7e601854a8>"
            ]
          },
          "metadata": {
            "tags": []
          },
          "execution_count": 35
        }
      ]
    },
    {
      "metadata": {
        "id": "jOSrAqrT-SkN",
        "colab_type": "text"
      },
      "cell_type": "markdown",
      "source": [
        "## Create Models"
      ]
    },
    {
      "metadata": {
        "id": "Mc2aON2f-Ojz",
        "colab_type": "code",
        "colab": {
          "base_uri": "https://localhost:8080/",
          "height": 35
        },
        "outputId": "3a0c8692-5c91-4fa3-eb55-5a930c8d1e62"
      },
      "cell_type": "code",
      "source": [
        "def create_model(target='acq'):\n",
        "  sql = \"\"\"\n",
        "  CREATE OR REPLACE MODEL `my_dataset.model_{0}`\n",
        "  OPTIONS (\n",
        "      model_type='logistic_reg',\n",
        "      input_label_cols=['label']) AS\n",
        "  SELECT\n",
        "      label.{0} as label,\n",
        "      feature.*\n",
        "  FROM\n",
        "      `my_dataset.input_data`\n",
        "  \"\"\".format(target)\n",
        "\n",
        "  return sql\n",
        "\n",
        "sql = create_model(target='acq')\n",
        "client.query(sql)"
      ],
      "execution_count": 38,
      "outputs": [
        {
          "output_type": "execute_result",
          "data": {
            "text/plain": [
              "<google.cloud.bigquery.job.QueryJob at 0x7f7e60155898>"
            ]
          },
          "metadata": {
            "tags": []
          },
          "execution_count": 38
        }
      ]
    },
    {
      "metadata": {
        "id": "_QfdyOGa-f9f",
        "colab_type": "text"
      },
      "cell_type": "markdown",
      "source": [
        "## Evaluate Models"
      ]
    },
    {
      "metadata": {
        "id": "qVCysT6g-Y9m",
        "colab_type": "code",
        "colab": {
          "base_uri": "https://localhost:8080/",
          "height": 78
        },
        "outputId": "1c5a1550-c023-49b4-eb60-2f834fd48d5e"
      },
      "cell_type": "code",
      "source": [
        "def evaluate_model(target='acq', threshold=0.55):\n",
        "  sql = \"\"\"\n",
        "  SELECT\n",
        "    *\n",
        "  FROM\n",
        "    ML.EVALUATE(MODEL `my_dataset.model_{0}`,\n",
        "      (\n",
        "      SELECT\n",
        "        label.{0} as label,\n",
        "        feature.*\n",
        "      FROM\n",
        "        `my_dataset.input_data`),\n",
        "      STRUCT({1} AS threshold))\n",
        "  \"\"\".format(target, threshold)\n",
        "  return sql\n",
        "    \n",
        "sql = evaluate_model(target='acq', threshold=0.55)\n",
        "client.query(sql).to_dataframe()"
      ],
      "execution_count": 39,
      "outputs": [
        {
          "output_type": "execute_result",
          "data": {
            "text/html": [
              "<div>\n",
              "<style scoped>\n",
              "    .dataframe tbody tr th:only-of-type {\n",
              "        vertical-align: middle;\n",
              "    }\n",
              "\n",
              "    .dataframe tbody tr th {\n",
              "        vertical-align: top;\n",
              "    }\n",
              "\n",
              "    .dataframe thead th {\n",
              "        text-align: right;\n",
              "    }\n",
              "</style>\n",
              "<table border=\"1\" class=\"dataframe\">\n",
              "  <thead>\n",
              "    <tr style=\"text-align: right;\">\n",
              "      <th></th>\n",
              "      <th>precision</th>\n",
              "      <th>recall</th>\n",
              "      <th>accuracy</th>\n",
              "      <th>f1_score</th>\n",
              "      <th>log_loss</th>\n",
              "      <th>roc_auc</th>\n",
              "    </tr>\n",
              "  </thead>\n",
              "  <tbody>\n",
              "    <tr>\n",
              "      <th>0</th>\n",
              "      <td>0.734908</td>\n",
              "      <td>0.38009</td>\n",
              "      <td>0.912146</td>\n",
              "      <td>0.501044</td>\n",
              "      <td>0.310353</td>\n",
              "      <td>0.901</td>\n",
              "    </tr>\n",
              "  </tbody>\n",
              "</table>\n",
              "</div>"
            ],
            "text/plain": [
              "   precision   recall  accuracy  f1_score  log_loss  roc_auc\n",
              "0   0.734908  0.38009  0.912146  0.501044  0.310353    0.901"
            ]
          },
          "metadata": {
            "tags": []
          },
          "execution_count": 39
        }
      ]
    },
    {
      "metadata": {
        "id": "6Rq8LkEN-lBp",
        "colab_type": "code",
        "colab": {}
      },
      "cell_type": "code",
      "source": [
        "def evaluate_model_roc(target='acq'):\n",
        "  sql = \"\"\"\n",
        "  SELECT\n",
        "    *\n",
        "  FROM\n",
        "    ML.ROC_CURVE\n",
        "    (\n",
        "      MODEL `my_dataset.model_{0}`,\n",
        "      (\n",
        "        SELECT\n",
        "          label.{0} as label,\n",
        "          feature.*\n",
        "        FROM\n",
        "          `my_dataset.input_data`\n",
        "      )\n",
        "    )\n",
        "  \"\"\".format(target)\n",
        "  return sql\n",
        "\n",
        "sql = evaluate_model_roc(target='acq')\n",
        "df = client.query(sql).to_dataframe()"
      ],
      "execution_count": 0,
      "outputs": []
    },
    {
      "metadata": {
        "id": "_2xdr1i3-pLb",
        "colab_type": "code",
        "colab": {
          "base_uri": "https://localhost:8080/",
          "height": 394
        },
        "outputId": "27a88a4b-6cfe-4b63-8972-a1c67b181eba"
      },
      "cell_type": "code",
      "source": [
        "df.plot(x='false_positive_rate', y='recall', grid=True, title='roc curve')"
      ],
      "execution_count": 41,
      "outputs": [
        {
          "output_type": "execute_result",
          "data": {
            "text/plain": [
              "<matplotlib.axes._subplots.AxesSubplot at 0x7f7e5ffe6f98>"
            ]
          },
          "metadata": {
            "tags": []
          },
          "execution_count": 41
        },
        {
          "output_type": "display_data",
          "data": {
            "image/png": "[encoded data removed]",
            "text/plain": [
              "<matplotlib.figure.Figure at 0x7f7e5ffe65f8>"
            ]
          },
          "metadata": {
            "tags": []
          }
        }
      ]
    },
    {
      "metadata": {
        "id": "jqxoMHiz-rwa",
        "colab_type": "code",
        "colab": {}
      },
      "cell_type": "code",
      "source": [
        "def evaluate_model_pr(target='acq'):\n",
        "  sql = \"\"\"\n",
        "  SELECT\n",
        "    recall,\n",
        "    true_positives / (true_positives + false_positives) AS precision\n",
        "  FROM\n",
        "    ML.ROC_CURVE(\n",
        "      MODEL `my_dataset.model_{0}`,\n",
        "      (SELECT label.{0} as label, feature.* FROM `my_dataset.input_data`))\n",
        "  \"\"\".format(target)\n",
        "  return sql\n",
        "\n",
        "sql = evaluate_model_pr(target='acq')\n",
        "df = client.query(sql).to_dataframe()"
      ],
      "execution_count": 0,
      "outputs": []
    },
    {
      "metadata": {
        "id": "m6OjxzBL-vUQ",
        "colab_type": "code",
        "colab": {
          "base_uri": "https://localhost:8080/",
          "height": 394
        },
        "outputId": "79d6cdbd-e454-4224-8aa6-1a29a2801037"
      },
      "cell_type": "code",
      "source": [
        "df.plot(x='precision', y='recall', grid=True, title='precision recall curve')"
      ],
      "execution_count": 43,
      "outputs": [
        {
          "output_type": "execute_result",
          "data": {
            "text/plain": [
              "<matplotlib.axes._subplots.AxesSubplot at 0x7f7e601d8860>"
            ]
          },
          "metadata": {
            "tags": []
          },
          "execution_count": 43
        },
        {
          "output_type": "display_data",
          "data": {
            "image/png": "[encoded data removed]",
            "text/plain": [
              "<matplotlib.figure.Figure at 0x7f7e600732e8>"
            ]
          },
          "metadata": {
            "tags": []
          }
        }
      ]
    },
    {
      "metadata": {
        "id": "JPTHEt7M-xaG",
        "colab_type": "code",
        "colab": {
          "base_uri": "https://localhost:8080/",
          "height": 108
        },
        "outputId": "33b86677-b9b3-40a6-9520-2306dfcd6978"
      },
      "cell_type": "code",
      "source": [
        "def evaluate_model_confusion_matrix(target='acq'):\n",
        "    sql = \"\"\"\n",
        "    SELECT\n",
        "      *\n",
        "    FROM\n",
        "      ML.CONFUSION_MATRIX(MODEL `my_dataset.model_{0}`,\n",
        "      (\n",
        "        SELECT\n",
        "          label.{0} as label,\n",
        "          feature.*\n",
        "        FROM\n",
        "          `my_dataset.input_data`))\n",
        "    \"\"\".format(target)\n",
        "    return sql\n",
        "\n",
        "sql = evaluate_model_confusion_matrix(target='acq')\n",
        "client.query(sql).to_dataframe()"
      ],
      "execution_count": 44,
      "outputs": [
        {
          "output_type": "execute_result",
          "data": {
            "text/html": [
              "<div>\n",
              "<style scoped>\n",
              "    .dataframe tbody tr th:only-of-type {\n",
              "        vertical-align: middle;\n",
              "    }\n",
              "\n",
              "    .dataframe tbody tr th {\n",
              "        vertical-align: top;\n",
              "    }\n",
              "\n",
              "    .dataframe thead th {\n",
              "        text-align: right;\n",
              "    }\n",
              "</style>\n",
              "<table border=\"1\" class=\"dataframe\">\n",
              "  <thead>\n",
              "    <tr style=\"text-align: right;\">\n",
              "      <th></th>\n",
              "      <th>expected_label</th>\n",
              "      <th>_0</th>\n",
              "      <th>_1</th>\n",
              "    </tr>\n",
              "  </thead>\n",
              "  <tbody>\n",
              "    <tr>\n",
              "      <th>0</th>\n",
              "      <td>0</td>\n",
              "      <td>16333</td>\n",
              "      <td>500</td>\n",
              "    </tr>\n",
              "    <tr>\n",
              "      <th>1</th>\n",
              "      <td>1</td>\n",
              "      <td>1157</td>\n",
              "      <td>1053</td>\n",
              "    </tr>\n",
              "  </tbody>\n",
              "</table>\n",
              "</div>"
            ],
            "text/plain": [
              "   expected_label     _0    _1\n",
              "0               0  16333   500\n",
              "1               1   1157  1053"
            ]
          },
          "metadata": {
            "tags": []
          },
          "execution_count": 44
        }
      ]
    },
    {
      "metadata": {
        "id": "LeO9Afw1-47G",
        "colab_type": "text"
      },
      "cell_type": "markdown",
      "source": [
        "## Multi-Class Logistic Regression"
      ]
    },
    {
      "metadata": {
        "id": "b730TAUs_CDF",
        "colab_type": "code",
        "colab": {
          "base_uri": "https://localhost:8080/",
          "height": 69
        },
        "outputId": "eae882f3-03cc-4996-aa0a-db7fbe80d662"
      },
      "cell_type": "code",
      "source": [
        "for target_category in target_categories[:3]:\n",
        "  print(\"Creating a model for {0}...\".format(target_category))\n",
        "  client.query(create_model(target=target_category))"
      ],
      "execution_count": 45,
      "outputs": [
        {
          "output_type": "stream",
          "text": [
            "Creating a model for acq...\n",
            "Creating a model for bop...\n",
            "Creating a model for cpi...\n"
          ],
          "name": "stdout"
        }
      ]
    },
    {
      "metadata": {
        "id": "_23cHG33_Fb0",
        "colab_type": "code",
        "colab": {
          "base_uri": "https://localhost:8080/",
          "height": 69
        },
        "outputId": "17c15d8f-1ea5-4cd9-db4d-f09fce90dd67"
      },
      "cell_type": "code",
      "source": [
        "d_cat_to_eval = {}\n",
        "\n",
        "for target_category in target_categories[:3]:\n",
        "  print(\"Evaluating a model for {0}...\".format(target_category))\n",
        "  sql = evaluate_model(target=target_category, threshold=0.55)\n",
        "  d_cat_to_eval[target_category] = client.query(sql).to_dataframe()"
      ],
      "execution_count": 46,
      "outputs": [
        {
          "output_type": "stream",
          "text": [
            "Evaluating a model for acq...\n",
            "Evaluating a model for bop...\n",
            "Evaluating a model for cpi...\n"
          ],
          "name": "stdout"
        }
      ]
    },
    {
      "metadata": {
        "id": "GzoiciOj_J4r",
        "colab_type": "code",
        "colab": {
          "base_uri": "https://localhost:8080/",
          "height": 78
        },
        "outputId": "2bf6edc7-8d3c-4305-b116-19d71e88a951"
      },
      "cell_type": "code",
      "source": [
        "d_cat_to_eval['acq']"
      ],
      "execution_count": 47,
      "outputs": [
        {
          "output_type": "execute_result",
          "data": {
            "text/html": [
              "<div>\n",
              "<style scoped>\n",
              "    .dataframe tbody tr th:only-of-type {\n",
              "        vertical-align: middle;\n",
              "    }\n",
              "\n",
              "    .dataframe tbody tr th {\n",
              "        vertical-align: top;\n",
              "    }\n",
              "\n",
              "    .dataframe thead th {\n",
              "        text-align: right;\n",
              "    }\n",
              "</style>\n",
              "<table border=\"1\" class=\"dataframe\">\n",
              "  <thead>\n",
              "    <tr style=\"text-align: right;\">\n",
              "      <th></th>\n",
              "      <th>precision</th>\n",
              "      <th>recall</th>\n",
              "      <th>accuracy</th>\n",
              "      <th>f1_score</th>\n",
              "      <th>log_loss</th>\n",
              "      <th>roc_auc</th>\n",
              "    </tr>\n",
              "  </thead>\n",
              "  <tbody>\n",
              "    <tr>\n",
              "      <th>0</th>\n",
              "      <td>0.305033</td>\n",
              "      <td>0.770588</td>\n",
              "      <td>0.769627</td>\n",
              "      <td>0.437059</td>\n",
              "      <td>0.629115</td>\n",
              "      <td>0.850683</td>\n",
              "    </tr>\n",
              "  </tbody>\n",
              "</table>\n",
              "</div>"
            ],
            "text/plain": [
              "   precision    recall  accuracy  f1_score  log_loss   roc_auc\n",
              "0   0.305033  0.770588  0.769627  0.437059  0.629115  0.850683"
            ]
          },
          "metadata": {
            "tags": []
          },
          "execution_count": 47
        }
      ]
    },
    {
      "metadata": {
        "id": "-BRvczlA_L_i",
        "colab_type": "code",
        "colab": {
          "base_uri": "https://localhost:8080/",
          "height": 78
        },
        "outputId": "64112dd9-1ef9-4df8-b38f-e3a12ba4502a"
      },
      "cell_type": "code",
      "source": [
        "d_cat_to_eval['bop']"
      ],
      "execution_count": 48,
      "outputs": [
        {
          "output_type": "execute_result",
          "data": {
            "text/html": [
              "<div>\n",
              "<style scoped>\n",
              "    .dataframe tbody tr th:only-of-type {\n",
              "        vertical-align: middle;\n",
              "    }\n",
              "\n",
              "    .dataframe tbody tr th {\n",
              "        vertical-align: top;\n",
              "    }\n",
              "\n",
              "    .dataframe thead th {\n",
              "        text-align: right;\n",
              "    }\n",
              "</style>\n",
              "<table border=\"1\" class=\"dataframe\">\n",
              "  <thead>\n",
              "    <tr style=\"text-align: right;\">\n",
              "      <th></th>\n",
              "      <th>precision</th>\n",
              "      <th>recall</th>\n",
              "      <th>accuracy</th>\n",
              "      <th>f1_score</th>\n",
              "      <th>log_loss</th>\n",
              "      <th>roc_auc</th>\n",
              "    </tr>\n",
              "  </thead>\n",
              "  <tbody>\n",
              "    <tr>\n",
              "      <th>0</th>\n",
              "      <td>NaN</td>\n",
              "      <td>0.0</td>\n",
              "      <td>0.994696</td>\n",
              "      <td>0.0</td>\n",
              "      <td>0.152062</td>\n",
              "      <td>0.883531</td>\n",
              "    </tr>\n",
              "  </tbody>\n",
              "</table>\n",
              "</div>"
            ],
            "text/plain": [
              "   precision  recall  accuracy  f1_score  log_loss   roc_auc\n",
              "0        NaN     0.0  0.994696       0.0  0.152062  0.883531"
            ]
          },
          "metadata": {
            "tags": []
          },
          "execution_count": 48
        }
      ]
    },
    {
      "metadata": {
        "id": "6IQ37Nfc_Nff",
        "colab_type": "code",
        "colab": {
          "base_uri": "https://localhost:8080/",
          "height": 78
        },
        "outputId": "7f54f335-ca33-4503-cb3e-f1085a630895"
      },
      "cell_type": "code",
      "source": [
        "d_cat_to_eval['cpi']"
      ],
      "execution_count": 49,
      "outputs": [
        {
          "output_type": "execute_result",
          "data": {
            "text/html": [
              "<div>\n",
              "<style scoped>\n",
              "    .dataframe tbody tr th:only-of-type {\n",
              "        vertical-align: middle;\n",
              "    }\n",
              "\n",
              "    .dataframe tbody tr th {\n",
              "        vertical-align: top;\n",
              "    }\n",
              "\n",
              "    .dataframe thead th {\n",
              "        text-align: right;\n",
              "    }\n",
              "</style>\n",
              "<table border=\"1\" class=\"dataframe\">\n",
              "  <thead>\n",
              "    <tr style=\"text-align: right;\">\n",
              "      <th></th>\n",
              "      <th>precision</th>\n",
              "      <th>recall</th>\n",
              "      <th>accuracy</th>\n",
              "      <th>f1_score</th>\n",
              "      <th>log_loss</th>\n",
              "      <th>roc_auc</th>\n",
              "    </tr>\n",
              "  </thead>\n",
              "  <tbody>\n",
              "    <tr>\n",
              "      <th>0</th>\n",
              "      <td>NaN</td>\n",
              "      <td>0.0</td>\n",
              "      <td>0.994696</td>\n",
              "      <td>0.0</td>\n",
              "      <td>0.151838</td>\n",
              "      <td>0.894839</td>\n",
              "    </tr>\n",
              "  </tbody>\n",
              "</table>\n",
              "</div>"
            ],
            "text/plain": [
              "   precision  recall  accuracy  f1_score  log_loss   roc_auc\n",
              "0        NaN     0.0  0.994696       0.0  0.151838  0.894839"
            ]
          },
          "metadata": {
            "tags": []
          },
          "execution_count": 49
        }
      ]
    },
    {
      "metadata": {
        "id": "i4FXAHROFAlv",
        "colab_type": "code",
        "colab": {}
      },
      "cell_type": "code",
      "source": [
        ""
      ],
      "execution_count": 0,
      "outputs": []
    }
  ]
}