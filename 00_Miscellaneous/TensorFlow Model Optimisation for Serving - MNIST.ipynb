{
 "cells": [
  {
   "cell_type": "markdown",
   "metadata": {},
   "source": [
    "# Optimising a TensorFlow SavedModel for Serving"
   ]
  },
  {
   "cell_type": "markdown",
   "metadata": {},
   "source": [
    "This notebooks shows how to optimise the TensorFlow exported SavedModel by **shrinking** its size (to have less memory and disk footprints), and **improving** prediction latency. This can be accopmlished by applying the following:\n",
    "* **Freezing**: That is, converting the variables stored in a checkpoint file of the SavedModel into constants stored directly in the model graph.\n",
    "* **Pruning**: That is, stripping unused nodes during the prediction path of the graph, merging duplicate nodes, as well as removing other node ops like summary, identity, etc.\n",
    "* **Quantisation**:  That is, converting any large float Const op into an eight-bit equivalent, followed by a float conversion op so that the result is usable by subsequent nodes.\n",
    "* **Other refinements**: That includes constant folding, batch_norm folding, fusing convolusion, etc.\n",
    "\n",
    "The optimisation operations we apply in this example are from the TensorFlow [Graph Conversion Tool](https://github.com/tensorflow/tensorflow/blob/master/tensorflow/tools/graph_transforms/README.md#fold_constants), which is a c++ command-line tool. We use the Python APIs to call the c++ libraries. \n",
    "\n",
    "The Graph Transform Tool is designed to work on models that are saved as GraphDef files, usually in a binary protobuf format. However, the model exported after training and estimator is in SavedModel format (saved_model.pb file + variables folder with variables.data-* and variables.index files). \n",
    "\n",
    "We need to optimise the mode and keep it the SavedModel format. Thus, the optimisation steps will be:\n",
    "1. Freeze the SavedModel: SavedModel -> GraphDef\n",
    "2. Optimisae the freezed model: GraphDef -> GraphDef\n",
    "3. Convert the optimised freezed model to SavedModel: GraphDef -> SavedModel"
   ]
  },
  {
   "cell_type": "code",
   "execution_count": 1,
   "metadata": {},
   "outputs": [
    {
     "name": "stdout",
     "output_type": "stream",
     "text": [
      "TensorFlow : 1.10.0\n"
     ]
    }
   ],
   "source": [
    "import os\n",
    "import numpy as np\n",
    "from datetime import datetime\n",
    "\n",
    "import tensorflow as tf\n",
    "from tensorflow import data\n",
    "\n",
    "print \"TensorFlow : {}\".format(tf.__version__)"
   ]
  },
  {
   "cell_type": "markdown",
   "metadata": {},
   "source": [
    "## 1. Train and Export a TensorFlow DNNClassifier"
   ]
  },
  {
   "cell_type": "markdown",
   "metadata": {},
   "source": [
    "### 1.1 Import Data"
   ]
  },
  {
   "cell_type": "code",
   "execution_count": 2,
   "metadata": {},
   "outputs": [
    {
     "name": "stdout",
     "output_type": "stream",
     "text": [
      "WARNING:tensorflow:From <ipython-input-2-d053803e8488>:1: load_dataset (from tensorflow.contrib.learn.python.learn.datasets) is deprecated and will be removed in a future version.\n",
      "Instructions for updating:\n",
      "Please use tf.data.\n",
      "WARNING:tensorflow:From /Users/khalidsalama/Technology/python-venvs/py27-venv/lib/python2.7/site-packages/tensorflow/contrib/learn/python/learn/datasets/__init__.py:80: load_mnist (from tensorflow.contrib.learn.python.learn.datasets.mnist) is deprecated and will be removed in a future version.\n",
      "Instructions for updating:\n",
      "Please use alternatives such as official/mnist/dataset.py from tensorflow/models.\n",
      "WARNING:tensorflow:From /Users/khalidsalama/Technology/python-venvs/py27-venv/lib/python2.7/site-packages/tensorflow/contrib/learn/python/learn/datasets/mnist.py:300: read_data_sets (from tensorflow.contrib.learn.python.learn.datasets.mnist) is deprecated and will be removed in a future version.\n",
      "Instructions for updating:\n",
      "Please use alternatives such as official/mnist/dataset.py from tensorflow/models.\n",
      "WARNING:tensorflow:From /Users/khalidsalama/Technology/python-venvs/py27-venv/lib/python2.7/site-packages/tensorflow/contrib/learn/python/learn/datasets/mnist.py:260: maybe_download (from tensorflow.contrib.learn.python.learn.datasets.base) is deprecated and will be removed in a future version.\n",
      "Instructions for updating:\n",
      "Please write your own downloading logic.\n",
      "WARNING:tensorflow:From /Users/khalidsalama/Technology/python-venvs/py27-venv/lib/python2.7/site-packages/tensorflow/contrib/learn/python/learn/datasets/mnist.py:262: extract_images (from tensorflow.contrib.learn.python.learn.datasets.mnist) is deprecated and will be removed in a future version.\n",
      "Instructions for updating:\n",
      "Please use tf.data to implement this functionality.\n",
      "Extracting MNIST-data/train-images-idx3-ubyte.gz\n",
      "WARNING:tensorflow:From /Users/khalidsalama/Technology/python-venvs/py27-venv/lib/python2.7/site-packages/tensorflow/contrib/learn/python/learn/datasets/mnist.py:267: extract_labels (from tensorflow.contrib.learn.python.learn.datasets.mnist) is deprecated and will be removed in a future version.\n",
      "Instructions for updating:\n",
      "Please use tf.data to implement this functionality.\n",
      "Extracting MNIST-data/train-labels-idx1-ubyte.gz\n",
      "Extracting MNIST-data/t10k-images-idx3-ubyte.gz\n",
      "Extracting MNIST-data/t10k-labels-idx1-ubyte.gz\n",
      "WARNING:tensorflow:From /Users/khalidsalama/Technology/python-venvs/py27-venv/lib/python2.7/site-packages/tensorflow/contrib/learn/python/learn/datasets/mnist.py:290: __init__ (from tensorflow.contrib.learn.python.learn.datasets.mnist) is deprecated and will be removed in a future version.\n",
      "Instructions for updating:\n",
      "Please use alternatives such as official/mnist/dataset.py from tensorflow/models.\n"
     ]
    }
   ],
   "source": [
    "mnist = tf.contrib.learn.datasets.load_dataset(\"mnist\")\n",
    "train_data = mnist.train.images\n",
    "train_labels = np.asarray(mnist.train.labels, dtype=np.int32)\n",
    "eval_data = mnist.test.images\n",
    "eval_labels = np.asarray(mnist.test.labels, dtype=np.int32)\n",
    "NUM_CLASSES = 10"
   ]
  },
  {
   "cell_type": "code",
   "execution_count": 91,
   "metadata": {},
   "outputs": [
    {
     "name": "stdout",
     "output_type": "stream",
     "text": [
      "Train data shape: (55000, 784)\n",
      "Eval data shape: (10000, 784)\n"
     ]
    }
   ],
   "source": [
    "print \"Train data shape: {}\".format(train_data.shape)\n",
    "print \"Eval data shape: {}\".format(eval_data.shape)"
   ]
  },
  {
   "cell_type": "markdown",
   "metadata": {},
   "source": [
    "### 1.2 Estimator"
   ]
  },
  {
   "cell_type": "markdown",
   "metadata": {},
   "source": [
    "#### 1.2.1 Model Function"
   ]
  },
  {
   "cell_type": "code",
   "execution_count": 4,
   "metadata": {},
   "outputs": [],
   "source": [
    "def model_fn(features, labels, mode, params):\n",
    "\n",
    "    # conv layers\n",
    "    def _cnn_layers(input_layer, num_conv_layers, init_filters, mode):\n",
    "\n",
    "        inputs = input_layer\n",
    "\n",
    "        for i in range(num_conv_layers):\n",
    "\n",
    "            current_filters = init_filters * (2**i)\n",
    "            \n",
    "            conv = tf.layers.conv2d(inputs=inputs, kernel_size=3, filters=current_filters, strides=1,\n",
    "                                     padding='SAME', name='conv{}'.format(i+1))\n",
    "            \n",
    "            pool = tf.layers.max_pooling2d(inputs=conv, pool_size=2, strides=2,\n",
    "                                            padding='SAME', name='pool{}'.format(i+1))\n",
    "            \n",
    "            batch_norm = tf.layers.batch_normalization(pool, name='batch_norm{}'.format(i+1))\n",
    "            \n",
    "            if params.debug == True:\n",
    "                tf.summary.histogram('Batch_Normalisation', batch_norm)\n",
    "\n",
    "            if mode==tf.estimator.ModeKeys.TRAIN:\n",
    "                batch_norm = tf.nn.dropout(batch_norm, params.drop_out)\n",
    "                \n",
    "            inputs = batch_norm\n",
    "\n",
    "        outputs = batch_norm\n",
    "        return outputs\n",
    "\n",
    "    # model body\n",
    "    def _inference(features, mode, params):\n",
    "        \n",
    "        input_layer = tf.reshape(features[\"input_image\"], [-1, 28, 28, 1], name='input_image')\n",
    "\n",
    "        conv_outputs = _cnn_layers(input_layer, params.num_conv_layers, params.init_filters, mode)\n",
    "        \n",
    "        flatten = tf.layers.flatten(inputs=conv_outputs, name='flatten')\n",
    "        \n",
    "        fully_connected = tf.contrib.layers.stack(inputs=flatten, layer=tf.contrib.layers.fully_connected,\n",
    "                                                stack_args=params.hidden_units,\n",
    "                                                activation_fn=tf.nn.relu)\n",
    "        if params.debug == True:\n",
    "            tf.summary.histogram('Fully_Connected', fully_connected)\n",
    "        \n",
    "        # unused_layer\n",
    "        unused_layers = tf.layers.dense(flatten, units=100, name='unused', activation=tf.nn.relu)\n",
    "        \n",
    "        logits = tf.layers.dense(fully_connected, units=NUM_CLASSES, name='logits', activation=None)\n",
    "        return logits\n",
    "    \n",
    "\n",
    "    # model head\n",
    "    head = tf.contrib.estimator.multi_class_head(n_classes=NUM_CLASSES)\n",
    "    \n",
    "    return head.create_estimator_spec(\n",
    "            features=features,\n",
    "            mode=mode,\n",
    "            logits=_inference(features, mode, params),\n",
    "            labels=labels,\n",
    "            optimizer=tf.train.AdamOptimizer(params.learning_rate)\n",
    "    )"
   ]
  },
  {
   "cell_type": "markdown",
   "metadata": {},
   "source": [
    "#### 1.2.2 Create Custom Estimator"
   ]
  },
  {
   "cell_type": "code",
   "execution_count": 5,
   "metadata": {},
   "outputs": [],
   "source": [
    "def create_estimator(params, run_config):\n",
    "\n",
    "    # evaluation metric_fn\n",
    "    def _metric_fn(labels, predictions):\n",
    "\n",
    "        metrics = {}\n",
    "        pred_class = predictions['class_ids']\n",
    "        metrics['micro_accuracy'] = tf.metrics.mean_per_class_accuracy(\n",
    "            labels=labels, predictions=pred_class, num_classes=NUM_CLASSES\n",
    "        )\n",
    "\n",
    "        return metrics\n",
    "\n",
    "    mnist_classifier = tf.estimator.Estimator(\n",
    "        model_fn=model_fn, params=params, config=run_config)\n",
    "\n",
    "    mnist_classifier = tf.contrib.estimator.add_metrics(\n",
    "        estimator=mnist_classifier, metric_fn=_metric_fn)\n",
    "    \n",
    "    return mnist_classifier"
   ]
  },
  {
   "cell_type": "markdown",
   "metadata": {},
   "source": [
    "### Train and Evaluate Experiment"
   ]
  },
  {
   "cell_type": "code",
   "execution_count": 6,
   "metadata": {},
   "outputs": [],
   "source": [
    "def run_experiment(hparam, run_config):\n",
    "    \n",
    "    train_spec = tf.estimator.TrainSpec(\n",
    "        input_fn = tf.estimator.inputs.numpy_input_fn(\n",
    "            x={\"input_image\": train_data},\n",
    "            y=train_labels,\n",
    "            batch_size=hparam.batch_size,\n",
    "            num_epochs=None,\n",
    "            shuffle=True),\n",
    "        max_steps=hparams.max_traning_steps\n",
    "    )\n",
    "\n",
    "    eval_spec = tf.estimator.EvalSpec(\n",
    "        input_fn = tf.estimator.inputs.numpy_input_fn(\n",
    "            x={\"input_image\": train_data},\n",
    "            y=train_labels,\n",
    "            batch_size=hparam.batch_size,\n",
    "            num_epochs=1,\n",
    "            shuffle=False),\n",
    "        steps=None,\n",
    "        throttle_secs=hparams.eval_throttle_secs\n",
    "    )\n",
    "\n",
    "    print(\"Removing previous artifacts...\")\n",
    "    if tf.gfile.Exists(run_config.model_dir):\n",
    "        tf.gfile.DeleteRecursively(run_config.model_dir)\n",
    "\n",
    "    tf.logging.set_verbosity(tf.logging.INFO)\n",
    "\n",
    "    time_start = datetime.utcnow() \n",
    "    print(\"Experiment started at {}\".format(time_start.strftime(\"%H:%M:%S\")))\n",
    "    print(\".......................................\") \n",
    "\n",
    "    estimator = create_estimator(hparams, run_config)\n",
    "\n",
    "    tf.estimator.train_and_evaluate(\n",
    "        estimator=estimator,\n",
    "        train_spec=train_spec, \n",
    "        eval_spec=eval_spec\n",
    "    )\n",
    "\n",
    "    time_end = datetime.utcnow() \n",
    "    print(\".......................................\")\n",
    "    print(\"Experiment finished at {}\".format(time_end.strftime(\"%H:%M:%S\")))\n",
    "    print(\"\")\n",
    "    time_elapsed = time_end - time_start\n",
    "    print(\"Experiment elapsed time: {} seconds\".format(time_elapsed.total_seconds()))\n",
    "    \n",
    "    return estimator\n"
   ]
  },
  {
   "cell_type": "markdown",
   "metadata": {},
   "source": [
    "### Experiment Parameters"
   ]
  },
  {
   "cell_type": "code",
   "execution_count": 7,
   "metadata": {},
   "outputs": [],
   "source": [
    "MODELS_LOCATION = 'models/mnist'\n",
    "MODEL_NAME = 'cnn_classifier'\n",
    "model_dir = os.path.join(MODELS_LOCATION, MODEL_NAME)\n",
    "\n",
    "hparams  = tf.contrib.training.HParams(\n",
    "    batch_size=100,\n",
    "    hidden_units=[1024],\n",
    "    num_conv_layers=2, \n",
    "    init_filters=64,\n",
    "    drop_out=0.85,\n",
    "    max_traning_steps=50, #20000,\n",
    "    eval_throttle_secs=10,\n",
    "    learning_rate=1e-3,\n",
    "    debug=True\n",
    ")\n",
    "\n",
    "run_config = tf.estimator.RunConfig(\n",
    "    tf_random_seed=19830610,\n",
    "    save_checkpoints_steps=1000,\n",
    "    keep_checkpoint_max=3,\n",
    "    model_dir=model_dir\n",
    ")"
   ]
  },
  {
   "cell_type": "markdown",
   "metadata": {},
   "source": [
    "### TensorFlow Graph \n",
    "![image](tensorboard-unused.jpeg)"
   ]
  },
  {
   "cell_type": "markdown",
   "metadata": {},
   "source": [
    "### Run Experiment"
   ]
  },
  {
   "cell_type": "code",
   "execution_count": 8,
   "metadata": {},
   "outputs": [
    {
     "name": "stdout",
     "output_type": "stream",
     "text": [
      "Removing previous artifacts...\n",
      "Experiment started at 17:15:17\n",
      ".......................................\n",
      "INFO:tensorflow:Using config: {'_save_checkpoints_secs': None, '_global_id_in_cluster': 0, '_session_config': None, '_keep_checkpoint_max': 3, '_tf_random_seed': 19830610, '_task_type': 'worker', '_train_distribute': None, '_is_chief': True, '_cluster_spec': <tensorflow.python.training.server_lib.ClusterSpec object at 0x1232b5c90>, '_model_dir': 'models/mnist/cnn_classifier', '_num_worker_replicas': 1, '_task_id': 0, '_log_step_count_steps': 100, '_master': '', '_save_checkpoints_steps': 1000, '_keep_checkpoint_every_n_hours': 10000, '_evaluation_master': '', '_service': None, '_device_fn': None, '_save_summary_steps': 100, '_num_ps_replicas': 0}\n",
      "INFO:tensorflow:Using config: {'_save_checkpoints_secs': None, '_session_config': None, '_keep_checkpoint_max': 3, '_task_type': 'worker', '_global_id_in_cluster': 0, '_is_chief': True, '_cluster_spec': <tensorflow.python.training.server_lib.ClusterSpec object at 0x120b38090>, '_evaluation_master': '', '_save_checkpoints_steps': 1000, '_keep_checkpoint_every_n_hours': 10000, '_service': None, '_num_ps_replicas': 0, '_tf_random_seed': 19830610, '_master': '', '_device_fn': None, '_num_worker_replicas': 1, '_task_id': 0, '_log_step_count_steps': 100, '_model_dir': 'models/mnist/cnn_classifier', '_train_distribute': None, '_save_summary_steps': 100}\n",
      "INFO:tensorflow:Running training and evaluation locally (non-distributed).\n",
      "INFO:tensorflow:Start train and evaluate loop. The evaluate will happen after every checkpoint. Checkpoint frequency is determined based on RunConfig arguments: save_checkpoints_steps 1000 or save_checkpoints_secs None.\n",
      "INFO:tensorflow:Calling model_fn.\n",
      "INFO:tensorflow:Calling model_fn.\n",
      "INFO:tensorflow:Done calling model_fn.\n",
      "INFO:tensorflow:Done calling model_fn.\n",
      "INFO:tensorflow:Create CheckpointSaverHook.\n",
      "INFO:tensorflow:Graph was finalized.\n",
      "INFO:tensorflow:Running local_init_op.\n",
      "INFO:tensorflow:Done running local_init_op.\n",
      "INFO:tensorflow:Saving checkpoints for 0 into models/mnist/cnn_classifier/model.ckpt.\n",
      "INFO:tensorflow:loss = 2.2876656, step = 1\n",
      "INFO:tensorflow:Saving checkpoints for 50 into models/mnist/cnn_classifier/model.ckpt.\n",
      "INFO:tensorflow:Calling model_fn.\n",
      "INFO:tensorflow:Calling model_fn.\n",
      "INFO:tensorflow:Done calling model_fn.\n",
      "INFO:tensorflow:Done calling model_fn.\n",
      "INFO:tensorflow:Starting evaluation at 2018-08-24-17:15:36\n",
      "INFO:tensorflow:Graph was finalized.\n",
      "INFO:tensorflow:Restoring parameters from models/mnist/cnn_classifier/model.ckpt-50\n",
      "INFO:tensorflow:Running local_init_op.\n",
      "INFO:tensorflow:Done running local_init_op.\n",
      "INFO:tensorflow:Finished evaluation at 2018-08-24-17:16:44\n",
      "INFO:tensorflow:Saving dict for global step 50: accuracy = 0.91905457, average_loss = 0.26602802, global_step = 50, loss = 0.2660282, micro_accuracy = 0.91879445\n",
      "INFO:tensorflow:Saving 'checkpoint_path' summary for global step 50: models/mnist/cnn_classifier/model.ckpt-50\n",
      "INFO:tensorflow:Loss for final step: 0.19753163.\n",
      ".......................................\n",
      "Experiment finished at 17:16:44\n",
      "\n",
      "Experiment elapsed time: 86.434655 seconds\n"
     ]
    }
   ],
   "source": [
    "estimator = run_experiment(hparams, run_config)"
   ]
  },
  {
   "cell_type": "markdown",
   "metadata": {},
   "source": [
    "### Export the model"
   ]
  },
  {
   "cell_type": "code",
   "execution_count": 9,
   "metadata": {},
   "outputs": [
    {
     "name": "stdout",
     "output_type": "stream",
     "text": [
      "INFO:tensorflow:Calling model_fn.\n",
      "INFO:tensorflow:Calling model_fn.\n",
      "INFO:tensorflow:Done calling model_fn.\n",
      "INFO:tensorflow:Done calling model_fn.\n",
      "INFO:tensorflow:Signatures INCLUDED in export for Eval: None\n",
      "INFO:tensorflow:Signatures INCLUDED in export for Classify: None\n",
      "INFO:tensorflow:Signatures INCLUDED in export for Regress: None\n",
      "INFO:tensorflow:Signatures INCLUDED in export for Predict: ['predict']\n",
      "INFO:tensorflow:Signatures INCLUDED in export for Train: None\n",
      "INFO:tensorflow:Signatures EXCLUDED from export because they cannot be be served via TensorFlow Serving APIs:\n",
      "INFO:tensorflow:'serving_default' : Classification input must be a single string Tensor; got {'input_image': <tf.Tensor 'input_image:0' shape=(?, 784) dtype=float32>}\n",
      "INFO:tensorflow:'classification' : Classification input must be a single string Tensor; got {'input_image': <tf.Tensor 'input_image:0' shape=(?, 784) dtype=float32>}\n",
      "WARNING:tensorflow:Export includes no default signature!\n",
      "INFO:tensorflow:Restoring parameters from models/mnist/cnn_classifier/model.ckpt-50\n",
      "INFO:tensorflow:Assets added to graph.\n",
      "INFO:tensorflow:No assets to write.\n",
      "INFO:tensorflow:SavedModel written to: models/mnist/cnn_classifier/export/temp-1535131004/saved_model.pb\n"
     ]
    },
    {
     "data": {
      "text/plain": [
       "'models/mnist/cnn_classifier/export/1535131004'"
      ]
     },
     "execution_count": 9,
     "metadata": {},
     "output_type": "execute_result"
    }
   ],
   "source": [
    "def make_serving_input_receiver_fn():\n",
    "    inputs = {'input_image': tf.placeholder(shape=[None,784], dtype=tf.float32, name='input_image')}\n",
    "    return tf.estimator.export.build_raw_serving_input_receiver_fn(inputs)\n",
    "\n",
    "export_dir = os.path.join(model_dir, 'export')\n",
    "\n",
    "if tf.gfile.Exists(export_dir):\n",
    "    tf.gfile.DeleteRecursively(export_dir)\n",
    "        \n",
    "estimator.export_savedmodel(\n",
    "    export_dir_base=export_dir,\n",
    "    serving_input_receiver_fn=make_serving_input_receiver_fn()\n",
    ")"
   ]
  },
  {
   "cell_type": "markdown",
   "metadata": {},
   "source": [
    "## 2. Inspect the Exported SavedModel"
   ]
  },
  {
   "cell_type": "code",
   "execution_count": 10,
   "metadata": {},
   "outputs": [
    {
     "name": "stdout",
     "output_type": "stream",
     "text": [
      "models/mnist/cnn_classifier/export/1535131004\n",
      "saved_model.pb\n",
      "variables\n",
      "\n",
      "MetaGraphDef with tag-set: 'serve' contains the following SignatureDefs:\n",
      "\n",
      "signature_def['predict']:\n",
      "  The given SavedModel SignatureDef contains the following input(s):\n",
      "    inputs['input_image'] tensor_info:\n",
      "        dtype: DT_FLOAT\n",
      "        shape: (-1, 784)\n",
      "        name: input_image:0\n",
      "  The given SavedModel SignatureDef contains the following output(s):\n",
      "    outputs['class_ids'] tensor_info:\n",
      "        dtype: DT_INT64\n",
      "        shape: (-1, 1)\n",
      "        name: head/predictions/ExpandDims:0\n",
      "    outputs['classes'] tensor_info:\n",
      "        dtype: DT_STRING\n",
      "        shape: (-1, 1)\n",
      "        name: head/predictions/str_classes:0\n",
      "    outputs['logits'] tensor_info:\n",
      "        dtype: DT_FLOAT\n",
      "        shape: (-1, 10)\n",
      "        name: logits/BiasAdd:0\n",
      "    outputs['probabilities'] tensor_info:\n",
      "        dtype: DT_FLOAT\n",
      "        shape: (-1, 10)\n",
      "        name: head/predictions/probabilities:0\n",
      "  Method name is: tensorflow/serving/predict\n"
     ]
    }
   ],
   "source": [
    "%%bash\n",
    "\n",
    "saved_models_base=models/mnist/cnn_classifier/export/\n",
    "saved_model_dir=${saved_models_base}$(ls ${saved_models_base} | tail -n 1)\n",
    "echo ${saved_model_dir}\n",
    "ls ${saved_model_dir}\n",
    "saved_model_cli show --dir=${saved_model_dir} --all"
   ]
  },
  {
   "cell_type": "markdown",
   "metadata": {},
   "source": [
    "### Prediction with SavedModel"
   ]
  },
  {
   "cell_type": "code",
   "execution_count": 172,
   "metadata": {},
   "outputs": [],
   "source": [
    "def inference_test(saved_model_dir, signature=\"predict\", repeat=10):\n",
    "\n",
    "    tf.logging.set_verbosity(tf.logging.ERROR)\n",
    "    \n",
    "    time_start = datetime.utcnow() \n",
    "    \n",
    "    predictor = tf.contrib.predictor.from_saved_model(\n",
    "        export_dir = saved_model_dir,\n",
    "        signature_def_key=signature\n",
    "    )\n",
    "    \n",
    "    output = None\n",
    "    for i in range(repeat):\n",
    "        output = predictor(\n",
    "            {\n",
    "                'input_image': eval_data[:10]\n",
    "            }\n",
    "        )\n",
    "    \n",
    "    time_end = datetime.utcnow() \n",
    "\n",
    "    time_elapsed = time_end - time_start\n",
    "    print(\"Inference elapsed time: {} seconds\".format(time_elapsed.total_seconds()))\n",
    "    print \"\"\n",
    "\n",
    "    \n",
    "    print \"Prediction produced for {} instances\".format(len(output['class_ids']))\n",
    "    print \"\"\n",
    "    \n",
    "    print \"Prediction output for the last instance:\"\n",
    "    for key in output.keys():\n",
    "        print \"{}: {}\".format(key,output[key][0])"
   ]
  },
  {
   "cell_type": "markdown",
   "metadata": {},
   "source": [
    "## 3. Test Prediction with SavedModel "
   ]
  },
  {
   "cell_type": "code",
   "execution_count": 175,
   "metadata": {},
   "outputs": [
    {
     "name": "stdout",
     "output_type": "stream",
     "text": [
      "models/mnist/cnn_classifier/export/1535131004\n",
      "Inference elapsed time: 18.519939 seconds\n",
      "\n",
      "Prediction produced for 10 instances\n",
      "\n",
      "Prediction output for the last instance:\n",
      "probabilities: [3.4098350e-06 3.6456075e-08 6.1648639e-06 1.5369851e-05 9.4937924e-08\n",
      " 1.6283158e-06 8.4963381e-10 9.9959904e-01 1.0351395e-05 3.6393310e-04]\n",
      "logits: [-0.24423252 -4.7825427   0.34797013  1.2615114  -3.8254282  -0.98335\n",
      " -8.5416     12.3442135   0.8662256   4.426074  ]\n",
      "classes: ['7']\n",
      "class_ids: [7]\n"
     ]
    }
   ],
   "source": [
    "saved_model_dir = os.path.join(export_dir, os.listdir(export_dir)[-1]) \n",
    "print(saved_model_dir)\n",
    "inference_test(saved_model_dir, repeat=1000)"
   ]
  },
  {
   "cell_type": "markdown",
   "metadata": {},
   "source": [
    "Latency for **10** instances, repeated **1000** is around **18.5 sec**."
   ]
  },
  {
   "cell_type": "markdown",
   "metadata": {},
   "source": [
    "### Describe GraphDef"
   ]
  },
  {
   "cell_type": "code",
   "execution_count": 186,
   "metadata": {},
   "outputs": [],
   "source": [
    "def describe_graph(graph_def, show_nodes=False):\n",
    "    \n",
    "    print 'Input Features: {}'.format([node.name for node in graph_def.node if node.op=='Placeholder'])\n",
    "    print 'Unused Nodes: {}'.format([node.name for node in graph_def.node if node.name=='unused'])\n",
    "    print 'Output Probabilities: {}'.format( [node.name for node in graph_def.node if node.op=='Softmax'])\n",
    "    print 'Constant Count: {}'.format( len([node for node in graph_def.node if node.op=='Const']))\n",
    "    print 'Variable Count: {}'.format( len([node for node in graph_def.node if 'Variable' in node.op]))\n",
    "    print 'Identity Count: {}'.format( len([node for node in graph_def.node if node.op=='Identity']))\n",
    "    print 'Total nodes: {}'.format( len(graph_def.node))\n",
    "    print ''\n",
    "    \n",
    "    if show_nodes==True:\n",
    "        for node in graph_def.node:\n",
    "            print(node.op, node.name)"
   ]
  },
  {
   "cell_type": "markdown",
   "metadata": {},
   "source": [
    "## 4. Describe the SavedModel Graph (before optimisation)"
   ]
  },
  {
   "cell_type": "markdown",
   "metadata": {},
   "source": [
    "### Load GraphDef from a SavedModel Directory"
   ]
  },
  {
   "cell_type": "code",
   "execution_count": 184,
   "metadata": {},
   "outputs": [],
   "source": [
    "def get_graph_def_from_saved_model(saved_model_dir):\n",
    "    \n",
    "    print saved_model_dir\n",
    "    print \"\"\n",
    "    \n",
    "    from tensorflow.python.saved_model import tag_constants\n",
    "    \n",
    "    with tf.Session() as session:\n",
    "        meta_graph_def = tf.saved_model.loader.load(\n",
    "            session,\n",
    "            tags=[tag_constants.SERVING],\n",
    "            export_dir=saved_model_dir\n",
    "        )\n",
    "        \n",
    "    return meta_graph_def.graph_def"
   ]
  },
  {
   "cell_type": "code",
   "execution_count": 185,
   "metadata": {},
   "outputs": [
    {
     "name": "stdout",
     "output_type": "stream",
     "text": [
      "models/mnist/cnn_classifier/export/1535131004\n",
      "\n",
      "Input Features: [u'input_image']\n",
      "Unused Noed: []\n",
      "Output Probabilities: [u'head/predictions/probabilities']\n",
      "Constant Count: 61\n",
      "Variable Count: 19\n",
      "Identity Count: 21\n",
      "Total nodes: 211\n",
      "\n",
      "(u'Const', u'global_step/Initializer/zeros')\n",
      "(u'VariableV2', u'global_step')\n",
      "(u'Assign', u'global_step/Assign')\n",
      "(u'Identity', u'global_step/read')\n",
      "(u'Placeholder', u'input_image')\n",
      "(u'Const', u'input_image_1/shape')\n",
      "(u'Reshape', u'input_image_1')\n",
      "(u'Const', u'conv1/kernel/Initializer/random_uniform/shape')\n",
      "(u'Const', u'conv1/kernel/Initializer/random_uniform/min')\n",
      "(u'Const', u'conv1/kernel/Initializer/random_uniform/max')\n",
      "(u'RandomUniform', u'conv1/kernel/Initializer/random_uniform/RandomUniform')\n",
      "(u'Sub', u'conv1/kernel/Initializer/random_uniform/sub')\n",
      "(u'Mul', u'conv1/kernel/Initializer/random_uniform/mul')\n",
      "(u'Add', u'conv1/kernel/Initializer/random_uniform')\n",
      "(u'VariableV2', u'conv1/kernel')\n",
      "(u'Assign', u'conv1/kernel/Assign')\n",
      "(u'Identity', u'conv1/kernel/read')\n",
      "(u'Const', u'conv1/bias/Initializer/zeros')\n",
      "(u'VariableV2', u'conv1/bias')\n",
      "(u'Assign', u'conv1/bias/Assign')\n",
      "(u'Identity', u'conv1/bias/read')\n",
      "(u'Const', u'conv1/dilation_rate')\n",
      "(u'Conv2D', u'conv1/Conv2D')\n",
      "(u'BiasAdd', u'conv1/BiasAdd')\n",
      "(u'MaxPool', u'pool1/MaxPool')\n",
      "(u'Const', u'batch_norm1/gamma/Initializer/ones')\n",
      "(u'VariableV2', u'batch_norm1/gamma')\n",
      "(u'Assign', u'batch_norm1/gamma/Assign')\n",
      "(u'Identity', u'batch_norm1/gamma/read')\n",
      "(u'Const', u'batch_norm1/beta/Initializer/zeros')\n",
      "(u'VariableV2', u'batch_norm1/beta')\n",
      "(u'Assign', u'batch_norm1/beta/Assign')\n",
      "(u'Identity', u'batch_norm1/beta/read')\n",
      "(u'Const', u'batch_norm1/moving_mean/Initializer/zeros')\n",
      "(u'VariableV2', u'batch_norm1/moving_mean')\n",
      "(u'Assign', u'batch_norm1/moving_mean/Assign')\n",
      "(u'Identity', u'batch_norm1/moving_mean/read')\n",
      "(u'Const', u'batch_norm1/moving_variance/Initializer/ones')\n",
      "(u'VariableV2', u'batch_norm1/moving_variance')\n",
      "(u'Assign', u'batch_norm1/moving_variance/Assign')\n",
      "(u'Identity', u'batch_norm1/moving_variance/read')\n",
      "(u'FusedBatchNorm', u'batch_norm1/FusedBatchNorm')\n",
      "(u'Const', u'batch_norm1/Const')\n",
      "(u'Const', u'Batch_Normalisation/tag')\n",
      "(u'HistogramSummary', u'Batch_Normalisation')\n",
      "(u'Const', u'conv2/kernel/Initializer/random_uniform/shape')\n",
      "(u'Const', u'conv2/kernel/Initializer/random_uniform/min')\n",
      "(u'Const', u'conv2/kernel/Initializer/random_uniform/max')\n",
      "(u'RandomUniform', u'conv2/kernel/Initializer/random_uniform/RandomUniform')\n",
      "(u'Sub', u'conv2/kernel/Initializer/random_uniform/sub')\n",
      "(u'Mul', u'conv2/kernel/Initializer/random_uniform/mul')\n",
      "(u'Add', u'conv2/kernel/Initializer/random_uniform')\n",
      "(u'VariableV2', u'conv2/kernel')\n",
      "(u'Assign', u'conv2/kernel/Assign')\n",
      "(u'Identity', u'conv2/kernel/read')\n",
      "(u'Const', u'conv2/bias/Initializer/zeros')\n",
      "(u'VariableV2', u'conv2/bias')\n",
      "(u'Assign', u'conv2/bias/Assign')\n",
      "(u'Identity', u'conv2/bias/read')\n",
      "(u'Const', u'conv2/dilation_rate')\n",
      "(u'Conv2D', u'conv2/Conv2D')\n",
      "(u'BiasAdd', u'conv2/BiasAdd')\n",
      "(u'MaxPool', u'pool2/MaxPool')\n",
      "(u'Const', u'batch_norm2/gamma/Initializer/ones')\n",
      "(u'VariableV2', u'batch_norm2/gamma')\n",
      "(u'Assign', u'batch_norm2/gamma/Assign')\n",
      "(u'Identity', u'batch_norm2/gamma/read')\n",
      "(u'Const', u'batch_norm2/beta/Initializer/zeros')\n",
      "(u'VariableV2', u'batch_norm2/beta')\n",
      "(u'Assign', u'batch_norm2/beta/Assign')\n",
      "(u'Identity', u'batch_norm2/beta/read')\n",
      "(u'Const', u'batch_norm2/moving_mean/Initializer/zeros')\n",
      "(u'VariableV2', u'batch_norm2/moving_mean')\n",
      "(u'Assign', u'batch_norm2/moving_mean/Assign')\n",
      "(u'Identity', u'batch_norm2/moving_mean/read')\n",
      "(u'Const', u'batch_norm2/moving_variance/Initializer/ones')\n",
      "(u'VariableV2', u'batch_norm2/moving_variance')\n",
      "(u'Assign', u'batch_norm2/moving_variance/Assign')\n",
      "(u'Identity', u'batch_norm2/moving_variance/read')\n",
      "(u'FusedBatchNorm', u'batch_norm2/FusedBatchNorm')\n",
      "(u'Const', u'batch_norm2/Const')\n",
      "(u'Const', u'Batch_Normalisation_1/tag')\n",
      "(u'HistogramSummary', u'Batch_Normalisation_1')\n",
      "(u'Shape', u'flatten/Shape')\n",
      "(u'Const', u'flatten/strided_slice/stack')\n",
      "(u'Const', u'flatten/strided_slice/stack_1')\n",
      "(u'Const', u'flatten/strided_slice/stack_2')\n",
      "(u'StridedSlice', u'flatten/strided_slice')\n",
      "(u'Const', u'flatten/Reshape/shape/1')\n",
      "(u'Pack', u'flatten/Reshape/shape')\n",
      "(u'Reshape', u'flatten/Reshape')\n",
      "(u'Const', u'Stack/fully_connected_1/weights/Initializer/random_uniform/shape')\n",
      "(u'Const', u'Stack/fully_connected_1/weights/Initializer/random_uniform/min')\n",
      "(u'Const', u'Stack/fully_connected_1/weights/Initializer/random_uniform/max')\n",
      "(u'RandomUniform', u'Stack/fully_connected_1/weights/Initializer/random_uniform/RandomUniform')\n",
      "(u'Sub', u'Stack/fully_connected_1/weights/Initializer/random_uniform/sub')\n",
      "(u'Mul', u'Stack/fully_connected_1/weights/Initializer/random_uniform/mul')\n",
      "(u'Add', u'Stack/fully_connected_1/weights/Initializer/random_uniform')\n",
      "(u'VariableV2', u'Stack/fully_connected_1/weights')\n",
      "(u'Assign', u'Stack/fully_connected_1/weights/Assign')\n",
      "(u'Identity', u'Stack/fully_connected_1/weights/read')\n",
      "(u'Const', u'Stack/fully_connected_1/biases/Initializer/zeros/shape_as_tensor')\n",
      "(u'Const', u'Stack/fully_connected_1/biases/Initializer/zeros/Const')\n",
      "(u'Fill', u'Stack/fully_connected_1/biases/Initializer/zeros')\n",
      "(u'VariableV2', u'Stack/fully_connected_1/biases')\n",
      "(u'Assign', u'Stack/fully_connected_1/biases/Assign')\n",
      "(u'Identity', u'Stack/fully_connected_1/biases/read')\n",
      "(u'MatMul', u'Stack/fully_connected_1/MatMul')\n",
      "(u'BiasAdd', u'Stack/fully_connected_1/BiasAdd')\n",
      "(u'Relu', u'Stack/fully_connected_1/Relu')\n",
      "(u'Const', u'Fully_Connected/tag')\n",
      "(u'HistogramSummary', u'Fully_Connected')\n",
      "(u'Const', u'unused/kernel/Initializer/random_uniform/shape')\n",
      "(u'Const', u'unused/kernel/Initializer/random_uniform/min')\n",
      "(u'Const', u'unused/kernel/Initializer/random_uniform/max')\n",
      "(u'RandomUniform', u'unused/kernel/Initializer/random_uniform/RandomUniform')\n",
      "(u'Sub', u'unused/kernel/Initializer/random_uniform/sub')\n",
      "(u'Mul', u'unused/kernel/Initializer/random_uniform/mul')\n",
      "(u'Add', u'unused/kernel/Initializer/random_uniform')\n",
      "(u'VariableV2', u'unused/kernel')\n",
      "(u'Assign', u'unused/kernel/Assign')\n",
      "(u'Identity', u'unused/kernel/read')\n",
      "(u'Const', u'unused/bias/Initializer/zeros')\n",
      "(u'VariableV2', u'unused/bias')\n",
      "(u'Assign', u'unused/bias/Assign')\n",
      "(u'Identity', u'unused/bias/read')\n",
      "(u'MatMul', u'unused/MatMul')\n",
      "(u'BiasAdd', u'unused/BiasAdd')\n",
      "(u'Relu', u'unused/Relu')\n",
      "(u'Const', u'logits/kernel/Initializer/random_uniform/shape')\n",
      "(u'Const', u'logits/kernel/Initializer/random_uniform/min')\n",
      "(u'Const', u'logits/kernel/Initializer/random_uniform/max')\n",
      "(u'RandomUniform', u'logits/kernel/Initializer/random_uniform/RandomUniform')\n",
      "(u'Sub', u'logits/kernel/Initializer/random_uniform/sub')\n",
      "(u'Mul', u'logits/kernel/Initializer/random_uniform/mul')\n",
      "(u'Add', u'logits/kernel/Initializer/random_uniform')\n",
      "(u'VariableV2', u'logits/kernel')\n",
      "(u'Assign', u'logits/kernel/Assign')\n",
      "(u'Identity', u'logits/kernel/read')\n",
      "(u'Const', u'logits/bias/Initializer/zeros')\n",
      "(u'VariableV2', u'logits/bias')\n",
      "(u'Assign', u'logits/bias/Assign')\n",
      "(u'Identity', u'logits/bias/read')\n",
      "(u'MatMul', u'logits/MatMul')\n",
      "(u'BiasAdd', u'logits/BiasAdd')\n",
      "(u'Shape', u'head/logits/Shape')\n",
      "(u'Const', u'head/logits/assert_rank_at_least/rank')\n",
      "(u'NoOp', u'head/logits/assert_rank_at_least/assert_type/statically_determined_correct_type')\n",
      "(u'NoOp', u'head/logits/assert_rank_at_least/static_checks_determined_all_ok')\n",
      "(u'Const', u'head/predictions/class_ids/dimension')\n",
      "(u'ArgMax', u'head/predictions/class_ids')\n",
      "(u'Const', u'head/predictions/ExpandDims/dim')\n",
      "(u'ExpandDims', u'head/predictions/ExpandDims')\n",
      "(u'AsString', u'head/predictions/str_classes')\n",
      "(u'Softmax', u'head/predictions/probabilities')\n",
      "(u'Shape', u'head/Shape')\n",
      "(u'Const', u'head/strided_slice/stack')\n",
      "(u'Const', u'head/strided_slice/stack_1')\n",
      "(u'Const', u'head/strided_slice/stack_2')\n",
      "(u'StridedSlice', u'head/strided_slice')\n",
      "(u'Const', u'head/range/start')\n",
      "(u'Const', u'head/range/limit')\n",
      "(u'Const', u'head/range/delta')\n",
      "(u'Range', u'head/range')\n",
      "(u'AsString', u'head/AsString')\n",
      "(u'Const', u'head/ExpandDims/dim')\n",
      "(u'ExpandDims', u'head/ExpandDims')\n",
      "(u'Const', u'head/Tile/multiples/1')\n",
      "(u'Pack', u'head/Tile/multiples')\n",
      "(u'Tile', u'head/Tile')\n",
      "(u'NoOp', u'init')\n",
      "(u'NoOp', u'init_all_tables')\n",
      "(u'NoOp', u'init_1')\n",
      "(u'NoOp', u'group_deps')\n",
      "(u'Const', u'save/Const')\n",
      "(u'Const', u'save/StringJoin/inputs_1')\n",
      "(u'StringJoin', u'save/StringJoin')\n",
      "(u'Const', u'save/num_shards')\n",
      "(u'Const', u'save/ShardedFilename/shard')\n",
      "(u'ShardedFilename', u'save/ShardedFilename')\n",
      "(u'Const', u'save/SaveV2/tensor_names')\n",
      "(u'Const', u'save/SaveV2/shape_and_slices')\n",
      "(u'SaveV2', u'save/SaveV2')\n",
      "(u'Identity', u'save/control_dependency')\n",
      "(u'Pack', u'save/MergeV2Checkpoints/checkpoint_prefixes')\n",
      "(u'MergeV2Checkpoints', u'save/MergeV2Checkpoints')\n",
      "(u'Identity', u'save/Identity')\n",
      "(u'Const', u'save/RestoreV2/tensor_names')\n",
      "(u'Const', u'save/RestoreV2/shape_and_slices')\n",
      "(u'RestoreV2', u'save/RestoreV2')\n",
      "(u'Assign', u'save/Assign')\n",
      "(u'Assign', u'save/Assign_1')\n",
      "(u'Assign', u'save/Assign_2')\n",
      "(u'Assign', u'save/Assign_3')\n",
      "(u'Assign', u'save/Assign_4')\n",
      "(u'Assign', u'save/Assign_5')\n",
      "(u'Assign', u'save/Assign_6')\n",
      "(u'Assign', u'save/Assign_7')\n",
      "(u'Assign', u'save/Assign_8')\n",
      "(u'Assign', u'save/Assign_9')\n",
      "(u'Assign', u'save/Assign_10')\n",
      "(u'Assign', u'save/Assign_11')\n",
      "(u'Assign', u'save/Assign_12')\n",
      "(u'Assign', u'save/Assign_13')\n",
      "(u'Assign', u'save/Assign_14')\n",
      "(u'Assign', u'save/Assign_15')\n",
      "(u'Assign', u'save/Assign_16')\n",
      "(u'Assign', u'save/Assign_17')\n",
      "(u'Assign', u'save/Assign_18')\n",
      "(u'NoOp', u'save/restore_shard')\n",
      "(u'NoOp', u'save/restore_all')\n"
     ]
    }
   ],
   "source": [
    "describe_graph(get_graph_def_from_saved_model(saved_model_dir), True)"
   ]
  },
  {
   "cell_type": "markdown",
   "metadata": {},
   "source": [
    "### Get model size"
   ]
  },
  {
   "cell_type": "code",
   "execution_count": 33,
   "metadata": {},
   "outputs": [],
   "source": [
    "def get_size(model_dir):\n",
    "    \n",
    "    print model_dir\n",
    "    print \"\"\n",
    "    \n",
    "    pb_size = os.path.getsize(os.path.join(model_dir,'saved_model.pb'))\n",
    "    \n",
    "    variables_size = 0\n",
    "    if os.path.exists(os.path.join(model_dir,'variables/variables.data-00000-of-00001')):\n",
    "        variables_size = os.path.getsize(os.path.join(model_dir,'variables/variables.data-00000-of-00001'))\n",
    "        variables_size += os.path.getsize(os.path.join(model_dir,'variables/variables.index'))\n",
    "\n",
    "    print \"Model siz: {} KB\".format(round(pb_size/(1024.0),3))\n",
    "    print \"Variables size: {} KB\".format(round( variables_size/(1024.0),3))\n",
    "    print \"Total Size: {} KB\".format(round((pb_size + variables_size)/(1024.0),3))\n",
    "    "
   ]
  },
  {
   "cell_type": "code",
   "execution_count": 34,
   "metadata": {},
   "outputs": [
    {
     "name": "stdout",
     "output_type": "stream",
     "text": [
      "models/mnist/cnn_classifier/export/1535131004\n",
      "\n",
      "Model siz: 43.121 KB\n",
      "Variables size: 27877.202 KB\n",
      "Total Size: 27920.323 KB\n"
     ]
    }
   ],
   "source": [
    "get_size(saved_model_dir)"
   ]
  },
  {
   "cell_type": "markdown",
   "metadata": {},
   "source": [
    "## 5. Freeze SavedModel\n",
    "\n",
    "This function will convert the SavedModel into a GraphDef file (freezed_model.pb), and storing the variables as constrant to the freezed_model.pb\n",
    "\n",
    "You need to define the graph output nodes for freezing. We are only interested in the **class_id**, which is produced by **head/predictions/ExpandDims** node"
   ]
  },
  {
   "cell_type": "code",
   "execution_count": 18,
   "metadata": {},
   "outputs": [],
   "source": [
    "def freeze_graph(saved_model_dir):\n",
    "    \n",
    "    from tensorflow.python.tools import freeze_graph\n",
    "    from tensorflow.python.saved_model import tag_constants\n",
    "    \n",
    "    output_graph_filename = os.path.join(saved_model_dir, \"freezed_model.pb\")\n",
    "    output_node_names = \"head/predictions/ExpandDims\"\n",
    "    initializer_nodes = \"\"\n",
    "\n",
    "    freeze_graph.freeze_graph(\n",
    "        input_saved_model_dir=saved_model_dir,\n",
    "        output_graph=output_graph_filename,\n",
    "        saved_model_tags = tag_constants.SERVING,\n",
    "        output_node_names=output_node_names,\n",
    "        initializer_nodes=initializer_nodes,\n",
    "\n",
    "        input_graph=None, \n",
    "        input_saver=False,\n",
    "        input_binary=False, \n",
    "        input_checkpoint=None, \n",
    "        restore_op_name=None, \n",
    "        filename_tensor_name=None, \n",
    "        clear_devices=False,\n",
    "        input_meta_graph=False,\n",
    "    )\n",
    "    \n",
    "    print \"SavedModel graph freezed!\""
   ]
  },
  {
   "cell_type": "code",
   "execution_count": 19,
   "metadata": {},
   "outputs": [
    {
     "name": "stdout",
     "output_type": "stream",
     "text": [
      "SavedModel graph freezed!\n"
     ]
    }
   ],
   "source": [
    "freeze_graph(saved_model_dir)"
   ]
  },
  {
   "cell_type": "code",
   "execution_count": 20,
   "metadata": {},
   "outputs": [
    {
     "name": "stdout",
     "output_type": "stream",
     "text": [
      "models/mnist/cnn_classifier/export/1535131004\n",
      "freezed_model.pb\n",
      "saved_model.pb\n",
      "variables\n"
     ]
    }
   ],
   "source": [
    "%%bash\n",
    "saved_models_base=models/mnist/cnn_classifier/export/\n",
    "saved_model_dir=${saved_models_base}$(ls ${saved_models_base} | tail -n 1)\n",
    "echo ${saved_model_dir}\n",
    "ls ${saved_model_dir}"
   ]
  },
  {
   "cell_type": "markdown",
   "metadata": {},
   "source": [
    "## 6. Describe the freezed_model.pb Graph (after freezing)"
   ]
  },
  {
   "cell_type": "markdown",
   "metadata": {},
   "source": [
    "### Load GraphDef from GraphDef File"
   ]
  },
  {
   "cell_type": "code",
   "execution_count": 21,
   "metadata": {},
   "outputs": [],
   "source": [
    "def get_graph_def_from_file(graph_filepath):\n",
    "    \n",
    "    print graph_filepath\n",
    "    print \"\"\n",
    "    \n",
    "    from tensorflow.python import ops\n",
    "    \n",
    "    with ops.Graph().as_default():\n",
    "        with tf.gfile.GFile(graph_filepath, \"rb\") as f:\n",
    "            graph_def = tf.GraphDef()\n",
    "            graph_def.ParseFromString(f.read())\n",
    "            \n",
    "            return graph_def\n",
    "            "
   ]
  },
  {
   "cell_type": "code",
   "execution_count": 22,
   "metadata": {},
   "outputs": [
    {
     "name": "stdout",
     "output_type": "stream",
     "text": [
      "models/mnist/cnn_classifier/export/1535131004/freezed_model.pb\n",
      "\n",
      "Input Features: [u'input_image']\n",
      "Output Probabilities: []\n",
      "Constant Count: 23\n",
      "Variable Count: 0\n",
      "Identity Count: 16\n",
      "Total nodes: 60\n",
      "\n"
     ]
    }
   ],
   "source": [
    "freezed_filepath=os.path.join(saved_model_dir,'freezed_model.pb')\n",
    "describe_graph(get_graph_def_from_file(freezed_filepath))"
   ]
  },
  {
   "cell_type": "markdown",
   "metadata": {},
   "source": [
    "## 8. Optimise the freezed_model.pb\n",
    "\n",
    "Note that, the optimised graph will replace freezed_model.pb"
   ]
  },
  {
   "cell_type": "markdown",
   "metadata": {},
   "source": [
    "### Optimise GraphDef"
   ]
  },
  {
   "cell_type": "code",
   "execution_count": 41,
   "metadata": {},
   "outputs": [],
   "source": [
    "def optimize_graph(model_dir, graph_filename, transforms):\n",
    "    \n",
    "    from tensorflow.tools.graph_transforms import TransformGraph\n",
    "    \n",
    "    input_names = []\n",
    "    output_names = ['head/predictions/ExpandDims']\n",
    "    \n",
    "    graph_def = get_graph_def_from_file(os.path.join(model_dir, graph_filename))\n",
    "    optimised_graph_def = TransformGraph(graph_def, \n",
    "                                         input_names,\n",
    "                                         output_names,\n",
    "                                         transforms \n",
    "                                        )\n",
    "    tf.train.write_graph(optimised_graph_def,\n",
    "                        logdir=model_dir,\n",
    "                        as_text=False,\n",
    "                        name='optimised_model.pb')\n",
    "    \n",
    "    print \"Freezed graph optimised!\""
   ]
  },
  {
   "cell_type": "code",
   "execution_count": 155,
   "metadata": {},
   "outputs": [
    {
     "name": "stdout",
     "output_type": "stream",
     "text": [
      "models/mnist/cnn_classifier/export/1535131004/freezed_model.pb\n",
      "\n",
      "Freezed graph optimised!\n"
     ]
    }
   ],
   "source": [
    "transforms = [\n",
    "    'remove_nodes(op=Identity)', \n",
    "    'fold_constants(ignore_errors=true)',\n",
    "#     'fold_batch_norms',\n",
    "    'round_weights(num_steps=256)',\n",
    "#     'quantize_weights', \n",
    "#     'quantize_nodes',\n",
    "    'merge_duplicate_nodes',\n",
    "    'strip_unused_nodes', \n",
    "    'sort_by_execution_order'\n",
    "]\n",
    "\n",
    "optimize_graph(saved_model_dir, 'freezed_model.pb', transforms)"
   ]
  },
  {
   "cell_type": "code",
   "execution_count": 156,
   "metadata": {},
   "outputs": [
    {
     "name": "stdout",
     "output_type": "stream",
     "text": [
      "models/mnist/cnn_classifier/export/1535131004\n",
      "freezed_model.pb\n",
      "optimised\n",
      "optimised_model.pb\n",
      "saved_model.pb\n",
      "variables\n"
     ]
    }
   ],
   "source": [
    "%%bash\n",
    "saved_models_base=models/mnist/cnn_classifier/export/\n",
    "saved_model_dir=${saved_models_base}$(ls ${saved_models_base} | tail -n 1)\n",
    "echo ${saved_model_dir}\n",
    "ls ${saved_model_dir}"
   ]
  },
  {
   "cell_type": "markdown",
   "metadata": {},
   "source": [
    "## 8. Describe the Optimised Graph"
   ]
  },
  {
   "cell_type": "code",
   "execution_count": 157,
   "metadata": {},
   "outputs": [
    {
     "name": "stdout",
     "output_type": "stream",
     "text": [
      "models/mnist/cnn_classifier/export/1535131004/optimised_model.pb\n",
      "\n",
      "Input Features: [u'input_image']\n",
      "Output Probabilities: []\n",
      "Constant Count: 20\n",
      "Variable Count: 0\n",
      "Identity Count: 0\n",
      "Total nodes: 41\n",
      "\n"
     ]
    }
   ],
   "source": [
    "optimised_filepath=os.path.join(saved_model_dir,'optimised_model.pb')\n",
    "describe_graph(get_graph_def_from_file(optimised_filepath))"
   ]
  },
  {
   "cell_type": "markdown",
   "metadata": {},
   "source": [
    "## 9. Convert Optimised graph (GraphDef) to SavedModel"
   ]
  },
  {
   "cell_type": "code",
   "execution_count": 158,
   "metadata": {},
   "outputs": [],
   "source": [
    "def convert_graph_def_to_saved_model(graph_filepath):\n",
    "\n",
    "    from tensorflow.python import ops\n",
    "    export_dir=os.path.join(saved_model_dir,'optimised')\n",
    "\n",
    "    if tf.gfile.Exists(export_dir):\n",
    "        tf.gfile.DeleteRecursively(export_dir)\n",
    "\n",
    "    graph_def = get_graph_def_from_file(graph_filepath)\n",
    "    \n",
    "    with tf.Session(graph=tf.Graph()) as session:\n",
    "        tf.import_graph_def(graph_def, name=\"\")\n",
    "        tf.saved_model.simple_save(session,\n",
    "                export_dir,\n",
    "                inputs={\n",
    "                    node.name: session.graph.get_tensor_by_name(\"{}:0\".format(node.name)) \n",
    "                    for node in graph_def.node if node.op=='Placeholder'},\n",
    "                outputs={\n",
    "                    \"class_ids\": session.graph.get_tensor_by_name(\"head/predictions/ExpandDims:0\"),\n",
    "                }\n",
    "            )\n",
    "\n",
    "        print \"Optimised graph converted to SavedModel!\""
   ]
  },
  {
   "cell_type": "code",
   "execution_count": 159,
   "metadata": {},
   "outputs": [
    {
     "name": "stdout",
     "output_type": "stream",
     "text": [
      "models/mnist/cnn_classifier/export/1535131004/optimised_model.pb\n",
      "\n",
      "Optimised graph converted to SavedModel!\n"
     ]
    }
   ],
   "source": [
    "optimised_filepath=os.path.join(saved_model_dir,'optimised_model.pb')\n",
    "convert_graph_def_to_saved_model(optimised_filepath)"
   ]
  },
  {
   "cell_type": "markdown",
   "metadata": {},
   "source": [
    "### Optimised SavedModel Size"
   ]
  },
  {
   "cell_type": "code",
   "execution_count": 160,
   "metadata": {},
   "outputs": [
    {
     "name": "stdout",
     "output_type": "stream",
     "text": [
      "models/mnist/cnn_classifier/export/1535131004/optimised\n",
      "\n",
      "Model siz: 25433.796 KB\n",
      "Variables size: 0.0 KB\n",
      "Total Size: 25433.796 KB\n"
     ]
    }
   ],
   "source": [
    "optimised_saved_model_dir = os.path.join(saved_model_dir,'optimised') \n",
    "get_size(optimised_saved_model_dir)"
   ]
  },
  {
   "cell_type": "code",
   "execution_count": 161,
   "metadata": {},
   "outputs": [
    {
     "name": "stdout",
     "output_type": "stream",
     "text": [
      "saved_model.pb\n",
      "variables\n",
      "\n",
      "MetaGraphDef with tag-set: 'serve' contains the following SignatureDefs:\n",
      "\n",
      "signature_def['serving_default']:\n",
      "  The given SavedModel SignatureDef contains the following input(s):\n",
      "    inputs['input_image'] tensor_info:\n",
      "        dtype: DT_FLOAT\n",
      "        shape: (-1, 784)\n",
      "        name: input_image:0\n",
      "  The given SavedModel SignatureDef contains the following output(s):\n",
      "    outputs['class_ids'] tensor_info:\n",
      "        dtype: DT_INT64\n",
      "        shape: (-1, 1)\n",
      "        name: head/predictions/ExpandDims:0\n",
      "  Method name is: tensorflow/serving/predict\n"
     ]
    }
   ],
   "source": [
    "%%bash\n",
    "\n",
    "saved_models_base=models/mnist/cnn_classifier/export/\n",
    "saved_model_dir=${saved_models_base}$(ls ${saved_models_base} | tail -n 1)/optimised\n",
    "ls ${saved_model_dir}\n",
    "saved_model_cli show --dir ${saved_model_dir} --all"
   ]
  },
  {
   "cell_type": "markdown",
   "metadata": {},
   "source": [
    "## 10. Prediction with the Optimised SavedModel"
   ]
  },
  {
   "cell_type": "code",
   "execution_count": 178,
   "metadata": {},
   "outputs": [
    {
     "name": "stdout",
     "output_type": "stream",
     "text": [
      "models/mnist/cnn_classifier/export/1535131004/optimised\n",
      "Inference elapsed time: 16.009274 seconds\n",
      "\n",
      "Prediction produced for 10 instances\n",
      "\n",
      "Prediction output for the last instance:\n",
      "class_ids: [7]\n"
     ]
    }
   ],
   "source": [
    "freezed_saved_model_dir = os.path.join(saved_model_dir,'optimised') \n",
    "print(freezed_saved_model_dir)\n",
    "inference_test(saved_model_dir=freezed_saved_model_dir, signature='serving_default', repeat=1000)"
   ]
  },
  {
   "cell_type": "markdown",
   "metadata": {},
   "source": [
    "Latency for **10** instances, repeated **1000** is around ** 15.8 sec**."
   ]
  },
  {
   "cell_type": "code",
   "execution_count": null,
   "metadata": {},
   "outputs": [],
   "source": []
  }
 ],
 "metadata": {
  "kernelspec": {
   "display_name": "Python 2",
   "language": "python",
   "name": "python2"
  },
  "language_info": {
   "codemirror_mode": {
    "name": "ipython",
    "version": 2
   },
   "file_extension": ".py",
   "mimetype": "text/x-python",
   "name": "python",
   "nbconvert_exporter": "python",
   "pygments_lexer": "ipython2",
   "version": "2.7.10"
  }
 },
 "nbformat": 4,
 "nbformat_minor": 2
}
