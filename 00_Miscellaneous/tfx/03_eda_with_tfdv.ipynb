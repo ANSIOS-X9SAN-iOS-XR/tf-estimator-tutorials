{
 "cells": [
  {
   "cell_type": "markdown",
   "metadata": {},
   "source": [
    "# Analyzing and Validating Data using TensorFlow Data Validation (TFDV)"
   ]
  },
  {
   "cell_type": "markdown",
   "metadata": {},
   "source": [
    "Building a successful machine learning (ML) system involves more than training a model. In this two-part article discusses the role of [TensorFlow Data Validation](https://www.tensorflow.org/tfx/data_validation/get_started) (TFDV) library in performing data exploration and descriptive analytics during experimentation, as well as in validating the incoming data for training or prediction during production. \n",
    "\n",
    "This tutorial shows you step-by-step how to use TFDV to analyze and validate data for ML on Google Cloud Platform (GCP). \n",
    "\n",
    "The objective of this tutorial is to:\n",
    "1. Exrtact data from BigQuery to GCS.\n",
    "2. Generate statistics from the data using TFDV.\n",
    "3. Explore and visualise the data statistics.\n",
    "4. Generate a Schema for the data using TFDV.\n",
    "5. Extract new data from BigQuery.\n",
    "6. Validate the new data using the generated Schema."
   ]
  },
  {
   "cell_type": "markdown",
   "metadata": {},
   "source": [
    "### Install requirements\n",
    "\n",
    "Install the required packages for the tutorial:"
   ]
  },
  {
   "cell_type": "code",
   "execution_count": null,
   "metadata": {},
   "outputs": [],
   "source": [
    "!pip install -U tensorflow==0.14.0\n",
    "!pip install -U tensorflow-data-validation==0.11.0\n",
    "!pip install -U apache-beam[gcp]==2.8.0\n",
    "!pip install -U google_cloud_bigquery==1.18.0\n",
    "!pip install -U python-snappy==0.5.4"
   ]
  },
  {
   "cell_type": "code",
   "execution_count": 79,
   "metadata": {},
   "outputs": [],
   "source": [
    "import os\n",
    "import tensorflow as tf \n",
    "import apache_beam as beam \n",
    "import tensorflow_data_validation as tfdv\n",
    "from google.cloud import bigquery\n",
    "from datetime import datetime"
   ]
  },
  {
   "cell_type": "markdown",
   "metadata": {},
   "source": [
    "Verify the version of the installed packages:"
   ]
  },
  {
   "cell_type": "code",
   "execution_count": 2,
   "metadata": {},
   "outputs": [
    {
     "name": "stdout",
     "output_type": "stream",
     "text": [
      "TF version: 1.14.0\n",
      "TFDV version: 0.11.0\n",
      "Beam version: 2.8.0\n",
      "BQ SDK version: 1.18.0\n"
     ]
    }
   ],
   "source": [
    "print \"TF version:\", tf.__version__\n",
    "print \"TFDV version:\", tfdv.__version__\n",
    "print \"Beam version:\", beam.__version__\n",
    "print \"BQ SDK version:\", bigquery.__version__"
   ]
  },
  {
   "cell_type": "markdown",
   "metadata": {},
   "source": [
    "### Setup\n",
    "To get started, set your GCP **PROJECT_ID**, **BUCKET_NAME**, and **REGION** to the following variables. [Create a GCP Project](console.cloud.google.com/projectcreate) if you don't have one. [Create a regional Cloud Storage bucket](https://console.cloud.google.com/storage/create-bucket) if you don't have one."
   ]
  },
  {
   "cell_type": "code",
   "execution_count": 3,
   "metadata": {
    "scrolled": true
   },
   "outputs": [],
   "source": [
    "LOCAL = True # Change to false to run on the GCP\n",
    "\n",
    "PROJECT_ID = 'validateflow' # Set your GCP Project Id\n",
    "BUCKET_NAME = 'validateflow' # Set your Bucket name\n",
    "REGION = 'europe-west1' # Set the region for Dataflow jobs\n",
    "\n",
    "ROOT = '.' if LOCAL else 'gs://{}'.format(BUCKET_NAME)\n",
    "\n",
    "DATA_DIR = ROOT + '/tfdv/data/' # Location to store data\n",
    "SCHEMA_DIR = ROOT + '/tfdv/schema/' # Location to store data schema \n",
    "STATS_DIR = ROOT +'/tfdv/stats/' # Location to store stats \n",
    "STAGING_DIR = ROOT + '/tfdv/job/staging/' # Dataflow staging directory on GCP\n",
    "TEMP_DIR =  ROOT + '/tfdv/job/temp/' # Dataflow temporary directory on GCP"
   ]
  },
  {
   "cell_type": "markdown",
   "metadata": {},
   "source": [
    "Cleanup working directory..."
   ]
  },
  {
   "cell_type": "code",
   "execution_count": null,
   "metadata": {},
   "outputs": [],
   "source": [
    "if tf.gfile.Exists(ROOT):\n",
    "    print(\"Removing {} contents...\".format(ROOT))\n",
    "    tf.gfile.DeleteRecursively(ROOT)"
   ]
  },
  {
   "cell_type": "markdown",
   "metadata": {},
   "source": [
    "### Dataset"
   ]
  },
  {
   "cell_type": "markdown",
   "metadata": {},
   "source": [
    "In this tutorial, we will use the [flights](https://bigquery.cloud.google.com/table/bigquery-samples:airline_ontime_data.flights?pli=1&tab=schema) data table, which is a publically available sample data in [BigQuery](https://bigquery.cloud.google.com/dataset/bigquery-samples:airline_ontime_data?pli=1). \n",
    "\n",
    "The table has more than 70 million records on internal US flights, including information on date, airlline, departure airport, arrival airport, departure schedule, actual departure time, arrival schedule, and actual arrival time.\n",
    "\n",
    "You can use the [BigQuery](console.cloud.google.com/bigquery) to explore the data, or you can run the following cell, which count the number of flights by year.\n"
   ]
  },
  {
   "cell_type": "code",
   "execution_count": null,
   "metadata": {},
   "outputs": [],
   "source": [
    "bq_client = bigquery.Client() \n",
    "\n",
    "query =\"\"\"\n",
    "    SELECT \n",
    "        EXTRACT(YEAR FROM CAST(date as DATE)) as year,\n",
    "        COUNT(*) as flight_count\n",
    "    FROM \n",
    "        `bigquery-samples.airline_ontime_data.flights`\n",
    "    GROUP BY\n",
    "        year\n",
    "    ORDER BY \n",
    "        year DESC\n",
    "    \"\"\"\n",
    "\n",
    "query_job = bq_client.query(query=query, location='US') \n",
    "data_frame = query_job.to_dataframe() "
   ]
  },
  {
   "cell_type": "code",
   "execution_count": null,
   "metadata": {},
   "outputs": [],
   "source": [
    "display(data_frame)"
   ]
  },
  {
   "cell_type": "markdown",
   "metadata": {},
   "source": [
    "We have data from 2002 to 2012. The dataset is ~8GB, which might be too big to store into memory for exploration. However, you can use TFDV to peform the data crunching on GCP at scale using Cloud Dataflow, to produce the statistics that can be easily loaded into memory, visualized and analzyed."
   ]
  },
  {
   "cell_type": "markdown",
   "metadata": {},
   "source": [
    "## 1. Extract the data from BigQuery to GCS\n",
    "In this step, we will extract the data we want to analyze from BigQuery, convert it to TFRecord files, and store the data files to Cloud Storage (GCS). This data file in GCS will then be used by TFDV. We are going to use Apache Beam to to accomplish this.\n",
    "\n",
    "Let's say that you use this dataset to estimate the arrival delay of a particular flight using ML. Note that, in this tutorial, we are not focusing on building the model, rather we focusing on analyzing and validating the data is it changes over time. We are going to use **data in 2010-2011 to generate the schema**, while validating **data in 2012 to identify anomalies**.\n",
    "\n",
    "Note that, in more realistic scenarios, new flights data arrives on daily or weekly basis to your data warehouse, and you would validate this day-worth of data against the schema. The purpose of this example to show how this can be done at scale (using year-worth of data) to identify anomalies.\n",
    "\n",
    "The data will be extracted with the following columns:\n",
    "* **fligt_date**: The scheduled flight date\n",
    "* **flight_month**: The scheduled flight abbreviated month name \n",
    "* **flight_day**: The scheduled flight day of month \n",
    "* **flight_week_of_day**: The scheduled flight abbreviated week day name \n",
    "* **airline**: Abbreviated airline name\n",
    "* **departure_airport**: Abbreviated departure airport\n",
    "* **arrival_airport**: Abbreviated arrival airport\n",
    "* **depature_hour**: depature hour\n",
    "* **departure_minute**: depature hour\n",
    "* **departure_time_slot**: (6am - 9am), (9am - 12pm), (12pm - 3pm), (3pm - 6pm),  (6pm - 9pm), (9pm - 12am), (12am - 6am)\n",
    "* **departure_delay**: depature delay (in minutes)\n",
    "* **arrival_delay**: arrival delay (in seconds)"
   ]
  },
  {
   "cell_type": "markdown",
   "metadata": {},
   "source": [
    "### Implementing the source query"
   ]
  },
  {
   "cell_type": "code",
   "execution_count": 6,
   "metadata": {},
   "outputs": [],
   "source": [
    "def generate_query(date_from=None, date_to=None, limit=None):\n",
    "    query =\"\"\"\n",
    "        SELECT \n",
    "          CAST(date AS DATE) AS flight_date, \n",
    "          FORMAT_DATE('%b',  CAST(date AS DATE)) AS flight_month, \n",
    "          EXTRACT(DAY FROM CAST(date AS DATE)) AS flight_day, \n",
    "          FORMAT_DATE('%a',  CAST(date AS DATE)) AS flight_day_of_week, \n",
    "          airline,\n",
    "          departure_airport,\n",
    "          CAST(SUBSTR(LPAD(CAST(departure_schedule AS STRING), 4, '0'), 0, 2) AS INT64) AS departure_schedule_hour, \n",
    "          CAST(SUBSTR(LPAD(CAST(departure_schedule AS STRING), 4, '0'), 3, 2) AS INT64) AS departure_schedule_minute, \n",
    "          CASE \n",
    "            WHEN departure_schedule BETWEEN 600 AND 900 THEN '[6:00am - 9:00am]'\n",
    "            WHEN departure_schedule BETWEEN 900 AND 1200 THEN '[9:00am - 12:pm]'\n",
    "            WHEN departure_schedule BETWEEN 1200 AND 1500 THEN '[12:00pm - 3:00pm]'\n",
    "            WHEN departure_schedule BETWEEN 1500 AND 1800 THEN '[3:00pm - 6:00pm]'\n",
    "            WHEN departure_schedule BETWEEN 1800 AND 2100 THEN '[6:00pm - 9:00pm]'\n",
    "            WHEN departure_schedule BETWEEN 2100 AND 2400 THEN '[9:00pm - 12:00am]'\n",
    "            ELSE '[12:00am - 6:00am]'\n",
    "          END AS departure_time_slot,\n",
    "          departure_delay,\n",
    "          arrival_delay\n",
    "        FROM \n",
    "          `bigquery-samples.airline_ontime_data.flights`\n",
    "        \"\"\"\n",
    "    if date_from:\n",
    "        query += \"WHERE CAST(date as DATE) >= CAST('{}' as DATE) \\n\".format(date_from)\n",
    "        if date_to:\n",
    "            query += \"AND CAST(date as DATE) < CAST('{}' as DATE) \\n\".format(date_to)\n",
    "    elif date_to:\n",
    "        query += \"WHERE CAST(date as DATE) < CAST('{}' as DATE) \\n\".format(date_to)\n",
    "    \n",
    "    if limit:\n",
    "        query  += \"LIMIT {}\".format(limit)\n",
    "        \n",
    "    return query"
   ]
  },
  {
   "cell_type": "markdown",
   "metadata": {},
   "source": [
    "You can run the following cell to see a sample of the data to be extract..."
   ]
  },
  {
   "cell_type": "code",
   "execution_count": null,
   "metadata": {},
   "outputs": [],
   "source": [
    "bq_client = bigquery.Client() \n",
    "query_job = bq_client.query(query=generate_query(limit=5), location='US') \n",
    "query_job.to_dataframe() "
   ]
  },
  {
   "cell_type": "markdown",
   "metadata": {},
   "source": [
    "### Implementing helper functions"
   ]
  },
  {
   "cell_type": "code",
   "execution_count": 80,
   "metadata": {},
   "outputs": [],
   "source": [
    "def get_type_map(query):\n",
    "    bq_client = bigquery.Client()\n",
    "    query_job = bq_client.query(\"SELECT * FROM ({}) LIMIT 0\".format(query))\n",
    "    results = query_job.result()\n",
    "    type_map = {}\n",
    "    for field in results.schema:\n",
    "        type_map[field.name] = field.field_type\n",
    "    \n",
    "    return type_map\n",
    "\n",
    "def row_to_example(instance, type_map):\n",
    "    feature = {}\n",
    "    for key, value in instance.items():\n",
    "        data_type = type_map[key]\n",
    "        if value is None:\n",
    "            feature[key] = tf.train.Feature()\n",
    "        elif data_type == 'INTEGER':\n",
    "            feature[key] = tf.train.Feature(\n",
    "                int64_list=tf.train.Int64List(value=[value]))\n",
    "        elif data_type == 'FLOAT':\n",
    "            feature[key] = tf.train.Feature(\n",
    "                float_list=tf.train.FloatList(value=[value]))\n",
    "        else:\n",
    "            feature[key] = tf.train.Feature(\n",
    "                bytes_list=tf.train.BytesList(value=[tf.compat.as_bytes(value)]))\n",
    "            \n",
    "    return tf.train.Example(features=tf.train.Features(feature=feature))"
   ]
  },
  {
   "cell_type": "markdown",
   "metadata": {},
   "source": [
    "### Implementing the pipeline"
   ]
  },
  {
   "cell_type": "code",
   "execution_count": 21,
   "metadata": {},
   "outputs": [],
   "source": [
    "def run_pipeline(args):\n",
    "\n",
    "    source_query = args.pop('source_query')\n",
    "    sink_data_location = args.pop('sink_data_location')\n",
    "    runner = args.pop('runner')\n",
    "    \n",
    "    pipeline_options = beam.options.pipeline_options.GoogleCloudOptions(**args)\n",
    "    print(pipeline_options)\n",
    "    \n",
    "    with beam.Pipeline(runner, options=pipeline_options) as pipeline:\n",
    "        (pipeline \n",
    "         | \"Read from BigQuery\">> beam.io.Read(beam.io.BigQuerySource(query = source_query, use_standard_sql = True))\n",
    "         | 'Convert to tf Example' >> beam.Map(lambda instance: row_to_example(instance, type_map))\n",
    "         | 'Serialize to String' >> beam.Map(lambda example: example.SerializeToString(deterministic=True))\n",
    "         | \"Wirte as TFRecords to GCS\" >> beam.io.WriteToTFRecord(\n",
    "                    file_path_prefix = sink_data_location+\"extract\", \n",
    "                    file_name_suffix=\".tfrecords\")\n",
    "        )\n",
    "        "
   ]
  },
  {
   "cell_type": "markdown",
   "metadata": {},
   "source": [
    "### Run the pipeline"
   ]
  },
  {
   "cell_type": "code",
   "execution_count": 7,
   "metadata": {},
   "outputs": [
    {
     "name": "stdout",
     "output_type": "stream",
     "text": [
      "Data will be extracted to: ./tfdv/data/20100101-20111231/\n",
      "Generating source query...\n",
      "Retrieving data type...\n",
      "Pipeline args are set.\n"
     ]
    }
   ],
   "source": [
    "runner = 'DirectRunner' if LOCAL else 'DataflowRunner'\n",
    "job_name = 'tfdv-flights-data-extraction-{}'.format(datetime.utcnow().strftime('%y%m%d-%H%M%S'))\n",
    "date_from =  '2010-01-01'\n",
    "date_to = '2011-12-31'\n",
    "data_location = os.path.join(DATA_DIR, \n",
    "        \"{}-{}/\".format(date_from.replace('-',''), date_to.replace('-','')))\n",
    "print(\"Data will be extracted to: {}\".format(data_location))\n",
    "\n",
    "print(\"Generating source query...\")\n",
    "source_query = generate_query(date_from, date_to, 10000)\n",
    "\n",
    "print(\"Retrieving data type...\")\n",
    "type_map = get_type_map(source_query)\n",
    "\n",
    "args = {\n",
    "    'job_name': job_name,\n",
    "    'runner': runner,\n",
    "    'source_query': source_query,\n",
    "    'type_map': type_map,\n",
    "    'sink_data_location': data_location,\n",
    "    'project': PROJECT_ID,\n",
    "    'region': REGION,\n",
    "    'staging_location': STAGING_DIR,\n",
    "    'temp_location': TEMP_DIR,\n",
    "    'save_main_session': True,\n",
    "    'setup_file': './setup.py'\n",
    "}\n",
    "print(\"Pipeline args are set.\")"
   ]
  },
  {
   "cell_type": "code",
   "execution_count": null,
   "metadata": {},
   "outputs": [],
   "source": [
    "print(\"Running data extraction pipeline...\")\n",
    "run_pipeline(args)\n",
    "print(\"Pipeline is done.\")"
   ]
  },
  {
   "cell_type": "markdown",
   "metadata": {},
   "source": [
    "You can list the extracted data files..."
   ]
  },
  {
   "cell_type": "code",
   "execution_count": 8,
   "metadata": {},
   "outputs": [
    {
     "name": "stdout",
     "output_type": "stream",
     "text": [
      "\u001b[34m20100101-20111231\u001b[m\u001b[m\n",
      "extract-00009-of-00010.tfrecords extract-00004-of-00010.tfrecords\n",
      "extract-00008-of-00010.tfrecords extract-00003-of-00010.tfrecords\n",
      "extract-00007-of-00010.tfrecords extract-00002-of-00010.tfrecords\n",
      "extract-00006-of-00010.tfrecords extract-00001-of-00010.tfrecords\n",
      "extract-00005-of-00010.tfrecords extract-00000-of-00010.tfrecords\n"
     ]
    }
   ],
   "source": [
    "#!gsutil ls {DATA_DIR}/*\n",
    "!ls {DATA_DIR}/*"
   ]
  },
  {
   "cell_type": "markdown",
   "metadata": {},
   "source": [
    "## 2. Generate Statistics from the Data using TFDV\n",
    "In this setp, we will use TFDV to analyze the data in GCS and compute various statistics from it. This operation requires (multiple) full pass on the data to compute mean, max, min, etc., which needs to run at scale to analyze large dataset. \n",
    "\n",
    "If we run the analysis on a sample of data, we can use TFDV to compute the statistics locally. However, we can run the TFDV process using Cloud Dataflow for scalability. The generated statistics is stored as a proto buffer to GCS."
   ]
  },
  {
   "cell_type": "code",
   "execution_count": 10,
   "metadata": {},
   "outputs": [
    {
     "name": "stdout",
     "output_type": "stream",
     "text": [
      "Removing ./tfdv/stats/ contents...\n",
      "Computing statistics...\n",
      "Statistics are computed and saved to: ./tfdv/stats/stats.pb\n"
     ]
    }
   ],
   "source": [
    "job_name = 'tfdv-flights-stats-gen-{}'.format(datetime.utcnow().strftime('%y%m%d-%H%M%S'))\n",
    "args['job_name'] = job_name\n",
    "stats_location = os.path.join(STATS_DIR, 'stats.pb')\n",
    "\n",
    "print(\"Computing statistics...\")\n",
    "_ = tfdv.generate_statistics_from_tfrecord(\n",
    "    data_location=data_location, \n",
    "    output_path=stats_location,\n",
    "    stats_options=tfdv.StatsOptions(\n",
    "        sample_rate=.3\n",
    "    ),\n",
    "    pipeline_options = beam.options.pipeline_options.GoogleCloudOptions(**args)\n",
    ")\n",
    "\n",
    "print(\"Statistics are computed and saved to: {}\".format(stats_location))"
   ]
  },
  {
   "cell_type": "markdown",
   "metadata": {},
   "source": [
    "You can list saves statistics file..."
   ]
  },
  {
   "cell_type": "code",
   "execution_count": 11,
   "metadata": {},
   "outputs": [
    {
     "name": "stdout",
     "output_type": "stream",
     "text": [
      "./tfdv/stats/stats.pb\r\n"
     ]
    }
   ],
   "source": [
    "!ls {stats_location}\n",
    "#!gsutil ls {stats_location}"
   ]
  },
  {
   "cell_type": "markdown",
   "metadata": {},
   "source": [
    "## 3. Explore and Visualize the Statistics\n",
    "In this step, we use TFDV visualization capabilities to explore and analyze the data, in order to identify data ranges, categorical columns vocabulary, missing values percentages, etc. This step helps to generate the expected schema of the data. TFDV uses [Facets](https://pair-code.github.io/facets/) capabilities for visualization."
   ]
  },
  {
   "cell_type": "code",
   "execution_count": 12,
   "metadata": {},
   "outputs": [
    {
     "data": {
      "text/html": [
       "<iframe id='facets-iframe' width=\"100%\" height=\"500px\"></iframe>\n",
       "        <script>\n",
       "        facets_iframe = document.getElementById('facets-iframe');\n",
       "        facets_html = '<link rel=\"import\" href=\"https://raw.githubusercontent.com/PAIR-code/facets/master/facets-dist/facets-jupyter.html\"><facets-overview proto-input=\"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\"></facets-overview>';\n",
       "        facets_iframe.contentWindow.document.write(facets_html);\n",
       "         facets_iframe.id = \"\";\n",
       "         setTimeout(() => {\n",
       "           facets_iframe.setAttribute('height', facets_iframe.contentWindow.document.body.offsetHeight + 'px')\n",
       "         }, 1500)\n",
       "         </script>"
      ],
      "text/plain": [
       "<IPython.core.display.HTML object>"
      ]
     },
     "metadata": {},
     "output_type": "display_data"
    }
   ],
   "source": [
    "stats = tfdv.load_statistics(stats_location)\n",
    "tfdv.visualize_statistics(stats)"
   ]
  },
  {
   "cell_type": "markdown",
   "metadata": {},
   "source": [
    "## 4. Generate Schema for the Data\n",
    "In this step, we generate schema for the data based on the statistics. The schema describes the data types, ranges, etc., which will be used for validating incoming new data. Before storing the generated schema to GCS, we can alter and extend this schema manually."
   ]
  },
  {
   "cell_type": "code",
   "execution_count": 58,
   "metadata": {},
   "outputs": [
    {
     "data": {
      "text/html": [
       "<div>\n",
       "<style scoped>\n",
       "    .dataframe tbody tr th:only-of-type {\n",
       "        vertical-align: middle;\n",
       "    }\n",
       "\n",
       "    .dataframe tbody tr th {\n",
       "        vertical-align: top;\n",
       "    }\n",
       "\n",
       "    .dataframe thead th {\n",
       "        text-align: right;\n",
       "    }\n",
       "</style>\n",
       "<table border=\"1\" class=\"dataframe\">\n",
       "  <thead>\n",
       "    <tr style=\"text-align: right;\">\n",
       "      <th></th>\n",
       "      <th>Type</th>\n",
       "      <th>Presence</th>\n",
       "      <th>Valency</th>\n",
       "      <th>Domain</th>\n",
       "    </tr>\n",
       "    <tr>\n",
       "      <th>Feature name</th>\n",
       "      <th></th>\n",
       "      <th></th>\n",
       "      <th></th>\n",
       "      <th></th>\n",
       "    </tr>\n",
       "  </thead>\n",
       "  <tbody>\n",
       "    <tr>\n",
       "      <th>'departure_time_slot'</th>\n",
       "      <td>STRING</td>\n",
       "      <td>required</td>\n",
       "      <td></td>\n",
       "      <td>'departure_time_slot'</td>\n",
       "    </tr>\n",
       "    <tr>\n",
       "      <th>'departure_schedule_hour'</th>\n",
       "      <td>INT</td>\n",
       "      <td>required</td>\n",
       "      <td></td>\n",
       "      <td>-</td>\n",
       "    </tr>\n",
       "    <tr>\n",
       "      <th>'departure_airport'</th>\n",
       "      <td>STRING</td>\n",
       "      <td>required</td>\n",
       "      <td></td>\n",
       "      <td>'departure_airport'</td>\n",
       "    </tr>\n",
       "    <tr>\n",
       "      <th>'arrival_delay'</th>\n",
       "      <td>FLOAT</td>\n",
       "      <td>required</td>\n",
       "      <td></td>\n",
       "      <td>-</td>\n",
       "    </tr>\n",
       "    <tr>\n",
       "      <th>'departure_schedule_minute'</th>\n",
       "      <td>INT</td>\n",
       "      <td>required</td>\n",
       "      <td></td>\n",
       "      <td>-</td>\n",
       "    </tr>\n",
       "    <tr>\n",
       "      <th>'airline'</th>\n",
       "      <td>STRING</td>\n",
       "      <td>required</td>\n",
       "      <td></td>\n",
       "      <td>'airline'</td>\n",
       "    </tr>\n",
       "    <tr>\n",
       "      <th>'flight_day'</th>\n",
       "      <td>INT</td>\n",
       "      <td>required</td>\n",
       "      <td></td>\n",
       "      <td>-</td>\n",
       "    </tr>\n",
       "    <tr>\n",
       "      <th>'flight_day_of_week'</th>\n",
       "      <td>STRING</td>\n",
       "      <td>required</td>\n",
       "      <td></td>\n",
       "      <td>'flight_day_of_week'</td>\n",
       "    </tr>\n",
       "    <tr>\n",
       "      <th>'flight_month'</th>\n",
       "      <td>STRING</td>\n",
       "      <td>required</td>\n",
       "      <td></td>\n",
       "      <td>'flight_month'</td>\n",
       "    </tr>\n",
       "    <tr>\n",
       "      <th>'departure_delay'</th>\n",
       "      <td>FLOAT</td>\n",
       "      <td>required</td>\n",
       "      <td></td>\n",
       "      <td>-</td>\n",
       "    </tr>\n",
       "    <tr>\n",
       "      <th>'flight_date'</th>\n",
       "      <td>BYTES</td>\n",
       "      <td>required</td>\n",
       "      <td></td>\n",
       "      <td>-</td>\n",
       "    </tr>\n",
       "  </tbody>\n",
       "</table>\n",
       "</div>"
      ],
      "text/plain": [
       "                               Type  Presence Valency                 Domain\n",
       "Feature name                                                                \n",
       "'departure_time_slot'        STRING  required          'departure_time_slot'\n",
       "'departure_schedule_hour'    INT     required          -                    \n",
       "'departure_airport'          STRING  required          'departure_airport'  \n",
       "'arrival_delay'              FLOAT   required          -                    \n",
       "'departure_schedule_minute'  INT     required          -                    \n",
       "'airline'                    STRING  required          'airline'            \n",
       "'flight_day'                 INT     required          -                    \n",
       "'flight_day_of_week'         STRING  required          'flight_day_of_week' \n",
       "'flight_month'               STRING  required          'flight_month'       \n",
       "'departure_delay'            FLOAT   required          -                    \n",
       "'flight_date'                BYTES   required          -                    "
      ]
     },
     "metadata": {},
     "output_type": "display_data"
    },
    {
     "data": {
      "text/html": [
       "<div>\n",
       "<style scoped>\n",
       "    .dataframe tbody tr th:only-of-type {\n",
       "        vertical-align: middle;\n",
       "    }\n",
       "\n",
       "    .dataframe tbody tr th {\n",
       "        vertical-align: top;\n",
       "    }\n",
       "\n",
       "    .dataframe thead th {\n",
       "        text-align: right;\n",
       "    }\n",
       "</style>\n",
       "<table border=\"1\" class=\"dataframe\">\n",
       "  <thead>\n",
       "    <tr style=\"text-align: right;\">\n",
       "      <th></th>\n",
       "      <th>Values</th>\n",
       "    </tr>\n",
       "    <tr>\n",
       "      <th>Domain</th>\n",
       "      <th></th>\n",
       "    </tr>\n",
       "  </thead>\n",
       "  <tbody>\n",
       "    <tr>\n",
       "      <th>'departure_time_slot'</th>\n",
       "      <td>'[12:00am - 6:00am]', '[12:00pm - 3:00pm]', '[3:00pm - 6:00pm]', '[6:00am - 9:00am]', '[6:00pm - 9:00pm]', '[9:00am - 12:pm]', '[9:00pm - 12:00am]'</td>\n",
       "    </tr>\n",
       "    <tr>\n",
       "      <th>'departure_airport'</th>\n",
       "      <td>'AVL', 'BGR', 'BHM', 'CAE', 'CHS', 'CLT', 'CMH', 'CVG', 'DEN', 'DTW', 'GSP', 'IAD', 'IAH', 'IND', 'LEX', 'LWB', 'MEM', 'MIA', 'MSP', 'ORF', 'PWM', 'RDU', 'RIC', 'SAV', 'SDF', 'TVC', 'TYS'</td>\n",
       "    </tr>\n",
       "    <tr>\n",
       "      <th>'airline'</th>\n",
       "      <td>'9E', 'AA', 'OO', 'YV'</td>\n",
       "    </tr>\n",
       "    <tr>\n",
       "      <th>'flight_day_of_week'</th>\n",
       "      <td>'Fri', 'Mon', 'Sat', 'Sun', 'Thu', 'Tue', 'Wed'</td>\n",
       "    </tr>\n",
       "    <tr>\n",
       "      <th>'flight_month'</th>\n",
       "      <td>'Apr', 'Aug', 'Dec', 'Feb', 'Jan', 'Jul', 'Jun', 'Mar', 'May', 'Nov', 'Oct', 'Sep'</td>\n",
       "    </tr>\n",
       "  </tbody>\n",
       "</table>\n",
       "</div>"
      ],
      "text/plain": [
       "                                                                                                                                                                                                            Values\n",
       "Domain                                                                                                                                                                                                            \n",
       "'departure_time_slot'  '[12:00am - 6:00am]', '[12:00pm - 3:00pm]', '[3:00pm - 6:00pm]', '[6:00am - 9:00am]', '[6:00pm - 9:00pm]', '[9:00am - 12:pm]', '[9:00pm - 12:00am]'                                        \n",
       "'departure_airport'    'AVL', 'BGR', 'BHM', 'CAE', 'CHS', 'CLT', 'CMH', 'CVG', 'DEN', 'DTW', 'GSP', 'IAD', 'IAH', 'IND', 'LEX', 'LWB', 'MEM', 'MIA', 'MSP', 'ORF', 'PWM', 'RDU', 'RIC', 'SAV', 'SDF', 'TVC', 'TYS'\n",
       "'airline'              '9E', 'AA', 'OO', 'YV'                                                                                                                                                                     \n",
       "'flight_day_of_week'   'Fri', 'Mon', 'Sat', 'Sun', 'Thu', 'Tue', 'Wed'                                                                                                                                            \n",
       "'flight_month'         'Apr', 'Aug', 'Dec', 'Feb', 'Jan', 'Jul', 'Jun', 'Mar', 'May', 'Nov', 'Oct', 'Sep'                                                                                                         "
      ]
     },
     "metadata": {},
     "output_type": "display_data"
    }
   ],
   "source": [
    "schema = tfdv.infer_schema(statistics=stats)\n",
    "tfdv.display_schema(schema=schema)"
   ]
  },
  {
   "cell_type": "markdown",
   "metadata": {},
   "source": [
    "### Fix and save the schema"
   ]
  },
  {
   "cell_type": "code",
   "execution_count": 91,
   "metadata": {},
   "outputs": [
    {
     "name": "stderr",
     "output_type": "stream",
     "text": [
      "WARNING:root:Replacing existing domain of feature \"departure_delay\".\n"
     ]
    }
   ],
   "source": [
    "from tensorflow_metadata.proto.v0 import schema_pb2\n",
    "\n",
    "departure_delay_domain = tfdv.utils.schema_util.schema_pb2.FloatDomain(\n",
    "    min=-60, # a flight can departure 1 hour earlier\n",
    "    max=480 # maximum departure delay is 8 hours, otherwise the flight is cancelled.\n",
    ")\n",
    "tfdv.set_domain(schema, 'departure_delay', departure_delay_domain)\n",
    "\n",
    "flight_month_feature = tfdv.get_feature(schema, 'flight_month')\n",
    "flight_month_feature.drift_comparator.infinity_norm.threshold = 0.001"
   ]
  },
  {
   "cell_type": "code",
   "execution_count": 92,
   "metadata": {},
   "outputs": [
    {
     "name": "stdout",
     "output_type": "stream",
     "text": [
      "Schema file saved to:./tfdv/schema/schema.pb\n"
     ]
    }
   ],
   "source": [
    "from tensorflow.python.lib.io import file_io\n",
    "from google.protobuf import text_format\n",
    "\n",
    "tf.gfile.MkDir(dirname=SCHEMA_DIR)\n",
    "schema_location = os.path.join(SCHEMA_DIR, 'schema.pb')\n",
    "tfdv.write_schema_text(schema, schema_location)\n",
    "print(\"Schema file saved to:{}\".format(schema_location))"
   ]
  },
  {
   "cell_type": "markdown",
   "metadata": {},
   "source": [
    "You can list saved schema file..."
   ]
  },
  {
   "cell_type": "code",
   "execution_count": 16,
   "metadata": {},
   "outputs": [
    {
     "name": "stdout",
     "output_type": "stream",
     "text": [
      "./tfdv/schema/schema.pb\r\n"
     ]
    }
   ],
   "source": [
    "!ls {schema_location}\n",
    "#!gsuitl ls {schema_location}"
   ]
  },
  {
   "cell_type": "markdown",
   "metadata": {},
   "source": [
    "## 5. Extract New Data\n",
    "\n",
    "In this step, we are going to extract new data from BigQuery and store it to GCS is TFRecord files. This will be flights data in **2012**, however, we are going to introduce the following alternation in the data schema and content to demonestrate types of anomalies to be detected via TFDV:\n",
    "1. Skip February data\n",
    "2. Introduce missing values to **airline**\n",
    "3. Add **is_weekend** column\n",
    "4. Convert the time solt (12:00am - 6:00am) to two time slots: (12:00am - 3:00am), (3:00am - 6:00am)\n",
    "5. Change the **departure_delay** values from minutes to seconds"
   ]
  },
  {
   "cell_type": "markdown",
   "metadata": {},
   "source": [
    "### Implementing the \"altered\" source query"
   ]
  },
  {
   "cell_type": "code",
   "execution_count": 71,
   "metadata": {},
   "outputs": [],
   "source": [
    "def generate_altered_query(date_from=None, date_to=None, limit=None):\n",
    "    query =\"\"\"\n",
    "        SELECT * FROM (\n",
    "            SELECT \n",
    "              CAST(date AS DATE) AS flight_date, \n",
    "              FORMAT_DATE('%b',  CAST(date AS DATE)) AS flight_month, \n",
    "              EXTRACT(DAY FROM CAST(date AS DATE)) AS flight_day, \n",
    "              FORMAT_DATE('%a',  CAST(date AS DATE)) AS flight_day_of_week, \n",
    "              CASE WHEN EXTRACT(DAYOFWEEK FROM CAST(date AS DATE)) IN (1 , 7) THEN 'Yes' ELSE 'No' END AS is_weekend,\n",
    "              CASE WHEN airline = 'MQ' THEN NULL ELSE airline END airline,\n",
    "              departure_airport,\n",
    "              CAST(SUBSTR(LPAD(CAST(departure_schedule AS STRING), 4, '0'), 0, 2) AS INT64) AS departure_schedule_hour, \n",
    "              CAST(SUBSTR(LPAD(CAST(departure_schedule AS STRING), 4, '0'), 3, 2) AS INT64) AS departure_schedule_minute, \n",
    "              CASE \n",
    "                WHEN departure_schedule BETWEEN 600 AND 900 THEN '[6:00am - 9:00am]'\n",
    "                WHEN departure_schedule BETWEEN 900 AND 1200 THEN '[9:00am - 12:pm]'\n",
    "                WHEN departure_schedule BETWEEN 1200 AND 1500 THEN '[12:00pm - 3:00pm]'\n",
    "                WHEN departure_schedule BETWEEN 1500 AND 1800 THEN '[3:00pm - 6:00pm]'\n",
    "                WHEN departure_schedule BETWEEN 1800 AND 2100 THEN '[6:00pm - 9:00pm]'\n",
    "                WHEN departure_schedule BETWEEN 2100 AND 2400 THEN '[9:00pm - 12:00am]'\n",
    "                WHEN departure_schedule BETWEEN 0000 AND 300 THEN '[12:00am - 3:00am]'\n",
    "                ELSE '[3:00am - 6:00am]'\n",
    "              END AS departure_time_slot,\n",
    "              departure_delay * 60 AS departure_delay,\n",
    "              arrival_delay\n",
    "            FROM \n",
    "              `bigquery-samples.airline_ontime_data.flights`\n",
    "            WHERE \n",
    "              EXTRACT(MONTH FROM CAST(date AS DATE)) != 2\n",
    "        )\n",
    "        \"\"\"\n",
    "    if date_from:\n",
    "        query += \"WHERE flight_date >= CAST('{}' as DATE) \\n\".format(date_from)\n",
    "        if date_to:\n",
    "            query += \"AND flight_date < CAST('{}' as DATE) \\n\".format(date_to)\n",
    "    elif date_to:\n",
    "        query += \"WHERE flight_date < CAST('{}' as DATE) \\n\".format(date_to)\n",
    "    \n",
    "    if limit:\n",
    "        query  += \"LIMIT {}\".format(limit)\n",
    "        \n",
    "    return query"
   ]
  },
  {
   "cell_type": "markdown",
   "metadata": {},
   "source": [
    "You can run the following cell to see a sample of the data to be extract..."
   ]
  },
  {
   "cell_type": "code",
   "execution_count": null,
   "metadata": {},
   "outputs": [],
   "source": [
    "bq_client = bigquery.Client() \n",
    "query_job = bq_client.query(query=generate_altered_query(limit=5), location='US') \n",
    "query_job.to_dataframe() "
   ]
  },
  {
   "cell_type": "markdown",
   "metadata": {},
   "source": [
    "### Run the pipeline"
   ]
  },
  {
   "cell_type": "code",
   "execution_count": 82,
   "metadata": {},
   "outputs": [
    {
     "name": "stdout",
     "output_type": "stream",
     "text": [
      "Data will be extracted to: ./tfdv/data/20120101-20121231/\n",
      "Generating altered source query...\n",
      "Retrieving data type...\n",
      "Pipeline args are set.\n"
     ]
    }
   ],
   "source": [
    "runner = 'DirectRunner' if LOCAL else 'DataflowRunner'\n",
    "job_name = 'tfdv-flights-data-extraction-{}'.format(datetime.utcnow().strftime('%y%m%d-%H%M%S'))\n",
    "date_from =  '2012-01-01'\n",
    "date_to = '2012-12-31'\n",
    "data_location = os.path.join(DATA_DIR, \n",
    "        \"{}-{}/\".format(date_from.replace('-',''), date_to.replace('-','')))\n",
    "print(\"Data will be extracted to: {}\".format(data_location))\n",
    "\n",
    "print(\"Generating altered source query...\")\n",
    "source_query = generate_altered_query(date_from, date_to, 10000)\n",
    "\n",
    "print(\"Retrieving data type...\")\n",
    "type_map = get_type_map(source_query)\n",
    "\n",
    "args = {\n",
    "    'job_name': job_name,\n",
    "    'runner': runner,\n",
    "    'source_query': source_query,\n",
    "    'type_map': type_map,\n",
    "    'sink_data_location': data_location,\n",
    "    'project': PROJECT_ID,\n",
    "    'region': REGION,\n",
    "    'staging_location': STAGING_DIR,\n",
    "    'temp_location': TEMP_DIR,\n",
    "    'save_main_session': True,\n",
    "    'setup_file': './setup.py'\n",
    "}\n",
    "print(\"Pipeline args are set.\")"
   ]
  },
  {
   "cell_type": "code",
   "execution_count": 83,
   "metadata": {},
   "outputs": [
    {
     "name": "stdout",
     "output_type": "stream",
     "text": [
      "Running data extraction pipeline...\n",
      "GoogleCloudOptions(dataflow_endpoint=https://dataflow.googleapis.com, job_name=tfdv-flights-data-extraction-190906-174407, labels=None, no_auth=False, project=validateflow, region=europe-west1, service_account_email=None, staging_location=./tfdv/job/staging/, temp_location=./tfdv/job/temp/, template_location=None)\n"
     ]
    },
    {
     "name": "stderr",
     "output_type": "stream",
     "text": [
      "WARNING:root:Dataset validateflow:temp_dataset_3ee9b25bf0ba49ed8dcf3aa8f610a7fb does not exist so we will create it as temporary with location=US\n"
     ]
    },
    {
     "name": "stdout",
     "output_type": "stream",
     "text": [
      "Pipeline is done.\n"
     ]
    }
   ],
   "source": [
    "print(\"Running data extraction pipeline...\")\n",
    "run_pipeline(args)\n",
    "print(\"Pipeline is done.\")"
   ]
  },
  {
   "cell_type": "markdown",
   "metadata": {},
   "source": [
    "You can list the extracted data files..."
   ]
  },
  {
   "cell_type": "code",
   "execution_count": 84,
   "metadata": {},
   "outputs": [
    {
     "name": "stdout",
     "output_type": "stream",
     "text": [
      "./tfdv/data//20100101-20111231:\r\n",
      "extract-00000-of-00010.tfrecords extract-00005-of-00010.tfrecords\r\n",
      "extract-00001-of-00010.tfrecords extract-00006-of-00010.tfrecords\r\n",
      "extract-00002-of-00010.tfrecords extract-00007-of-00010.tfrecords\r\n",
      "extract-00003-of-00010.tfrecords extract-00008-of-00010.tfrecords\r\n",
      "extract-00004-of-00010.tfrecords extract-00009-of-00010.tfrecords\r\n",
      "\r\n",
      "./tfdv/data//20120101-20121231:\r\n",
      "\u001b[34mbeam-temp-extract-79b6dcb3d0cd11e98a37784f439392c6\u001b[m\u001b[m\r\n",
      "extract-00000-of-00010.tfrecords\r\n",
      "extract-00001-of-00010.tfrecords\r\n",
      "extract-00002-of-00010.tfrecords\r\n",
      "extract-00003-of-00010.tfrecords\r\n",
      "extract-00004-of-00010.tfrecords\r\n",
      "extract-00005-of-00010.tfrecords\r\n",
      "extract-00006-of-00010.tfrecords\r\n",
      "extract-00007-of-00010.tfrecords\r\n",
      "extract-00008-of-00010.tfrecords\r\n",
      "extract-00009-of-00010.tfrecords\r\n"
     ]
    }
   ],
   "source": [
    "#!gsutil ls {DATA_DIR}/*\n",
    "!ls {DATA_DIR}/*"
   ]
  },
  {
   "cell_type": "markdown",
   "metadata": {},
   "source": [
    "### Generate statistics for the new data"
   ]
  },
  {
   "cell_type": "code",
   "execution_count": 85,
   "metadata": {},
   "outputs": [
    {
     "name": "stdout",
     "output_type": "stream",
     "text": [
      "Computing statistics...\n"
     ]
    },
    {
     "name": "stderr",
     "output_type": "stream",
     "text": [
      "WARNING:root:Deleting 1 existing files in target path matching: \n"
     ]
    },
    {
     "name": "stdout",
     "output_type": "stream",
     "text": [
      "Statistics are computed and saved to: ./tfdv/stats/new_stats.pb\n"
     ]
    }
   ],
   "source": [
    "job_name = 'tfdv-flights-stats-gen-{}'.format(datetime.utcnow().strftime('%y%m%d-%H%M%S'))\n",
    "args['job_name'] = job_name\n",
    "new_stats_location = os.path.join(STATS_DIR, 'new_stats.pb')\n",
    "\n",
    "print(\"Computing statistics...\")\n",
    "_ = tfdv.generate_statistics_from_tfrecord(\n",
    "    data_location=data_location, \n",
    "    output_path=new_stats_location,\n",
    "    stats_options=tfdv.StatsOptions(\n",
    "        sample_rate=1.\n",
    "    ),\n",
    "    pipeline_options = beam.options.pipeline_options.GoogleCloudOptions(**args)\n",
    ")\n",
    "\n",
    "print(\"Statistics are computed and saved to: {}\".format(new_stats_location))"
   ]
  },
  {
   "cell_type": "markdown",
   "metadata": {},
   "source": [
    "## 6. Validate the New Data and Identify Anomalies\n",
    "In this step, we are going to use the generated schema to validate the newly extracted data to identify if the data complies with the schema, or if there are any anomalies to be handled."
   ]
  },
  {
   "cell_type": "markdown",
   "metadata": {},
   "source": [
    "### Load Schema"
   ]
  },
  {
   "cell_type": "code",
   "execution_count": 86,
   "metadata": {},
   "outputs": [],
   "source": [
    "schema = tfdv.utils.schema_util.load_schema_text(schema_location)"
   ]
  },
  {
   "cell_type": "markdown",
   "metadata": {},
   "source": [
    "### Load data statistics"
   ]
  },
  {
   "cell_type": "code",
   "execution_count": 87,
   "metadata": {},
   "outputs": [],
   "source": [
    "stats = tfdv.load_statistics(stats_location)\n",
    "new_stats = tfdv.load_statistics(new_stats_location)"
   ]
  },
  {
   "cell_type": "markdown",
   "metadata": {},
   "source": [
    "### Validate new statistics against schema "
   ]
  },
  {
   "cell_type": "code",
   "execution_count": 93,
   "metadata": {},
   "outputs": [],
   "source": [
    "anomalies = tfdv.validate_statistics(\n",
    "    statistics=new_stats, \n",
    "    schema=schema,\n",
    "    previous_statistics=stats\n",
    ")"
   ]
  },
  {
   "cell_type": "markdown",
   "metadata": {},
   "source": [
    "### Display anomalies (if any)"
   ]
  },
  {
   "cell_type": "code",
   "execution_count": 94,
   "metadata": {},
   "outputs": [
    {
     "data": {
      "text/html": [
       "<div>\n",
       "<style scoped>\n",
       "    .dataframe tbody tr th:only-of-type {\n",
       "        vertical-align: middle;\n",
       "    }\n",
       "\n",
       "    .dataframe tbody tr th {\n",
       "        vertical-align: top;\n",
       "    }\n",
       "\n",
       "    .dataframe thead th {\n",
       "        text-align: right;\n",
       "    }\n",
       "</style>\n",
       "<table border=\"1\" class=\"dataframe\">\n",
       "  <thead>\n",
       "    <tr style=\"text-align: right;\">\n",
       "      <th></th>\n",
       "      <th>Anomaly short description</th>\n",
       "      <th>Anomaly long description</th>\n",
       "    </tr>\n",
       "    <tr>\n",
       "      <th>Feature name</th>\n",
       "      <th></th>\n",
       "      <th></th>\n",
       "    </tr>\n",
       "  </thead>\n",
       "  <tbody>\n",
       "    <tr>\n",
       "      <th>'departure_airport'</th>\n",
       "      <td>Unexpected string values</td>\n",
       "      <td>Examples contain values missing from the schema: DFW (~17%), EGE (&lt;1%), MCO (&lt;1%), ORD (~34%), STL (~3%).</td>\n",
       "    </tr>\n",
       "    <tr>\n",
       "      <th>'departure_delay'</th>\n",
       "      <td>Multiple errors</td>\n",
       "      <td>Unexpectedly low values: -1080&lt;-1080(upto six significant digits) Unexpectedly high value: 60660&gt;480(upto six significant digits)</td>\n",
       "    </tr>\n",
       "    <tr>\n",
       "      <th>'is_weekend'</th>\n",
       "      <td>New column</td>\n",
       "      <td>New column (column in data but not in schema)</td>\n",
       "    </tr>\n",
       "    <tr>\n",
       "      <th>'flight_month'</th>\n",
       "      <td>High Linfty distance between current and previous</td>\n",
       "      <td>The Linfty distance between current and previous is 0.0681896 (up to six significant digits), above the threshold 0.001. The feature value with maximum difference is: Feb</td>\n",
       "    </tr>\n",
       "  </tbody>\n",
       "</table>\n",
       "</div>"
      ],
      "text/plain": [
       "                                             Anomaly short description  \\\n",
       "Feature name                                                             \n",
       "'departure_airport'  Unexpected string values                            \n",
       "'departure_delay'    Multiple errors                                     \n",
       "'is_weekend'         New column                                          \n",
       "'flight_month'       High Linfty distance between current and previous   \n",
       "\n",
       "                                                                                                                                                                       Anomaly long description  \n",
       "Feature name                                                                                                                                                                                     \n",
       "'departure_airport'  Examples contain values missing from the schema: DFW (~17%), EGE (<1%), MCO (<1%), ORD (~34%), STL (~3%).                                                                   \n",
       "'departure_delay'    Unexpectedly low values: -1080<-1080(upto six significant digits) Unexpectedly high value: 60660>480(upto six significant digits)                                           \n",
       "'is_weekend'         New column (column in data but not in schema)                                                                                                                               \n",
       "'flight_month'       The Linfty distance between current and previous is 0.0681896 (up to six significant digits), above the threshold 0.001. The feature value with maximum difference is: Feb  "
      ]
     },
     "metadata": {},
     "output_type": "display_data"
    }
   ],
   "source": [
    "tfdv.display_anomalies(anomalies)"
   ]
  },
  {
   "cell_type": "markdown",
   "metadata": {},
   "source": [
    "## License\n",
    "\n",
    "Authors: Khalid Salama and Eric Evn der Knaap\n",
    "\n",
    "---\n",
    "\n",
    "**Disclaimer**: This is not an official Google product. The sample code provided for an educational purpose.\n",
    "\n",
    "---\n",
    "\n",
    "Copyright 2019 Google LLC\n",
    "\n",
    "Licensed under the Apache License, Version 2.0 (the \"License\"); you may not use this file except in compliance with the License. You may obtain a copy of the License at http://www.apache.org/licenses/LICENSE-2.0.\n",
    "\n",
    "Unless required by applicable law or agreed to in writing, software distributed under the License is distributed on an \"AS IS\" BASIS, WITHOUT WARRANTIES OR CONDITIONS OF ANY KIND, either express or implied. See the License for the specific language governing permissions and limitations under the License."
   ]
  },
  {
   "cell_type": "code",
   "execution_count": null,
   "metadata": {},
   "outputs": [],
   "source": []
  }
 ],
 "metadata": {
  "kernelspec": {
   "display_name": "Python 2",
   "language": "python",
   "name": "python2"
  },
  "language_info": {
   "codemirror_mode": {
    "name": "ipython",
    "version": 2
   },
   "file_extension": ".py",
   "mimetype": "text/x-python",
   "name": "python",
   "nbconvert_exporter": "python",
   "pygments_lexer": "ipython2",
   "version": "2.7.10"
  }
 },
 "nbformat": 4,
 "nbformat_minor": 2
}
